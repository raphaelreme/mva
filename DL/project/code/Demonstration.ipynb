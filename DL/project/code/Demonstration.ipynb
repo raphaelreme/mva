{
 "cells": [
  {
   "cell_type": "markdown",
   "metadata": {},
   "source": [
    "# Demonstration Notebook"
   ]
  },
  {
   "cell_type": "code",
   "execution_count": null,
   "metadata": {},
   "outputs": [],
   "source": [
    "import torch\n",
    "import numpy as np\n",
    "import matplotlib.pyplot as plt"
   ]
  },
  {
   "cell_type": "code",
   "execution_count": null,
   "metadata": {},
   "outputs": [],
   "source": [
    "import preprocess\n",
    "import data\n",
    "import model\n",
    "import train\n",
    "import loss"
   ]
  },
  {
   "cell_type": "markdown",
   "metadata": {},
   "source": [
    "## PreProcessing"
   ]
  },
  {
   "cell_type": "code",
   "execution_count": null,
   "metadata": {},
   "outputs": [],
   "source": [
    "# DATA_FOLDER Assume a train/val/test split of the files.\n",
    "DATA_FOLDER = \"/path/to/NinaProDB\"\n",
    "DB = \"DB7\""
   ]
  },
  {
   "cell_type": "code",
   "execution_count": null,
   "metadata": {},
   "outputs": [],
   "source": [
    "# Run once\n",
    "\n",
    "if False:\n",
    "    preprocess.NinaProPreprocessor(f\"{DATA_FOLDER}/train\", DB).preprocess()\n",
    "    preprocess.NinaProPreprocessor(f\"{DATA_FOLDER}/val\", DB).preprocess()\n",
    "    preprocess.NinaProPreprocessor(f\"{DATA_FOLDER}/test\", DB).preprocess()"
   ]
  },
  {
   "cell_type": "code",
   "execution_count": null,
   "metadata": {},
   "outputs": [],
   "source": [
    "# Load the datasets\n",
    "\n",
    "# 1s seq lengths\n",
    "train_dataset = data.SequenceDataset(f\"{DATA_FOLDER}/train\", seq_len=400)\n",
    "\n",
    "# No seq length => Take directly entire sequences\n",
    "train_testing_dataset = data.SequenceDataset(f\"{DATA_FOLDER}/train\")\n",
    "val_dataset= data.SequenceDataset(f\"{DATA_FOLDER}/val\")\n",
    "test_dataset= data.SequenceDataset(f\"{DATA_FOLDER}/test\")"
   ]
  },
  {
   "cell_type": "code",
   "execution_count": null,
   "metadata": {},
   "outputs": [],
   "source": [
    "# Compute mean and std\n",
    "\n",
    "size = 0\n",
    "mean_emg, mean_glove = 0, 0\n",
    "var_emg, var_glove = 0, 0\n",
    "for user in train_dataset.data:\n",
    "    s = user[\"emg\"].shape[0]\n",
    "    mean_emg += user[\"emg\"].sum(axis=0)\n",
    "    var_emg += user[\"emg\"].var(axis=0) * s\n",
    "    mean_glove += user[\"glove\"].sum(axis=0)\n",
    "    var_glove += user[\"glove\"].var(axis=0) * s\n",
    "    size += s\n",
    "\n",
    "mean_emg /= size\n",
    "mean_emg = mean_emg.astype(np.float32)\n",
    "var_emg /= size\n",
    "std_emg = np.sqrt(var_emg).astype(np.float32)\n",
    "\n",
    "mean_glove /= size\n",
    "mean_glove = mean_glove.astype(np.float32)\n",
    "var_glove /= size\n",
    "std_glove = np.sqrt(var_glove).astype(np.float32)\n",
    "\n",
    "mean_emg, std_emg, mean_glove, std_glove"
   ]
  },
  {
   "cell_type": "code",
   "execution_count": null,
   "metadata": {},
   "outputs": [],
   "source": [
    "# Standardize input data\n",
    "\n",
    "emg_normalizer = data.Normalizer(mean_emg, std_emg)\n",
    "train_dataset.transform({\"emg\": emg_normalizer})\n",
    "train_testing_dataset.transform({\"emg\": emg_normalizer})\n",
    "val_dataset.transform({\"emg\": emg_normalizer})\n",
    "test_dataset.transform({\"emg\": emg_normalizer})"
   ]
  },
  {
   "cell_type": "code",
   "execution_count": null,
   "metadata": {},
   "outputs": [],
   "source": [
    "# Compute mean baseline on all the datasets\n",
    "\n",
    "def baseline(mean, test_set):\n",
    "    loss = 0\n",
    "    size = 0\n",
    "    for _, _, glove in test_set:\n",
    "        size += glove.shape[0]\n",
    "        loss += np.abs((glove - mean)).sum()\n",
    "\n",
    "    return loss / size / glove.shape[-1]\n",
    "\n",
    "train_baseline = baseline(mean_glove, train_testing_dataset)\n",
    "val_baseline = baseline(mean_glove, val_dataset)\n",
    "test_baseline = baseline(mean_glove, test_dataset)\n",
    "\n",
    "train_baseline, val_baseline, test_baseline"
   ]
  },
  {
   "cell_type": "markdown",
   "metadata": {},
   "source": [
    "## Training "
   ]
  },
  {
   "cell_type": "code",
   "execution_count": null,
   "metadata": {},
   "outputs": [],
   "source": [
    "# Data loaders\n",
    "\n",
    "batch = 256\n",
    "train_loader = torch.utils.data.DataLoader(train_dataset, shuffle=True, batch_size=batch, drop_last=True)\n",
    "\n",
    "# Use batch of 1. As sequence have not the same size (full exercise sequence here)\n",
    "val_loader = torch.utils.data.DataLoader(val_dataset, shuffle=False, batch_size=1)\n",
    "test_loader = torch.utils.data.DataLoader(test_dataset, shuffle=False, batch_size=1)\n",
    "train_testing_loader = torch.utils.data.DataLoader(train_testing_dataset, shuffle=False, batch_size=1)"
   ]
  },
  {
   "cell_type": "code",
   "execution_count": null,
   "metadata": {},
   "outputs": [],
   "source": [
    "# Define the model\n",
    "\n",
    "device = torch.device(\"cuda\") if torch.cuda.is_available() else torch.device(\"cpu\")\n",
    "print(device)\n",
    "\n",
    "m = model.LSTMModel(12, 128, 18, 1, 0.5)\n",
    "m.to(device)"
   ]
  },
  {
   "cell_type": "code",
   "execution_count": null,
   "metadata": {},
   "outputs": [],
   "source": [
    "# Training loop\n",
    "\n",
    "optimizer = torch.optim.Adam(m.parameters(), lr=0.001)\n",
    "train_criterion = loss.MovementLoss(2, decay_power=1)\n",
    "val_criterion = torch.nn.L1Loss(reduction=\"sum\")\n",
    "\n",
    "losses = []\n",
    "\n",
    "for e in range(10):\n",
    "    print(f\"Epoch {e}:\")\n",
    "    train.train(m, train_loader, optimizer, train_criterion, e, device, logging_freq=100)\n",
    "    losses.append(train.validation(m, val_loader, val_criterion, device))\n",
    "    torch.save(m.state_dict(), f\"model_{e}.pt\")"
   ]
  },
  {
   "cell_type": "code",
   "execution_count": null,
   "metadata": {},
   "outputs": [],
   "source": [
    "# Load a specific epoch [optional]\n",
    "# e = XXX\n",
    "m.load_state_dict(torch.load(f\"model_{e}.pt\"))"
   ]
  },
  {
   "cell_type": "markdown",
   "metadata": {},
   "source": [
    "# Evaluate"
   ]
  },
  {
   "cell_type": "code",
   "execution_count": null,
   "metadata": {},
   "outputs": [],
   "source": [
    "# Evaluate on test set\n",
    "train.validation(m, test_loader, val_criterion, device)"
   ]
  },
  {
   "cell_type": "code",
   "execution_count": null,
   "metadata": {},
   "outputs": [],
   "source": [
    "# Evaluate on train set to check that we did at least beat the mean baseline here\n",
    "train.validation(m, train_testing_loader, val_criterion, device)"
   ]
  },
  {
   "cell_type": "markdown",
   "metadata": {},
   "source": [
    "## Plots"
   ]
  },
  {
   "cell_type": "code",
   "execution_count": null,
   "metadata": {},
   "outputs": [],
   "source": [
    "# Validation loss versus mean baseline\n",
    "\n",
    "plt.title(\"Evolution of validation loss (MAE) during training\")\n",
    "\n",
    "plt.xlabel(\"Epoch\")\n",
    "plt.ylabel(\"MAE\")\n",
    "plt.ylim(8, 22)\n",
    "plt.plot(range(1, 11), losses)\n",
    "plt.plot(range(1, 11), [val_baseline]*10)\n",
    "plt.legend()\n",
    "plt.show()"
   ]
  },
  {
   "cell_type": "code",
   "execution_count": null,
   "metadata": {},
   "outputs": [],
   "source": [
    "# Check predictions\n",
    "\n",
    "# emg, stimulus, glove = train_testing_dataset.data[0]\n",
    "emg, stimulus, glove = val_dataset[0]\n",
    "input_ = torch.FloatTensor(emg[None, ...]).to(device)\n",
    "glove_p = m(input_)[0][0].cpu().detach().numpy()"
   ]
  },
  {
   "cell_type": "code",
   "execution_count": null,
   "metadata": {},
   "outputs": [],
   "source": [
    "# Plot the glove angles over 80 seconds from timestamp 120\n",
    "\n",
    "start = 120 * 400\n",
    "delta = 80 * 400\n",
    "\n",
    "plt.plot(np.arange(start, start + delta)/400, glove[start:(start+delta)][:,:5])\n",
    "plt.show()"
   ]
  },
  {
   "cell_type": "code",
   "execution_count": null,
   "metadata": {},
   "outputs": [],
   "source": [
    "# Compare with the predicted one\n",
    "\n",
    "plt.plot(np.arange(start, start + delta)/400, glove_p[start:(start+delta)][:,:5])\n",
    "plt.show()"
   ]
  },
  {
   "cell_type": "code",
   "execution_count": null,
   "metadata": {},
   "outputs": [],
   "source": [
    "# Focus a particular glove angle.\n",
    "\n",
    "plt.plot(np.arange(start, start + delta)/400, glove[start:(start+delta),10])\n",
    "plt.plot(np.arange(start, start + delta)/400, glove_p[start:(start+delta),10])\n",
    "plt.show()"
   ]
  }
 ],
 "metadata": {
  "kernelspec": {
   "display_name": "Python 3",
   "language": "python",
   "name": "python3"
  },
  "language_info": {
   "codemirror_mode": {
    "name": "ipython",
    "version": 3
   },
   "file_extension": ".py",
   "mimetype": "text/x-python",
   "name": "python",
   "nbconvert_exporter": "python",
   "pygments_lexer": "ipython3",
   "version": "3.8.5"
  }
 },
 "nbformat": 4,
 "nbformat_minor": 4
}
