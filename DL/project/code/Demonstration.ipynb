{
 "cells": [
  {
   "cell_type": "markdown",
   "metadata": {
    "id": "zr1Al2OgakGP"
   },
   "source": [
    "# Demonstration Notebook"
   ]
  },
  {
   "cell_type": "code",
   "execution_count": 1,
   "metadata": {
    "id": "xiRUqZ0SakGV"
   },
   "outputs": [],
   "source": [
    "import torch\n",
    "import numpy as np\n",
    "import matplotlib.pyplot as plt"
   ]
  },
  {
   "cell_type": "code",
   "execution_count": 2,
   "metadata": {
    "id": "kmlKr0orakGW"
   },
   "outputs": [],
   "source": [
    "# Load all our code\n",
    "\n",
    "import preprocess\n",
    "import data\n",
    "import model\n",
    "import train\n",
    "import loss"
   ]
  },
  {
   "cell_type": "markdown",
   "metadata": {
    "id": "qUTXTV4IakGX"
   },
   "source": [
    "## PreProcessing"
   ]
  },
  {
   "cell_type": "code",
   "execution_count": 3,
   "metadata": {
    "id": "bwbXg9OaakGY"
   },
   "outputs": [],
   "source": [
    "# DATA_FOLDER Assume a train/val/test split of the files.\n",
    "\n",
    "DATA_FOLDER = \"path/to/NinaPro/DB\"\n",
    "DB = \"DB7\""
   ]
  },
  {
   "cell_type": "code",
   "execution_count": null,
   "metadata": {
    "id": "L-xnGvO0akGY",
    "outputId": "8280afcc-f827-49d0-cba6-1bf2de264444"
   },
   "outputs": [
    {
     "name": "stdout",
     "output_type": "stream",
     "text": [
      "S10_E1_A1.mat\n",
      "S10_E2_A1.mat\n",
      "S16_E1_A1.mat\n",
      "S16_E2_A1.mat\n",
      "S18_E1_A1.mat\n",
      "S18_E2_A1.mat\n",
      "S19_E1_A1.mat\n",
      "S19_E2_A1.mat\n",
      "S1_E1_A1.mat\n",
      "S1_E2_A1.mat\n",
      "S20_E1_A1.mat\n",
      "S20_E2_A1.mat\n",
      "S21_E1_A1.mat\n",
      "WARNIING: Missing key glove in S21_E1_A1.mat! Skipping it.\n",
      "S21_E2_A1.mat\n",
      "WARNIING: Missing key glove in S21_E2_A1.mat! Skipping it.\n",
      "S2_E1_A1.mat\n",
      "S2_E2_A1.mat\n",
      "S3_E1_A1.mat\n",
      "S3_E2_A1.mat\n",
      "S4_E1_A1.mat\n",
      "S4_E2_A1.mat\n",
      "S7_E1_A1.mat\n",
      "S7_E2_A1.mat\n",
      "S11_E1_A1.mat\n",
      "S11_E2_A1.mat\n",
      "S13_E1_A1.mat\n",
      "S13_E2_A1.mat\n",
      "S22_E1_A1.mat\n",
      "WARNIING: Missing key glove in S22_E1_A1.mat! Skipping it.\n",
      "S22_E2_A1.mat\n",
      "WARNIING: Missing key glove in S22_E2_A1.mat! Skipping it.\n",
      "S6_E1_A1.mat\n",
      "S6_E2_A1.mat\n",
      "S8_E1_A1.mat\n",
      "S8_E2_A1.mat\n",
      "S12_E1_A1.mat\n",
      "S12_E2_A1.mat\n",
      "S14_E1_A1.mat\n",
      "S14_E2_A1.mat\n",
      "S15_E1_A1.mat\n",
      "S15_E2_A1.mat\n",
      "S17_E1_A1.mat\n",
      "S17_E2_A1.mat\n",
      "S5_E1_A1.mat\n",
      "S5_E2_A1.mat\n",
      "S9_E1_A1.mat\n",
      "S9_E2_A1.mat\n"
     ]
    }
   ],
   "source": [
    "# Run once\n",
    "\n",
    "if False:\n",
    "    preprocess.NinaProPreprocessor(f\"{DATA_FOLDER}/train\", DB).preprocess()\n",
    "    preprocess.NinaProPreprocessor(f\"{DATA_FOLDER}/val\", DB).preprocess()\n",
    "    preprocess.NinaProPreprocessor(f\"{DATA_FOLDER}/test\", DB).preprocess()"
   ]
  },
  {
   "cell_type": "code",
   "execution_count": 5,
   "metadata": {
    "colab": {
     "base_uri": "https://localhost:8080/"
    },
    "id": "a5rNjunmakGa",
    "outputId": "addfc0e3-f30f-477f-dcf6-0281a03ebef8"
   },
   "outputs": [
    {
     "name": "stdout",
     "output_type": "stream",
     "text": [
      "S10_E1_A1.npz\n",
      "S10_E2_A1.npz\n",
      "S16_E1_A1.npz\n",
      "S16_E2_A1.npz\n",
      "S18_E1_A1.npz\n",
      "S18_E2_A1.npz\n",
      "S19_E1_A1.npz\n",
      "S19_E2_A1.npz\n",
      "S1_E1_A1.npz\n",
      "S1_E2_A1.npz\n",
      "S20_E1_A1.npz\n",
      "S20_E2_A1.npz\n",
      "S2_E1_A1.npz\n",
      "S2_E2_A1.npz\n",
      "S3_E1_A1.npz\n",
      "S3_E2_A1.npz\n",
      "S4_E1_A1.npz\n",
      "S4_E2_A1.npz\n",
      "S7_E1_A1.npz\n",
      "S7_E2_A1.npz\n",
      "S10_E1_A1.npz\n",
      "S10_E2_A1.npz\n",
      "S16_E1_A1.npz\n",
      "S16_E2_A1.npz\n",
      "S18_E1_A1.npz\n",
      "S18_E2_A1.npz\n",
      "S19_E1_A1.npz\n",
      "S19_E2_A1.npz\n",
      "S1_E1_A1.npz\n",
      "S1_E2_A1.npz\n",
      "S20_E1_A1.npz\n",
      "S20_E2_A1.npz\n",
      "S2_E1_A1.npz\n",
      "S2_E2_A1.npz\n",
      "S3_E1_A1.npz\n",
      "S3_E2_A1.npz\n",
      "S4_E1_A1.npz\n",
      "S4_E2_A1.npz\n",
      "S7_E1_A1.npz\n",
      "S7_E2_A1.npz\n",
      "S11_E1_A1.npz\n",
      "S11_E2_A1.npz\n",
      "S13_E1_A1.npz\n",
      "S13_E2_A1.npz\n",
      "S6_E1_A1.npz\n",
      "S6_E2_A1.npz\n",
      "S8_E1_A1.npz\n",
      "S8_E2_A1.npz\n",
      "S12_E1_A1.npz\n",
      "S12_E2_A1.npz\n",
      "S14_E1_A1.npz\n",
      "S14_E2_A1.npz\n",
      "S15_E1_A1.npz\n",
      "S15_E2_A1.npz\n",
      "S17_E1_A1.npz\n",
      "S17_E2_A1.npz\n",
      "S5_E1_A1.npz\n",
      "S5_E2_A1.npz\n",
      "S9_E1_A1.npz\n",
      "S9_E2_A1.npz\n"
     ]
    }
   ],
   "source": [
    "# Load the datasets\n",
    "\n",
    "# 1s seq lengths\n",
    "train_dataset = data.SequenceDataset(f\"{DATA_FOLDER}/train\", seq_len=400)\n",
    "\n",
    "# No seq length => Take directly entire sequences\n",
    "train_testing_dataset = data.SequenceDataset(f\"{DATA_FOLDER}/train\")\n",
    "val_dataset= data.SequenceDataset(f\"{DATA_FOLDER}/val\")\n",
    "test_dataset= data.SequenceDataset(f\"{DATA_FOLDER}/test\")"
   ]
  },
  {
   "cell_type": "code",
   "execution_count": 6,
   "metadata": {
    "colab": {
     "base_uri": "https://localhost:8080/"
    },
    "id": "oBreYzNJakGb",
    "outputId": "c78846a4-c257-4483-ae31-220bc54d8994"
   },
   "outputs": [
    {
     "data": {
      "text/plain": [
       "(array([ 2.2313735e-07, -3.1442204e-07,  1.6850504e-07, -4.7941611e-09,\n",
       "         5.8433325e-09, -2.7219210e-08,  9.6096983e-08,  1.5596912e-07,\n",
       "        -2.1100456e-08, -1.0721238e-09, -9.1652108e-09,  1.7289223e-07],\n",
       "       dtype=float32),\n",
       " array([4.0994350e-05, 4.1789870e-05, 3.7992831e-05, 9.3620965e-06,\n",
       "        2.0401958e-05, 3.5908692e-05, 2.3508852e-05, 3.9665771e-05,\n",
       "        2.4492954e-05, 4.3591033e-05, 1.3078624e-05, 1.1257715e-05],\n",
       "       dtype=float32),\n",
       " array([  14.868566 ,  -12.0781355,   -7.432492 ,  -17.600767 ,\n",
       "          18.685097 ,   26.666077 ,   34.314037 ,   48.66511  ,\n",
       "        -120.71939  ,   26.20249  ,   57.16536  , -117.74066  ,\n",
       "          24.090275 ,   77.174576 ,  -85.49154  ,    2.0168169,\n",
       "         -66.30819  ,  -69.81177  ], dtype=float32),\n",
       " array([23.149239 ,  9.66464  , 14.860536 ,  7.059785 , 15.753144 ,\n",
       "        20.348875 , 23.288733 , 21.903776 ,  2.7466004, 19.342531 ,\n",
       "        26.53861  ,  8.006852 , 24.897646 , 37.460354 ,  3.8170683,\n",
       "        17.174938 ,  3.9906251,  3.8492568], dtype=float32))"
      ]
     },
     "execution_count": 6,
     "metadata": {
      "tags": []
     },
     "output_type": "execute_result"
    }
   ],
   "source": [
    "# Compute mean and std\n",
    "\n",
    "size = 0\n",
    "mean_emg, mean_glove = 0, 0\n",
    "var_emg, var_glove = 0, 0\n",
    "for user in train_dataset.data:\n",
    "    s = user[\"emg\"].shape[0]\n",
    "    mean_emg += user[\"emg\"].sum(axis=0)\n",
    "    var_emg += user[\"emg\"].var(axis=0) * s\n",
    "    mean_glove += user[\"glove\"].sum(axis=0)\n",
    "    var_glove += user[\"glove\"].var(axis=0) * s\n",
    "    size += s\n",
    "\n",
    "mean_emg /= size\n",
    "mean_emg = mean_emg.astype(np.float32)\n",
    "var_emg /= size\n",
    "std_emg = np.sqrt(var_emg).astype(np.float32)\n",
    "\n",
    "mean_glove /= size\n",
    "mean_glove = mean_glove.astype(np.float32)\n",
    "var_glove /= size\n",
    "std_glove = np.sqrt(var_glove).astype(np.float32)\n",
    "\n",
    "mean_emg, std_emg, mean_glove, std_glove"
   ]
  },
  {
   "cell_type": "code",
   "execution_count": 7,
   "metadata": {
    "id": "We0WSHGXakGb"
   },
   "outputs": [],
   "source": [
    "# Standardize input data\n",
    "\n",
    "emg_normalizer = data.Normalizer(mean_emg, std_emg)\n",
    "train_dataset.transform({\"emg\": emg_normalizer})\n",
    "train_testing_dataset.transform({\"emg\": emg_normalizer})\n",
    "val_dataset.transform({\"emg\": emg_normalizer})\n",
    "test_dataset.transform({\"emg\": emg_normalizer})"
   ]
  },
  {
   "cell_type": "code",
   "execution_count": 8,
   "metadata": {
    "colab": {
     "base_uri": "https://localhost:8080/"
    },
    "id": "IODVndpqakGb",
    "outputId": "bbbbdd7d-dcf7-42f2-da65-7f3cd7e2947a"
   },
   "outputs": [
    {
     "data": {
      "text/plain": [
       "(14.311668347196921, 14.940329707795293, 15.423912630348958)"
      ]
     },
     "execution_count": 8,
     "metadata": {
      "tags": []
     },
     "output_type": "execute_result"
    }
   ],
   "source": [
    "# Compute mean baseline on all the datasets\n",
    "\n",
    "def baseline(mean, test_set):\n",
    "    loss = 0\n",
    "    size = 0\n",
    "    for _, _, glove in test_set:\n",
    "        size += glove.shape[0]\n",
    "        loss += np.abs((glove - mean)).sum()\n",
    "\n",
    "    return loss / size / glove.shape[-1]\n",
    "\n",
    "train_baseline = baseline(mean_glove, train_testing_dataset)\n",
    "val_baseline = baseline(mean_glove, val_dataset)\n",
    "test_baseline = baseline(mean_glove, test_dataset)\n",
    "\n",
    "train_baseline, val_baseline, test_baseline"
   ]
  },
  {
   "cell_type": "markdown",
   "metadata": {
    "id": "-x40Z5RuakGd"
   },
   "source": [
    "## Training "
   ]
  },
  {
   "cell_type": "code",
   "execution_count": 33,
   "metadata": {
    "id": "vMexiEbvakGe"
   },
   "outputs": [],
   "source": [
    "# Data loaders\n",
    "\n",
    "batch = 2048\n",
    "train_loader = torch.utils.data.DataLoader(train_dataset, shuffle=True, batch_size=batch, drop_last=True)\n",
    "\n",
    "# Use batch of 1. As sequence have not the same size (full exercise sequence here)\n",
    "val_loader = torch.utils.data.DataLoader(val_dataset, shuffle=False, batch_size=1)\n",
    "test_loader = torch.utils.data.DataLoader(test_dataset, shuffle=False, batch_size=1)\n",
    "train_testing_loader = torch.utils.data.DataLoader(train_testing_dataset, shuffle=False, batch_size=1)"
   ]
  },
  {
   "cell_type": "code",
   "execution_count": 34,
   "metadata": {
    "colab": {
     "base_uri": "https://localhost:8080/"
    },
    "id": "qQPBq0grakGe",
    "outputId": "7bbd1dc2-eb11-4540-9c9b-a7804918088a"
   },
   "outputs": [
    {
     "name": "stdout",
     "output_type": "stream",
     "text": [
      "cuda\n"
     ]
    },
    {
     "data": {
      "text/plain": [
       "LSTMModel(\n",
       "  (dropout): Dropout(p=0.5, inplace=False)\n",
       "  (lstm): LSTM(12, 128, batch_first=True)\n",
       "  (fc): Linear(in_features=128, out_features=18, bias=True)\n",
       ")"
      ]
     },
     "execution_count": 34,
     "metadata": {
      "tags": []
     },
     "output_type": "execute_result"
    }
   ],
   "source": [
    "# Define the model\n",
    "\n",
    "device = torch.device(\"cuda\") if torch.cuda.is_available() else torch.device(\"cpu\")\n",
    "print(device)\n",
    "\n",
    "m = model.LSTMModel(12, 128, 18, 1, 0.5)\n",
    "m.to(device)"
   ]
  },
  {
   "cell_type": "code",
   "execution_count": 35,
   "metadata": {
    "colab": {
     "base_uri": "https://localhost:8080/"
    },
    "id": "ARihCam3QPi4",
    "outputId": "f3413686-4f9f-4d77-e61b-6226f70bd199"
   },
   "outputs": [
    {
     "name": "stdout",
     "output_type": "stream",
     "text": [
      "Epoch 0:\n",
      "Train Epoch: 0 [0/8649651 (0%)]\tLoss: 1124.235474\n",
      "Train Epoch: 0 [204800/8649651 (2%)]\tLoss: 740.859436\n",
      "Train Epoch: 0 [409600/8649651 (5%)]\tLoss: 568.068909\n",
      "Train Epoch: 0 [614400/8649651 (7%)]\tLoss: 463.537567\n",
      "Train Epoch: 0 [819200/8649651 (9%)]\tLoss: 405.793701\n",
      "Train Epoch: 0 [1024000/8649651 (12%)]\tLoss: 459.455292\n",
      "Train Epoch: 0 [1228800/8649651 (14%)]\tLoss: 457.308197\n",
      "Train Epoch: 0 [1433600/8649651 (17%)]\tLoss: 276.424469\n",
      "Train Epoch: 0 [1638400/8649651 (19%)]\tLoss: 255.389786\n",
      "Train Epoch: 0 [1843200/8649651 (21%)]\tLoss: 247.739761\n",
      "Train Epoch: 0 [2048000/8649651 (24%)]\tLoss: 228.908722\n",
      "Train Epoch: 0 [2252800/8649651 (26%)]\tLoss: 216.759033\n",
      "Train Epoch: 0 [2457600/8649651 (28%)]\tLoss: 220.210922\n",
      "Train Epoch: 0 [2662400/8649651 (31%)]\tLoss: 209.873505\n",
      "Train Epoch: 0 [2867200/8649651 (33%)]\tLoss: 258.628601\n",
      "Train Epoch: 0 [3072000/8649651 (36%)]\tLoss: 239.312881\n",
      "Train Epoch: 0 [3276800/8649651 (38%)]\tLoss: 218.400040\n",
      "Train Epoch: 0 [3481600/8649651 (40%)]\tLoss: 208.039871\n",
      "Train Epoch: 0 [3686400/8649651 (43%)]\tLoss: 216.357849\n",
      "Train Epoch: 0 [3891200/8649651 (45%)]\tLoss: 216.205002\n",
      "Train Epoch: 0 [4096000/8649651 (47%)]\tLoss: 206.209671\n",
      "Train Epoch: 0 [4300800/8649651 (50%)]\tLoss: 298.042114\n",
      "Train Epoch: 0 [4505600/8649651 (52%)]\tLoss: 215.167435\n",
      "Train Epoch: 0 [4710400/8649651 (54%)]\tLoss: 200.514557\n",
      "Train Epoch: 0 [4915200/8649651 (57%)]\tLoss: 194.977463\n",
      "Train Epoch: 0 [5120000/8649651 (59%)]\tLoss: 186.597824\n",
      "Train Epoch: 0 [5324800/8649651 (62%)]\tLoss: 196.846268\n",
      "Train Epoch: 0 [5529600/8649651 (64%)]\tLoss: 189.395294\n",
      "Train Epoch: 0 [5734400/8649651 (66%)]\tLoss: 184.711533\n",
      "Train Epoch: 0 [5939200/8649651 (69%)]\tLoss: 176.938828\n",
      "Train Epoch: 0 [6144000/8649651 (71%)]\tLoss: 187.724274\n",
      "Train Epoch: 0 [6348800/8649651 (73%)]\tLoss: 185.753159\n",
      "Train Epoch: 0 [6553600/8649651 (76%)]\tLoss: 189.033905\n",
      "Train Epoch: 0 [6758400/8649651 (78%)]\tLoss: 178.666809\n",
      "Train Epoch: 0 [6963200/8649651 (81%)]\tLoss: 188.315033\n",
      "Train Epoch: 0 [7168000/8649651 (83%)]\tLoss: 194.710510\n",
      "Train Epoch: 0 [7372800/8649651 (85%)]\tLoss: 182.855850\n",
      "Train Epoch: 0 [7577600/8649651 (88%)]\tLoss: 175.957748\n",
      "Train Epoch: 0 [7782400/8649651 (90%)]\tLoss: 166.438660\n",
      "Train Epoch: 0 [7987200/8649651 (92%)]\tLoss: 178.022919\n",
      "Train Epoch: 0 [8192000/8649651 (95%)]\tLoss: 167.974442\n",
      "Train Epoch: 0 [8396800/8649651 (97%)]\tLoss: 185.865265\n",
      "Train Epoch: 0 [8601600/8649651 (99%)]\tLoss: 182.485214\n",
      "\n",
      "Validation set: Average loss: 15.3947\n",
      "Epoch 1:\n",
      "Train Epoch: 1 [0/8649651 (0%)]\tLoss: 185.322647\n",
      "Train Epoch: 1 [204800/8649651 (2%)]\tLoss: 164.876663\n",
      "Train Epoch: 1 [409600/8649651 (5%)]\tLoss: 176.525909\n",
      "Train Epoch: 1 [614400/8649651 (7%)]\tLoss: 157.478470\n",
      "Train Epoch: 1 [819200/8649651 (9%)]\tLoss: 157.394547\n",
      "Train Epoch: 1 [1024000/8649651 (12%)]\tLoss: 163.503540\n",
      "Train Epoch: 1 [1228800/8649651 (14%)]\tLoss: 145.012497\n",
      "Train Epoch: 1 [1433600/8649651 (17%)]\tLoss: 156.669067\n",
      "Train Epoch: 1 [1638400/8649651 (19%)]\tLoss: 152.987228\n",
      "Train Epoch: 1 [1843200/8649651 (21%)]\tLoss: 180.905701\n",
      "Train Epoch: 1 [2048000/8649651 (24%)]\tLoss: 159.746948\n",
      "Train Epoch: 1 [2252800/8649651 (26%)]\tLoss: 155.577744\n",
      "Train Epoch: 1 [2457600/8649651 (28%)]\tLoss: 140.378189\n",
      "Train Epoch: 1 [2662400/8649651 (31%)]\tLoss: 132.181458\n",
      "Train Epoch: 1 [2867200/8649651 (33%)]\tLoss: 146.268585\n",
      "Train Epoch: 1 [3072000/8649651 (36%)]\tLoss: 148.457336\n",
      "Train Epoch: 1 [3276800/8649651 (38%)]\tLoss: 132.681732\n",
      "Train Epoch: 1 [3481600/8649651 (40%)]\tLoss: 147.271606\n",
      "Train Epoch: 1 [3686400/8649651 (43%)]\tLoss: 143.996353\n",
      "Train Epoch: 1 [3891200/8649651 (45%)]\tLoss: 141.074142\n",
      "Train Epoch: 1 [4096000/8649651 (47%)]\tLoss: 158.903183\n",
      "Train Epoch: 1 [4300800/8649651 (50%)]\tLoss: 139.311722\n",
      "Train Epoch: 1 [4505600/8649651 (52%)]\tLoss: 130.150162\n",
      "Train Epoch: 1 [4710400/8649651 (54%)]\tLoss: 128.781067\n",
      "Train Epoch: 1 [4915200/8649651 (57%)]\tLoss: 132.249878\n",
      "Train Epoch: 1 [5120000/8649651 (59%)]\tLoss: 129.247726\n",
      "Train Epoch: 1 [5324800/8649651 (62%)]\tLoss: 127.662666\n",
      "Train Epoch: 1 [5529600/8649651 (64%)]\tLoss: 129.891220\n",
      "Train Epoch: 1 [5734400/8649651 (66%)]\tLoss: 137.092270\n",
      "Train Epoch: 1 [5939200/8649651 (69%)]\tLoss: 126.132599\n",
      "Train Epoch: 1 [6144000/8649651 (71%)]\tLoss: 129.695953\n",
      "Train Epoch: 1 [6348800/8649651 (73%)]\tLoss: 123.744156\n",
      "Train Epoch: 1 [6553600/8649651 (76%)]\tLoss: 135.917328\n",
      "Train Epoch: 1 [6758400/8649651 (78%)]\tLoss: 117.767372\n",
      "Train Epoch: 1 [6963200/8649651 (81%)]\tLoss: 124.653168\n",
      "Train Epoch: 1 [7168000/8649651 (83%)]\tLoss: 135.411072\n",
      "Train Epoch: 1 [7372800/8649651 (85%)]\tLoss: 121.703583\n",
      "Train Epoch: 1 [7577600/8649651 (88%)]\tLoss: 120.315971\n",
      "Train Epoch: 1 [7782400/8649651 (90%)]\tLoss: 122.378082\n",
      "Train Epoch: 1 [7987200/8649651 (92%)]\tLoss: 114.510872\n",
      "Train Epoch: 1 [8192000/8649651 (95%)]\tLoss: 129.981644\n",
      "Train Epoch: 1 [8396800/8649651 (97%)]\tLoss: 115.961823\n",
      "Train Epoch: 1 [8601600/8649651 (99%)]\tLoss: 119.950943\n",
      "\n",
      "Validation set: Average loss: 14.3364\n",
      "Epoch 2:\n",
      "Train Epoch: 2 [0/8649651 (0%)]\tLoss: 114.859306\n",
      "Train Epoch: 2 [204800/8649651 (2%)]\tLoss: 111.320320\n",
      "Train Epoch: 2 [409600/8649651 (5%)]\tLoss: 112.080521\n",
      "Train Epoch: 2 [614400/8649651 (7%)]\tLoss: 133.666245\n",
      "Train Epoch: 2 [819200/8649651 (9%)]\tLoss: 120.518234\n",
      "Train Epoch: 2 [1024000/8649651 (12%)]\tLoss: 120.955956\n",
      "Train Epoch: 2 [1228800/8649651 (14%)]\tLoss: 116.651146\n",
      "Train Epoch: 2 [1433600/8649651 (17%)]\tLoss: 118.954613\n",
      "Train Epoch: 2 [1638400/8649651 (19%)]\tLoss: 112.830177\n",
      "Train Epoch: 2 [1843200/8649651 (21%)]\tLoss: 113.683685\n",
      "Train Epoch: 2 [2048000/8649651 (24%)]\tLoss: 110.856735\n",
      "Train Epoch: 2 [2252800/8649651 (26%)]\tLoss: 120.730560\n",
      "Train Epoch: 2 [2457600/8649651 (28%)]\tLoss: 104.524803\n",
      "Train Epoch: 2 [2662400/8649651 (31%)]\tLoss: 111.757210\n",
      "Train Epoch: 2 [2867200/8649651 (33%)]\tLoss: 120.898476\n",
      "Train Epoch: 2 [3072000/8649651 (36%)]\tLoss: 106.426102\n",
      "Train Epoch: 2 [3276800/8649651 (38%)]\tLoss: 108.700127\n",
      "Train Epoch: 2 [3481600/8649651 (40%)]\tLoss: 112.843163\n",
      "Train Epoch: 2 [3686400/8649651 (43%)]\tLoss: 107.637856\n",
      "Train Epoch: 2 [3891200/8649651 (45%)]\tLoss: 109.629662\n",
      "Train Epoch: 2 [4096000/8649651 (47%)]\tLoss: 115.210266\n",
      "Train Epoch: 2 [4300800/8649651 (50%)]\tLoss: 106.149780\n",
      "Train Epoch: 2 [4505600/8649651 (52%)]\tLoss: 108.591080\n",
      "Train Epoch: 2 [4710400/8649651 (54%)]\tLoss: 105.691063\n",
      "Train Epoch: 2 [4915200/8649651 (57%)]\tLoss: 106.470566\n",
      "Train Epoch: 2 [5120000/8649651 (59%)]\tLoss: 109.039780\n",
      "Train Epoch: 2 [5324800/8649651 (62%)]\tLoss: 103.940941\n",
      "Train Epoch: 2 [5529600/8649651 (64%)]\tLoss: 118.980591\n",
      "Train Epoch: 2 [5734400/8649651 (66%)]\tLoss: 110.455536\n",
      "Train Epoch: 2 [5939200/8649651 (69%)]\tLoss: 101.175346\n",
      "Train Epoch: 2 [6144000/8649651 (71%)]\tLoss: 100.773659\n",
      "Train Epoch: 2 [6348800/8649651 (73%)]\tLoss: 100.851723\n",
      "Train Epoch: 2 [6553600/8649651 (76%)]\tLoss: 105.754204\n",
      "Train Epoch: 2 [6758400/8649651 (78%)]\tLoss: 103.846458\n",
      "Train Epoch: 2 [6963200/8649651 (81%)]\tLoss: 103.590210\n",
      "Train Epoch: 2 [7168000/8649651 (83%)]\tLoss: 105.680367\n",
      "Train Epoch: 2 [7372800/8649651 (85%)]\tLoss: 99.250877\n",
      "Train Epoch: 2 [7577600/8649651 (88%)]\tLoss: 96.833420\n",
      "Train Epoch: 2 [7782400/8649651 (90%)]\tLoss: 103.796516\n",
      "Train Epoch: 2 [7987200/8649651 (92%)]\tLoss: 99.880867\n",
      "Train Epoch: 2 [8192000/8649651 (95%)]\tLoss: 102.632515\n",
      "Train Epoch: 2 [8396800/8649651 (97%)]\tLoss: 125.427002\n",
      "Train Epoch: 2 [8601600/8649651 (99%)]\tLoss: 110.981979\n",
      "\n",
      "Validation set: Average loss: 14.4531\n",
      "Epoch 3:\n",
      "Train Epoch: 3 [0/8649651 (0%)]\tLoss: 110.276421\n",
      "Train Epoch: 3 [204800/8649651 (2%)]\tLoss: 98.680283\n",
      "Train Epoch: 3 [409600/8649651 (5%)]\tLoss: 94.776558\n",
      "Train Epoch: 3 [614400/8649651 (7%)]\tLoss: 95.840202\n",
      "Train Epoch: 3 [819200/8649651 (9%)]\tLoss: 111.316338\n",
      "Train Epoch: 3 [1024000/8649651 (12%)]\tLoss: 97.989349\n",
      "Train Epoch: 3 [1228800/8649651 (14%)]\tLoss: 99.898849\n",
      "Train Epoch: 3 [1433600/8649651 (17%)]\tLoss: 97.712502\n",
      "Train Epoch: 3 [1638400/8649651 (19%)]\tLoss: 93.763489\n",
      "Train Epoch: 3 [1843200/8649651 (21%)]\tLoss: 99.273254\n",
      "Train Epoch: 3 [2048000/8649651 (24%)]\tLoss: 94.285164\n",
      "Train Epoch: 3 [2252800/8649651 (26%)]\tLoss: 98.993095\n",
      "Train Epoch: 3 [2457600/8649651 (28%)]\tLoss: 92.387161\n",
      "Train Epoch: 3 [2662400/8649651 (31%)]\tLoss: 101.851295\n",
      "Train Epoch: 3 [2867200/8649651 (33%)]\tLoss: 94.807831\n",
      "Train Epoch: 3 [3072000/8649651 (36%)]\tLoss: 89.968056\n",
      "Train Epoch: 3 [3276800/8649651 (38%)]\tLoss: 94.432030\n",
      "Train Epoch: 3 [3481600/8649651 (40%)]\tLoss: 89.703323\n",
      "Train Epoch: 3 [3686400/8649651 (43%)]\tLoss: 90.668823\n",
      "Train Epoch: 3 [3891200/8649651 (45%)]\tLoss: 95.500732\n",
      "Train Epoch: 3 [4096000/8649651 (47%)]\tLoss: 93.012474\n",
      "Train Epoch: 3 [4300800/8649651 (50%)]\tLoss: 84.583580\n",
      "Train Epoch: 3 [4505600/8649651 (52%)]\tLoss: 89.045052\n",
      "Train Epoch: 3 [4710400/8649651 (54%)]\tLoss: 87.077118\n",
      "Train Epoch: 3 [4915200/8649651 (57%)]\tLoss: 90.882721\n",
      "Train Epoch: 3 [5120000/8649651 (59%)]\tLoss: 93.885139\n",
      "Train Epoch: 3 [5324800/8649651 (62%)]\tLoss: 91.489250\n",
      "Train Epoch: 3 [5529600/8649651 (64%)]\tLoss: 93.662003\n",
      "Train Epoch: 3 [5734400/8649651 (66%)]\tLoss: 88.006310\n",
      "Train Epoch: 3 [5939200/8649651 (69%)]\tLoss: 91.349663\n",
      "Train Epoch: 3 [6144000/8649651 (71%)]\tLoss: 97.743370\n",
      "Train Epoch: 3 [6348800/8649651 (73%)]\tLoss: 90.432121\n",
      "Train Epoch: 3 [6553600/8649651 (76%)]\tLoss: 86.549446\n",
      "Train Epoch: 3 [6758400/8649651 (78%)]\tLoss: 95.973152\n",
      "Train Epoch: 3 [6963200/8649651 (81%)]\tLoss: 86.351242\n",
      "Train Epoch: 3 [7168000/8649651 (83%)]\tLoss: 89.084373\n",
      "Train Epoch: 3 [7372800/8649651 (85%)]\tLoss: 88.358330\n",
      "Train Epoch: 3 [7577600/8649651 (88%)]\tLoss: 82.912453\n",
      "Train Epoch: 3 [7782400/8649651 (90%)]\tLoss: 89.658081\n",
      "Train Epoch: 3 [7987200/8649651 (92%)]\tLoss: 90.043060\n",
      "Train Epoch: 3 [8192000/8649651 (95%)]\tLoss: 100.126900\n",
      "Train Epoch: 3 [8396800/8649651 (97%)]\tLoss: 94.557922\n",
      "Train Epoch: 3 [8601600/8649651 (99%)]\tLoss: 90.466042\n",
      "\n",
      "Validation set: Average loss: 14.7703\n",
      "Epoch 4:\n",
      "Train Epoch: 4 [0/8649651 (0%)]\tLoss: 89.476143\n",
      "Train Epoch: 4 [204800/8649651 (2%)]\tLoss: 89.675575\n",
      "Train Epoch: 4 [409600/8649651 (5%)]\tLoss: 91.980774\n",
      "Train Epoch: 4 [614400/8649651 (7%)]\tLoss: 87.076042\n",
      "Train Epoch: 4 [819200/8649651 (9%)]\tLoss: 85.518753\n",
      "Train Epoch: 4 [1024000/8649651 (12%)]\tLoss: 86.686546\n",
      "Train Epoch: 4 [1228800/8649651 (14%)]\tLoss: 86.190834\n",
      "Train Epoch: 4 [1433600/8649651 (17%)]\tLoss: 91.455124\n",
      "Train Epoch: 4 [1638400/8649651 (19%)]\tLoss: 90.290062\n",
      "Train Epoch: 4 [1843200/8649651 (21%)]\tLoss: 82.394096\n",
      "Train Epoch: 4 [2048000/8649651 (24%)]\tLoss: 86.310364\n",
      "Train Epoch: 4 [2252800/8649651 (26%)]\tLoss: 83.710571\n",
      "Train Epoch: 4 [2457600/8649651 (28%)]\tLoss: 85.050690\n",
      "Train Epoch: 4 [2662400/8649651 (31%)]\tLoss: 87.268143\n",
      "Train Epoch: 4 [2867200/8649651 (33%)]\tLoss: 84.116081\n",
      "Train Epoch: 4 [3072000/8649651 (36%)]\tLoss: 88.822289\n",
      "Train Epoch: 4 [3276800/8649651 (38%)]\tLoss: 84.222305\n",
      "Train Epoch: 4 [3481600/8649651 (40%)]\tLoss: 84.795509\n",
      "Train Epoch: 4 [3686400/8649651 (43%)]\tLoss: 88.272148\n",
      "Train Epoch: 4 [3891200/8649651 (45%)]\tLoss: 77.479874\n",
      "Train Epoch: 4 [4096000/8649651 (47%)]\tLoss: 83.662224\n",
      "Train Epoch: 4 [4300800/8649651 (50%)]\tLoss: 80.698349\n",
      "Train Epoch: 4 [4505600/8649651 (52%)]\tLoss: 81.714775\n",
      "Train Epoch: 4 [4710400/8649651 (54%)]\tLoss: 77.980972\n",
      "Train Epoch: 4 [4915200/8649651 (57%)]\tLoss: 81.431023\n",
      "Train Epoch: 4 [5120000/8649651 (59%)]\tLoss: 84.913155\n",
      "Train Epoch: 4 [5324800/8649651 (62%)]\tLoss: 101.787598\n",
      "Train Epoch: 4 [5529600/8649651 (64%)]\tLoss: 84.027275\n",
      "Train Epoch: 4 [5734400/8649651 (66%)]\tLoss: 84.439148\n",
      "Train Epoch: 4 [5939200/8649651 (69%)]\tLoss: 84.144142\n",
      "Train Epoch: 4 [6144000/8649651 (71%)]\tLoss: 85.197205\n",
      "Train Epoch: 4 [6348800/8649651 (73%)]\tLoss: 84.646393\n",
      "Train Epoch: 4 [6553600/8649651 (76%)]\tLoss: 87.451523\n",
      "Train Epoch: 4 [6758400/8649651 (78%)]\tLoss: 81.234261\n",
      "Train Epoch: 4 [6963200/8649651 (81%)]\tLoss: 82.896133\n",
      "Train Epoch: 4 [7168000/8649651 (83%)]\tLoss: 84.253838\n",
      "Train Epoch: 4 [7372800/8649651 (85%)]\tLoss: 78.488602\n",
      "Train Epoch: 4 [7577600/8649651 (88%)]\tLoss: 79.749222\n",
      "Train Epoch: 4 [7782400/8649651 (90%)]\tLoss: 83.553528\n",
      "Train Epoch: 4 [7987200/8649651 (92%)]\tLoss: 81.440575\n",
      "Train Epoch: 4 [8192000/8649651 (95%)]\tLoss: 83.759010\n",
      "Train Epoch: 4 [8396800/8649651 (97%)]\tLoss: 84.589554\n",
      "Train Epoch: 4 [8601600/8649651 (99%)]\tLoss: 85.988197\n",
      "\n",
      "Validation set: Average loss: 15.2651\n"
     ]
    }
   ],
   "source": [
    "# Training loop... Take some time.\n",
    "\n",
    "optimizer = torch.optim.Adam(m.parameters(), lr=0.001)\n",
    "train_criterion = loss.MovementLoss(2, decay_power=1)\n",
    "val_criterion = torch.nn.L1Loss(reduction=\"sum\")\n",
    "\n",
    "losses = []\n",
    "\n",
    "for e in range(5):\n",
    "    print(f\"Epoch {e}:\")\n",
    "    train.train(m, train_loader, optimizer, train_criterion, e, device, logging_freq=100)\n",
    "    losses.append(train.validation(m, val_loader, val_criterion, device))\n",
    "    torch.save(m.state_dict(), f\"model_{e}.pt\")"
   ]
  },
  {
   "cell_type": "code",
   "execution_count": 36,
   "metadata": {
    "colab": {
     "base_uri": "https://localhost:8080/"
    },
    "id": "I2nmrwviakGf",
    "outputId": "de35a846-c75a-4d5f-8ff2-59052fc321f3"
   },
   "outputs": [
    {
     "data": {
      "text/plain": [
       "<All keys matched successfully>"
      ]
     },
     "execution_count": 36,
     "metadata": {
      "tags": []
     },
     "output_type": "execute_result"
    }
   ],
   "source": [
    "# Load a specific epoch [optional]\n",
    "e = 1\n",
    "m.load_state_dict(torch.load(f\"model_{e}.pt\"))"
   ]
  },
  {
   "cell_type": "markdown",
   "metadata": {
    "id": "zdv6m7wtakGf"
   },
   "source": [
    "# Evaluate"
   ]
  },
  {
   "cell_type": "code",
   "execution_count": 37,
   "metadata": {
    "colab": {
     "base_uri": "https://localhost:8080/"
    },
    "id": "op_UKD5bakGf",
    "outputId": "d21fb481-cb84-4d11-f2f0-6f7c90e11146"
   },
   "outputs": [
    {
     "name": "stdout",
     "output_type": "stream",
     "text": [
      "\n",
      "Validation set: Average loss: 15.0587\n"
     ]
    },
    {
     "data": {
      "text/plain": [
       "15.058662353486994"
      ]
     },
     "execution_count": 37,
     "metadata": {
      "tags": []
     },
     "output_type": "execute_result"
    }
   ],
   "source": [
    "# Evaluate on test set\n",
    "train.validation(m, test_loader, val_criterion, device)"
   ]
  },
  {
   "cell_type": "code",
   "execution_count": 38,
   "metadata": {
    "colab": {
     "base_uri": "https://localhost:8080/"
    },
    "id": "9S648JJbakGf",
    "outputId": "523e6c22-e4d1-420e-abbe-64887e961d8f"
   },
   "outputs": [
    {
     "name": "stdout",
     "output_type": "stream",
     "text": [
      "\n",
      "Validation set: Average loss: 11.2158\n"
     ]
    },
    {
     "data": {
      "text/plain": [
       "11.215814800368163"
      ]
     },
     "execution_count": 38,
     "metadata": {
      "tags": []
     },
     "output_type": "execute_result"
    }
   ],
   "source": [
    "# Evaluate on train set to check that we did at least beat the mean baseline here\n",
    "train.validation(m, train_testing_loader, val_criterion, device)"
   ]
  },
  {
   "cell_type": "markdown",
   "metadata": {
    "id": "haz_hYUzakGf"
   },
   "source": [
    "## Plots"
   ]
  },
  {
   "cell_type": "code",
   "execution_count": 40,
   "metadata": {
    "colab": {
     "base_uri": "https://localhost:8080/",
     "height": 295
    },
    "id": "_cFXCdZQakGg",
    "outputId": "8ae9953d-4a34-4174-9fd4-3e6fb56f9d68"
   },
   "outputs": [
    {
     "data": {
      "image/png": "[encoded data removed]",
      "text/plain": [
       "<Figure size 432x288 with 1 Axes>"
      ]
     },
     "metadata": {
      "needs_background": "light",
      "tags": []
     },
     "output_type": "display_data"
    }
   ],
   "source": [
    "# Validation loss versus mean baseline\n",
    "\n",
    "plt.title(\"Evolution of validation loss (MAE) during training\")\n",
    "\n",
    "plt.xlabel(\"Epoch\")\n",
    "plt.ylabel(\"MAE\")\n",
    "plt.ylim(8, 22)\n",
    "plt.plot(range(1, 6), losses, label=\"Val loss\")\n",
    "plt.plot(range(1, 6), [val_baseline]*5, label=\"mean baseline\")\n",
    "plt.legend()\n",
    "plt.show()"
   ]
  },
  {
   "cell_type": "code",
   "execution_count": 41,
   "metadata": {
    "id": "_e_5N6FLakGg"
   },
   "outputs": [],
   "source": [
    "# Check predictions\n",
    "\n",
    "# emg, stimulus, glove = train_testing_dataset.data[0]\n",
    "emg, stimulus, glove = test_dataset[0]\n",
    "input_ = torch.FloatTensor(emg[None, ...]).to(device)\n",
    "glove_p = m(input_)[0][0].cpu().detach().numpy()"
   ]
  },
  {
   "cell_type": "code",
   "execution_count": 48,
   "metadata": {
    "colab": {
     "base_uri": "https://localhost:8080/",
     "height": 265
    },
    "id": "qI6m4FWmakGg",
    "outputId": "6a22d8f2-b6fa-4eda-ead8-7d6cdb55bc73"
   },
   "outputs": [
    {
     "data": {
      "image/png": "[encoded data removed]",
      "text/plain": [
       "<Figure size 432x288 with 1 Axes>"
      ]
     },
     "metadata": {
      "needs_background": "light",
      "tags": []
     },
     "output_type": "display_data"
    }
   ],
   "source": [
    "# Plot the glove angles over 80 seconds from timestamp 120\n",
    "\n",
    "start = 120 * 400\n",
    "delta = 80 * 400\n",
    "\n",
    "plt.plot(np.arange(start, start + delta)/400, glove[start:(start+delta)][:,:5])\n",
    "plt.show()"
   ]
  },
  {
   "cell_type": "code",
   "execution_count": 49,
   "metadata": {
    "colab": {
     "base_uri": "https://localhost:8080/",
     "height": 267
    },
    "id": "i1I5pZtAakGh",
    "outputId": "83bf6aba-7240-46dd-b08a-b305a3153d88"
   },
   "outputs": [
    {
     "data": {
      "image/png": "[encoded data removed]",
      "text/plain": [
       "<Figure size 432x288 with 1 Axes>"
      ]
     },
     "metadata": {
      "needs_background": "light",
      "tags": []
     },
     "output_type": "display_data"
    }
   ],
   "source": [
    "# Compare with the predicted one\n",
    "\n",
    "plt.plot(np.arange(start, start + delta)/400, glove_p[start:(start+delta)][:,:5])\n",
    "plt.show()"
   ]
  },
  {
   "cell_type": "code",
   "execution_count": 56,
   "metadata": {
    "colab": {
     "base_uri": "https://localhost:8080/",
     "height": 265
    },
    "id": "BXOJqdyOakGh",
    "outputId": "9646a13d-b270-4320-c29d-b6bacdbb7800"
   },
   "outputs": [
    {
     "data": {
      "image/png": "[encoded data removed]",
      "text/plain": [
       "<Figure size 432x288 with 1 Axes>"
      ]
     },
     "metadata": {
      "needs_background": "light",
      "tags": []
     },
     "output_type": "display_data"
    }
   ],
   "source": [
    "# Focus on a particular glove angle.\n",
    "\n",
    "plt.plot(np.arange(start, start + delta)/400, glove[start:(start+delta),5])\n",
    "plt.plot(np.arange(start, start + delta)/400, glove_p[start:(start+delta),5])\n",
    "plt.show()"
   ]
  }
 ],
 "metadata": {
  "accelerator": "GPU",
  "colab": {
   "collapsed_sections": [],
   "name": "Demonstration.ipynb",
   "provenance": [],
   "toc_visible": true
  },
  "kernelspec": {
   "display_name": "Python 3",
   "language": "python",
   "name": "python3"
  },
  "language_info": {
   "codemirror_mode": {
    "name": "ipython",
    "version": 3
   },
   "file_extension": ".py",
   "mimetype": "text/x-python",
   "name": "python",
   "nbconvert_exporter": "python",
   "pygments_lexer": "ipython3",
   "version": "3.8.5"
  }
 },
 "nbformat": 4,
 "nbformat_minor": 1
}
