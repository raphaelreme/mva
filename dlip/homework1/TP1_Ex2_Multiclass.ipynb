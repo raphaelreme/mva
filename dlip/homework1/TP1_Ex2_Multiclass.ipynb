{
 "cells": [
  {
   "cell_type": "markdown",
   "metadata": {},
   "source": [
    "# Code by Noureddine Sedki"
   ]
  },
  {
   "cell_type": "markdown",
   "metadata": {
    "id": "OKNoNer_6vZ-"
   },
   "source": [
    "## Multi-classification problem\n",
    "\n",
    "__Note:__ you might need to do\n",
    "`conda install torchvision \"pillow<7\"`\n",
    "if torchvision is not already installed on your computer, and/or for compatibility issues (the version of torchvision version supporting the last version of Pillow is not released yet)."
   ]
  },
  {
   "cell_type": "code",
   "execution_count": 1,
   "metadata": {
    "id": "ntPt2yEc6vaJ"
   },
   "outputs": [],
   "source": [
    "import torch\n",
    "import torch.nn as nn\n",
    "import torch.nn.functional as F\n",
    "import torchvision\n",
    "import torchvision.transforms as transforms\n",
    "from torch.utils.data import DataLoader, random_split\n",
    "import requests\n",
    "import os\n",
    "\n",
    "\n",
    "import matplotlib.pyplot as plt\n",
    "\n",
    "%matplotlib inline"
   ]
  },
  {
   "cell_type": "markdown",
   "metadata": {
    "id": "md0JQRjZ6vaK"
   },
   "source": [
    "### USPS Dataset\n",
    "* Handwritten digits with 10 classes\n",
    "* 16x16 pixels for each image \n",
    "* 6 000 data examples in training set, 1 291 examples in validation set, 2 007 in test set"
   ]
  },
  {
   "cell_type": "code",
   "execution_count": 2,
   "metadata": {
    "colab": {
     "base_uri": "https://localhost:8080/"
    },
    "id": "t4DD2jnR6vaL",
    "outputId": "e9cd447f-33d8-41e1-c7cd-f9a9640f6667"
   },
   "outputs": [
    {
     "data": {
      "text/plain": [
       "6579383"
      ]
     },
     "execution_count": 2,
     "metadata": {
      "tags": []
     },
     "output_type": "execute_result"
    }
   ],
   "source": [
    "url = 'https://www.csie.ntu.edu.tw/~cjlin/libsvmtools/datasets/multiclass/usps.bz2'\n",
    "r = requests.get(url, allow_redirects=True)\n",
    "if not os.path.isdir('USPS/'):\n",
    "    os.mkdir('USPS/')\n",
    "open('USPS/usps.bz2', 'wb').write(r.content)"
   ]
  },
  {
   "cell_type": "code",
   "execution_count": 3,
   "metadata": {
    "id": "qppvPcQV6vaL"
   },
   "outputs": [],
   "source": [
    "# Loading USPS dataset from torchvision.dataset\n",
    "dataset = torchvision.datasets.USPS(root='USPS/',\n",
    "                                           train=True, \n",
    "                                           transform=transforms.ToTensor(),\n",
    "                                           download=False)"
   ]
  },
  {
   "cell_type": "code",
   "execution_count": 4,
   "metadata": {
    "id": "j3PJoHLm6vaL"
   },
   "outputs": [],
   "source": [
    "# split the dataset to training and validation sets\n",
    "train_set, val_set = random_split(dataset, [6000, 1291])"
   ]
  },
  {
   "cell_type": "code",
   "execution_count": 5,
   "metadata": {
    "colab": {
     "base_uri": "https://localhost:8080/",
     "height": 298
    },
    "id": "NjJYqH9s6vaM",
    "outputId": "bfacd345-09d8-4d11-d563-7a0dfd249225"
   },
   "outputs": [
    {
     "data": {
      "text/plain": [
       "Text(0.5, 1.0, 'image label: 9')"
      ]
     },
     "execution_count": 5,
     "metadata": {
      "tags": []
     },
     "output_type": "execute_result"
    },
    {
     "data": {
      "image/png": "[encoded data removed]",
      "text/plain": [
       "<Figure size 432x288 with 1 Axes>"
      ]
     },
     "metadata": {
      "needs_background": "light",
      "tags": []
     },
     "output_type": "display_data"
    }
   ],
   "source": [
    "sample_index = 88\n",
    "\n",
    "plt.imshow(dataset.data[sample_index], cmap=plt.cm.gray_r, interpolation='nearest')\n",
    "plt.title(\"image label: %d\" % dataset.targets[sample_index])"
   ]
  },
  {
   "cell_type": "markdown",
   "metadata": {
    "id": "s2xYMgRM6vaM"
   },
   "source": [
    "### Training the neural network"
   ]
  },
  {
   "cell_type": "code",
   "execution_count": 6,
   "metadata": {
    "id": "kMibQrY76vaM"
   },
   "outputs": [],
   "source": [
    "class Model(nn.Module):\n",
    "    \n",
    "    def __init__(self):\n",
    "        super(Model, self).__init__()\n",
    "        \n",
    "        self.l1 = nn.Linear(16*16, 10)# Input size is 16*16, output size should be the same with the number of classes\n",
    "        \n",
    "    def forward(self, inputs):\n",
    "        outputs = F.softmax(self.l1(inputs), dim=1)# Use softmax as the activation function for the last layer\n",
    "        \n",
    "        return outputs"
   ]
  },
  {
   "cell_type": "code",
   "execution_count": 7,
   "metadata": {
    "id": "tedJLgGM6vaN"
   },
   "outputs": [],
   "source": [
    "# Create the model: \n",
    "model = Model()\n",
    "\n",
    "# Choose the hyperparameters for training: \n",
    "num_epochs = 10\n",
    "batch_size = 10\n",
    "\n",
    "# Use mean squared loss function \n",
    "criterion = nn.MSELoss()\n",
    "\n",
    "# Use SGD optimizer with a learning rate of 0.01\n",
    "# It is initialized on our model\n",
    "optimizer = torch.optim.SGD(model.parameters(), lr=0.01)"
   ]
  },
  {
   "cell_type": "code",
   "execution_count": 8,
   "metadata": {
    "id": "oHgDBDVT6vaN"
   },
   "outputs": [],
   "source": [
    "# define a function for training\n",
    "def train(num_epochs, batch_size, criterion, optimizer, model, dataset):\n",
    "    train_error = []\n",
    "    train_loader = DataLoader(dataset, batch_size, shuffle=True)\n",
    "    model.train()\n",
    "    for epoch in range(num_epochs):\n",
    "        epoch_average_loss = 0.0\n",
    "        for (images, labels) in train_loader:\n",
    "            y_pre = model(images.view(batch_size, -1)) \n",
    "            #reshape the inputs from [N, img_shape, img_shape] to [N, img_shape*img_shape] \n",
    "            \n",
    "            # One-hot encoding or labels so as to calculate MSE error:\n",
    "            labels_one_hot = torch.FloatTensor(batch_size, 10)\n",
    "            labels_one_hot.zero_()\n",
    "            labels_one_hot.scatter_(1, labels.view(-1, 1), 1)\n",
    "           \n",
    "            \n",
    "            loss = criterion(y_pre, labels_one_hot)\n",
    "            optimizer.zero_grad()\n",
    "            loss.backward()\n",
    "            optimizer.step()\n",
    "            epoch_average_loss += loss.item() * batch_size / len(dataset)\n",
    "        train_error.append(epoch_average_loss)\n",
    "        print('Epoch [{}/{}], Loss: {:.4f}'\n",
    "                      .format(epoch+1, num_epochs, epoch_average_loss))\n",
    "    return train_error"
   ]
  },
  {
   "cell_type": "code",
   "execution_count": 9,
   "metadata": {
    "colab": {
     "base_uri": "https://localhost:8080/"
    },
    "id": "9p--j-_O6vaO",
    "outputId": "cf43d96d-6b14-4ad1-c44f-c7bc26044e52"
   },
   "outputs": [
    {
     "name": "stdout",
     "output_type": "stream",
     "text": [
      "Epoch [1/10], Loss: 0.0896\n",
      "Epoch [2/10], Loss: 0.0857\n",
      "Epoch [3/10], Loss: 0.0816\n",
      "Epoch [4/10], Loss: 0.0783\n",
      "Epoch [5/10], Loss: 0.0755\n",
      "Epoch [6/10], Loss: 0.0730\n",
      "Epoch [7/10], Loss: 0.0707\n",
      "Epoch [8/10], Loss: 0.0685\n",
      "Epoch [9/10], Loss: 0.0664\n",
      "Epoch [10/10], Loss: 0.0644\n"
     ]
    }
   ],
   "source": [
    "train_error = train(num_epochs, batch_size, criterion, optimizer, model, train_set)"
   ]
  },
  {
   "cell_type": "code",
   "execution_count": 10,
   "metadata": {
    "colab": {
     "base_uri": "https://localhost:8080/",
     "height": 313
    },
    "id": "jLKOpSXI6vaO",
    "outputId": "dd78217b-9e2f-4064-ae2b-49eb1da2d6f8"
   },
   "outputs": [
    {
     "data": {
      "text/plain": [
       "Text(0.5, 1.0, 'Visualization of convergence')"
      ]
     },
     "execution_count": 10,
     "metadata": {
      "tags": []
     },
     "output_type": "execute_result"
    },
    {
     "data": {
      "image/png": "[encoded data removed]",
      "text/plain": [
       "<Figure size 432x288 with 1 Axes>"
      ]
     },
     "metadata": {
      "needs_background": "light",
      "tags": []
     },
     "output_type": "display_data"
    }
   ],
   "source": [
    "# plot the training error wrt. the number of epochs: \n",
    "plt.plot(range(1, num_epochs+1), train_error)\n",
    "plt.xlabel(\"num_epochs\")\n",
    "plt.ylabel(\"Train error\")\n",
    "plt.title(\"Visualization of convergence\")"
   ]
  },
  {
   "cell_type": "markdown",
   "metadata": {
    "id": "siajZd5E6vaO"
   },
   "source": [
    "### Evaluate the Model on validation set"
   ]
  },
  {
   "cell_type": "code",
   "execution_count": 11,
   "metadata": {
    "id": "qZ-C3_O26vaO"
   },
   "outputs": [],
   "source": [
    "# Calculate the accuracy to evaluate the model\n",
    "def accuracy(dataset, model):\n",
    "\n",
    "    with torch.no_grad():\n",
    "        correct = 0\n",
    "        total = 0\n",
    "        dataloader = DataLoader(dataset)\n",
    "        for images, labels in dataloader:\n",
    "            images = images.view(-1, 16*16)\n",
    "            outputs = model(images)\n",
    "            _, predicted = torch.max(outputs.data, 1) \n",
    "            correct += (predicted == labels).sum()\n",
    "\n",
    "    print('Accuracy of the model : {:.2f} %'.format(100*correct.item()/ len(dataset)))"
   ]
  },
  {
   "cell_type": "code",
   "execution_count": 12,
   "metadata": {
    "colab": {
     "base_uri": "https://localhost:8080/"
    },
    "id": "fPNxCWpN6vaP",
    "outputId": "9792d0d1-6bde-4457-adf4-810fa41df34f"
   },
   "outputs": [
    {
     "name": "stdout",
     "output_type": "stream",
     "text": [
      "Accuracy of the model : 55.85 %\n"
     ]
    }
   ],
   "source": [
    "accuracy(val_set, model)"
   ]
  },
  {
   "cell_type": "code",
   "execution_count": 13,
   "metadata": {
    "colab": {
     "base_uri": "https://localhost:8080/",
     "height": 298
    },
    "id": "AlVp_Git6vaP",
    "outputId": "d3e09565-fb4e-4ed4-e82c-9c0efb5dd8f1"
   },
   "outputs": [
    {
     "data": {
      "text/plain": [
       "Text(0.5, 1.0, 'Prediction label: 1')"
      ]
     },
     "execution_count": 13,
     "metadata": {
      "tags": []
     },
     "output_type": "execute_result"
    },
    {
     "data": {
      "image/png": "[encoded data removed]",
      "text/plain": [
       "<Figure size 432x288 with 1 Axes>"
      ]
     },
     "metadata": {
      "needs_background": "light",
      "tags": []
     },
     "output_type": "display_data"
    }
   ],
   "source": [
    "val_index = 66\n",
    "\n",
    "(image, label) = val_set[val_index]\n",
    "output = model(image.view(-1, 16*16))\n",
    "_, prediction = torch.max(output.data, 1)\n",
    "\n",
    "plt.imshow(image.view(16, 16), cmap=plt.cm.gray_r, interpolation='nearest')\n",
    "plt.title(\"Prediction label: %d\" % prediction)"
   ]
  },
  {
   "cell_type": "markdown",
   "metadata": {
    "id": "KznLQHMI6vaP"
   },
   "source": [
    "### Exercise 1: Impact of the architecture of the model\n",
    "Define your own class `Model` to improve the predictions:\n",
    "\n",
    "* The convolutional layer can be a good choice to deal with images. Replace nn.Linear with [nn.Conv2d](https://pytorch.org/docs/stable/nn.html#conv2d).\n",
    "* Try to add more layers (1, 2, 3, more ?)\n",
    "* Change the number of neurons in hidden layers (5, 10, 20, more ?)\n",
    "* Try different activation functions such as [sigmoid](https://pytorch.org/docs/stable/nn.functional.html#torch.nn.functional.sigmoid), [tanh](https://pytorch.org/docs/stable/nn.functional.html#torch.nn.functional.tanh), [relu](https://pytorch.org/docs/stable/nn.functional.html#torch.nn.functional.relu), etc."
   ]
  },
  {
   "cell_type": "markdown",
   "metadata": {
    "id": "UuT68GHObDNa"
   },
   "source": [
    "### Define a convolution neural network classifier"
   ]
  },
  {
   "cell_type": "code",
   "execution_count": 31,
   "metadata": {
    "id": "hmfxIVlbLEhe"
   },
   "outputs": [],
   "source": [
    "# define a function for training\n",
    "# Calculate the accuracy to evaluate the model\n",
    "def accuracy_conv(dataset, model):\n",
    "\n",
    "    with torch.no_grad():\n",
    "        correct = 0\n",
    "        total = 0\n",
    "        dataloader = DataLoader(dataset)\n",
    "        for images, labels in dataloader:\n",
    "            \n",
    "            outputs = model(images)\n",
    "            _, predicted = torch.max(outputs.data, 1) \n",
    "            correct += (predicted == labels).sum()\n",
    "\n",
    "    print('Accuracy of the model : {:.2f} %'.format(100*correct.item()/ len(dataset)))\n",
    "    return 100*correct.item()/ len(dataset)\n",
    "def train_conv(model, dataset = dataset , val_set = val_set , lr = 0.01 , num_epochs=10, batch_size=10, criterion=nn.MSELoss(), optimizer = torch.optim.SGD):\n",
    "    train_error = []\n",
    "    optimizer = optimizer(model.parameters(), lr=lr)\n",
    "\n",
    "    train_loader = DataLoader(dataset, batch_size, shuffle=True)\n",
    "    model.train()\n",
    "    for epoch in range(num_epochs):\n",
    "        epoch_average_loss = 0.0\n",
    "        for (images, labels) in train_loader:\n",
    "            y_pre = model(images.float()) \n",
    "            #reshape the inputs from [N, img_shape, img_shape] to [N, img_shape*img_shape] \n",
    "           \n",
    "            # One-hot encoding or labels so as to calculate MSE error:\n",
    "            labels_one_hot = torch.FloatTensor(len(labels.numpy()), 10)\n",
    "            labels_one_hot.zero_()\n",
    "            labels_one_hot.scatter_(1, labels.view(-1, 1), 1)\n",
    "           \n",
    "            \n",
    "            loss = criterion(y_pre, labels_one_hot)\n",
    "            optimizer.zero_grad()\n",
    "            loss.backward()\n",
    "            optimizer.step()\n",
    "            epoch_average_loss += loss.item() * batch_size / len(dataset)\n",
    "        train_error.append(epoch_average_loss)\n",
    "        print('Epoch [{}/{}], Loss: {:.4f}'\n",
    "                      .format(epoch+1, num_epochs, epoch_average_loss))\n",
    "        acc = accuracy_conv(val_set, model)\n",
    "    return train_error , acc"
   ]
  },
  {
   "cell_type": "code",
   "execution_count": 15,
   "metadata": {
    "colab": {
     "base_uri": "https://localhost:8080/"
    },
    "id": "4qHptdXoNKpa",
    "outputId": "598a93c9-ace5-43fe-899b-20be25b9747c"
   },
   "outputs": [
    {
     "data": {
      "text/plain": [
       "320"
      ]
     },
     "execution_count": 15,
     "metadata": {
      "tags": []
     },
     "output_type": "execute_result"
    }
   ],
   "source": [
    "class ConvBlock(nn.Module):\n",
    "    def __init__(self,in_channels,out_channels):\n",
    "        super (ConvBlock,self).__init__()\n",
    "        self.module = nn.Sequential(\n",
    "            nn.Conv2d(in_channels,out_channels,3,padding=1),\n",
    "            nn.ReLU(),\n",
    "            nn.MaxPool2d(2),\n",
    "        )\n",
    "    def forward(self,x):\n",
    "        return self.module(x)\n",
    "\n",
    "class Model(nn.Module):\n",
    "\n",
    "    def __init__(self,n_convolutions=1,n_hidden=20,activation='relu'):\n",
    "\n",
    "        super(Model,self).__init__()\n",
    "\n",
    "        self.cnn= nn.Sequential()\n",
    "\n",
    "        if activation == 'relu': self.act = nn.ReLU()\n",
    "        elif activation == 'sigmoid' : self.act = nn.Sigmoid()\n",
    "        elif activation == 'tanh'  : self.act = nn.Tanh()\n",
    "\n",
    "        else: print (\"NOT A VALID ACTIVATION\")\n",
    "\n",
    "\n",
    "\n",
    "        for i in range(n_convolutions):\n",
    "            if i ==0:  self.cnn.add_module(\"convblock\"+str(i),ConvBlock(1,5))\n",
    "            else: self.cnn.add_module(\"convblock\"+str(i),ConvBlock(5,5))\n",
    "        \n",
    "        self.cnn.add_module(\"flat\",nn.Flatten(start_dim=1))\n",
    "        \n",
    "        self.commun = nn.Sequential(\n",
    "                   self.cnn,\n",
    "                  \n",
    "             nn.Linear(self.cnn_out_size(),10),\n",
    "            \n",
    "         )\n",
    "        \n",
    "        \n",
    "            \n",
    "    def forward(self,x):\n",
    "        \n",
    "        commun_out = self.commun(x)\n",
    "        predic = F.softmax(commun_out,dim=1)\n",
    "\n",
    "        return predic\n",
    "\n",
    "\n",
    "    def cnn_out_size(self):\n",
    "        tst = torch.ones((1,1,16,16))\n",
    "        return self.cnn(tst).size(-1)\n",
    "\n",
    "\n",
    "m = Model(activation='relu')\n",
    "m.cnn_out_size()"
   ]
  },
  {
   "cell_type": "code",
   "execution_count": 32,
   "metadata": {
    "colab": {
     "base_uri": "https://localhost:8080/"
    },
    "id": "Pz-0mkg9ODz9",
    "outputId": "103fd20f-52d8-4cc1-8f98-e65a33dce584"
   },
   "outputs": [
    {
     "name": "stdout",
     "output_type": "stream",
     "text": [
      "Epoch [1/20], Loss: 0.0884\n",
      "Accuracy of the model : 21.92 %\n",
      "Epoch [2/20], Loss: 0.0840\n",
      "Accuracy of the model : 27.73 %\n",
      "Epoch [3/20], Loss: 0.0805\n",
      "Accuracy of the model : 39.58 %\n",
      "Epoch [4/20], Loss: 0.0773\n",
      "Accuracy of the model : 44.46 %\n",
      "Epoch [5/20], Loss: 0.0740\n",
      "Accuracy of the model : 47.79 %\n",
      "Epoch [6/20], Loss: 0.0707\n",
      "Accuracy of the model : 53.21 %\n",
      "Epoch [7/20], Loss: 0.0674\n",
      "Accuracy of the model : 58.64 %\n",
      "Epoch [8/20], Loss: 0.0645\n",
      "Accuracy of the model : 62.74 %\n",
      "Epoch [9/20], Loss: 0.0617\n",
      "Accuracy of the model : 65.30 %\n",
      "Epoch [10/20], Loss: 0.0592\n",
      "Accuracy of the model : 67.08 %\n",
      "Epoch [11/20], Loss: 0.0568\n",
      "Accuracy of the model : 68.32 %\n",
      "Epoch [12/20], Loss: 0.0545\n",
      "Accuracy of the model : 68.78 %\n",
      "Epoch [13/20], Loss: 0.0526\n",
      "Accuracy of the model : 69.71 %\n",
      "Epoch [14/20], Loss: 0.0507\n",
      "Accuracy of the model : 70.80 %\n",
      "Epoch [15/20], Loss: 0.0490\n",
      "Accuracy of the model : 72.04 %\n",
      "Epoch [16/20], Loss: 0.0474\n",
      "Accuracy of the model : 72.81 %\n",
      "Epoch [17/20], Loss: 0.0460\n",
      "Accuracy of the model : 73.74 %\n",
      "Epoch [18/20], Loss: 0.0447\n",
      "Accuracy of the model : 74.52 %\n",
      "Epoch [19/20], Loss: 0.0435\n",
      "Accuracy of the model : 75.60 %\n",
      "Epoch [20/20], Loss: 0.0422\n",
      "Accuracy of the model : 76.61 %\n",
      "Epoch [1/20], Loss: 0.0898\n",
      "Accuracy of the model : 17.27 %\n",
      "Epoch [2/20], Loss: 0.0884\n",
      "Accuracy of the model : 17.43 %\n",
      "Epoch [3/20], Loss: 0.0861\n",
      "Accuracy of the model : 28.74 %\n",
      "Epoch [4/20], Loss: 0.0826\n",
      "Accuracy of the model : 31.22 %\n",
      "Epoch [5/20], Loss: 0.0781\n",
      "Accuracy of the model : 34.78 %\n",
      "Epoch [6/20], Loss: 0.0725\n",
      "Accuracy of the model : 43.53 %\n",
      "Epoch [7/20], Loss: 0.0658\n",
      "Accuracy of the model : 56.93 %\n",
      "Epoch [8/20], Loss: 0.0582\n",
      "Accuracy of the model : 62.90 %\n",
      "Epoch [9/20], Loss: 0.0505\n",
      "Accuracy of the model : 72.19 %\n",
      "Epoch [10/20], Loss: 0.0431\n",
      "Accuracy of the model : 80.56 %\n",
      "Epoch [11/20], Loss: 0.0365\n",
      "Accuracy of the model : 85.59 %\n",
      "Epoch [12/20], Loss: 0.0311\n",
      "Accuracy of the model : 87.76 %\n",
      "Epoch [13/20], Loss: 0.0270\n",
      "Accuracy of the model : 88.61 %\n",
      "Epoch [14/20], Loss: 0.0240\n",
      "Accuracy of the model : 89.31 %\n",
      "Epoch [15/20], Loss: 0.0216\n",
      "Accuracy of the model : 89.93 %\n",
      "Epoch [16/20], Loss: 0.0199\n",
      "Accuracy of the model : 90.24 %\n",
      "Epoch [17/20], Loss: 0.0185\n",
      "Accuracy of the model : 90.78 %\n",
      "Epoch [18/20], Loss: 0.0174\n",
      "Accuracy of the model : 90.94 %\n",
      "Epoch [19/20], Loss: 0.0165\n",
      "Accuracy of the model : 90.94 %\n",
      "Epoch [20/20], Loss: 0.0157\n",
      "Accuracy of the model : 91.17 %\n",
      "Epoch [1/20], Loss: 0.0902\n",
      "Accuracy of the model : 9.37 %\n",
      "Epoch [2/20], Loss: 0.0902\n",
      "Accuracy of the model : 9.37 %\n",
      "Epoch [3/20], Loss: 0.0901\n",
      "Accuracy of the model : 9.37 %\n",
      "Epoch [4/20], Loss: 0.0901\n",
      "Accuracy of the model : 9.37 %\n",
      "Epoch [5/20], Loss: 0.0900\n",
      "Accuracy of the model : 9.37 %\n",
      "Epoch [6/20], Loss: 0.0899\n",
      "Accuracy of the model : 9.37 %\n",
      "Epoch [7/20], Loss: 0.0899\n",
      "Accuracy of the model : 9.37 %\n",
      "Epoch [8/20], Loss: 0.0898\n",
      "Accuracy of the model : 10.15 %\n",
      "Epoch [9/20], Loss: 0.0897\n",
      "Accuracy of the model : 16.73 %\n",
      "Epoch [10/20], Loss: 0.0897\n",
      "Accuracy of the model : 17.27 %\n",
      "Epoch [11/20], Loss: 0.0896\n",
      "Accuracy of the model : 14.79 %\n",
      "Epoch [12/20], Loss: 0.0895\n",
      "Accuracy of the model : 14.56 %\n",
      "Epoch [13/20], Loss: 0.0894\n",
      "Accuracy of the model : 14.56 %\n",
      "Epoch [14/20], Loss: 0.0893\n",
      "Accuracy of the model : 14.56 %\n",
      "Epoch [15/20], Loss: 0.0892\n",
      "Accuracy of the model : 14.56 %\n",
      "Epoch [16/20], Loss: 0.0891\n",
      "Accuracy of the model : 14.56 %\n",
      "Epoch [17/20], Loss: 0.0890\n",
      "Accuracy of the model : 14.56 %\n",
      "Epoch [18/20], Loss: 0.0888\n",
      "Accuracy of the model : 14.56 %\n",
      "Epoch [19/20], Loss: 0.0886\n",
      "Accuracy of the model : 14.56 %\n",
      "Epoch [20/20], Loss: 0.0884\n",
      "Accuracy of the model : 14.64 %\n"
     ]
    }
   ],
   "source": [
    "trial = {'models':[],'train_errors':[],'acc':[]}\n",
    "for i in range(3):\n",
    "    model = Model(n_convolutions=i,n_hidden=0)\n",
    "    train_error ,acc = train_conv(model , num_epochs=20 , batch_size=10 )\n",
    "    \n",
    "    trial['models'].append(model)\n",
    "    trial['train_errors'].append(train_error)\n",
    "    trial['acc'].append(acc)"
   ]
  },
  {
   "cell_type": "code",
   "execution_count": 33,
   "metadata": {
    "colab": {
     "base_uri": "https://localhost:8080/",
     "height": 265
    },
    "id": "uV5yI1cjYdrn",
    "outputId": "af246849-a5f8-41c5-a5c9-5840c3d3d773"
   },
   "outputs": [
    {
     "data": {
      "image/png": "[encoded data removed]",
      "text/plain": [
       "<Figure size 432x288 with 1 Axes>"
      ]
     },
     "metadata": {
      "needs_background": "light",
      "tags": []
     },
     "output_type": "display_data"
    }
   ],
   "source": [
    "for i,error in enumerate(trial['train_errors']):\n",
    "\n",
    "    acc = str(round(trial['acc'][i],1))\n",
    "    plt.plot(error,label=\"n_conv=\"+str(i+1)+\", acc \"+acc)\n",
    "    plt.legend()\n",
    "    \n",
    "plt.show()\n"
   ]
  },
  {
   "cell_type": "code",
   "execution_count": 34,
   "metadata": {
    "colab": {
     "base_uri": "https://localhost:8080/"
    },
    "id": "qbQyArGIpT8j",
    "outputId": "1f840a96-191b-45f6-cf73-4b37f5bdb56b"
   },
   "outputs": [
    {
     "data": {
      "text/plain": [
       "320"
      ]
     },
     "execution_count": 34,
     "metadata": {
      "tags": []
     },
     "output_type": "execute_result"
    }
   ],
   "source": [
    "class ConvBlock(nn.Module):\n",
    "    def __init__(self,in_channels,out_channels):\n",
    "        super (ConvBlock,self).__init__()\n",
    "        self.module = nn.Sequential(\n",
    "            nn.Conv2d(in_channels,out_channels,3,padding=1),\n",
    "            nn.ReLU(),\n",
    "            nn.MaxPool2d(2),\n",
    "        )\n",
    "    def forward(self,x):\n",
    "        return self.module(x)\n",
    "\n",
    "class Model_withMLP(nn.Module):\n",
    "\n",
    "    def __init__(self,n_hidden,n_convolutions=1,activation='relu'):\n",
    "\n",
    "        super(Model_withMLP,self).__init__()\n",
    "        self.n_hidden=n_hidden\n",
    "        self.cnn= nn.Sequential()\n",
    "\n",
    "        if activation == 'relu': self.act = nn.ReLU()\n",
    "        elif activation == 'sigmoid' : self.act = nn.Sigmoid()\n",
    "        elif activation == 'tanh'  : self.act = nn.Tanh()\n",
    "\n",
    "        else: print (\"NOT A FUCKING ACTIVATION\")\n",
    "\n",
    "\n",
    "\n",
    "        for i in range(n_convolutions):\n",
    "            if i ==0:  self.cnn.add_module(\"convblock\"+str(i),ConvBlock(1,5))\n",
    "            else: self.cnn.add_module(\"convblock\"+str(i),ConvBlock(5,5))\n",
    "        \n",
    "        self.cnn.add_module(\"flat\",nn.Flatten(start_dim=1))\n",
    "        \n",
    "        if self.n_hidden==0:\n",
    "              self.commun = nn.Sequential(\n",
    "                        self.cnn,\n",
    "                        \n",
    "                  nn.Linear(self.cnn_out_size(),10),\n",
    "                  \n",
    "              )\n",
    "        else : \n",
    "              self.commun = nn.Sequential(\n",
    "                        self.cnn,\n",
    "                  nn.Linear(self.cnn_out_size(),self.n_hidden),\n",
    "                  self.act,      \n",
    "                  nn.Linear(self.n_hidden,10),\n",
    "                  \n",
    "              )\n",
    "        \n",
    "        \n",
    "            \n",
    "    def forward(self,x):\n",
    "        \n",
    "        commun_out = self.commun(x)\n",
    "        predic = F.softmax(commun_out,dim=1)\n",
    "\n",
    "        return predic\n",
    "\n",
    "\n",
    "    def cnn_out_size(self):\n",
    "        tst = torch.ones((1,1,16,16))\n",
    "        return self.cnn(tst).size(-1)\n",
    "\n",
    "\n",
    "m = Model(activation='relu')\n",
    "m.cnn_out_size()"
   ]
  },
  {
   "cell_type": "code",
   "execution_count": 35,
   "metadata": {
    "colab": {
     "base_uri": "https://localhost:8080/"
    },
    "id": "IxLvCLTspHRC",
    "outputId": "49effb42-5cd8-4316-a115-ef52057bdf76"
   },
   "outputs": [
    {
     "name": "stdout",
     "output_type": "stream",
     "text": [
      "Epoch [1/10], Loss: 0.0910\n",
      "Accuracy of the model : 8.29 %\n",
      "Epoch [2/10], Loss: 0.0910\n",
      "Accuracy of the model : 8.29 %\n",
      "Epoch [3/10], Loss: 0.0909\n",
      "Accuracy of the model : 8.29 %\n",
      "Epoch [4/10], Loss: 0.0908\n",
      "Accuracy of the model : 8.29 %\n",
      "Epoch [5/10], Loss: 0.0908\n",
      "Accuracy of the model : 8.29 %\n",
      "Epoch [6/10], Loss: 0.0907\n",
      "Accuracy of the model : 8.29 %\n",
      "Epoch [7/10], Loss: 0.0907\n",
      "Accuracy of the model : 8.29 %\n",
      "Epoch [8/10], Loss: 0.0906\n",
      "Accuracy of the model : 8.29 %\n",
      "Epoch [9/10], Loss: 0.0905\n",
      "Accuracy of the model : 8.29 %\n",
      "Epoch [10/10], Loss: 0.0905\n",
      "Accuracy of the model : 8.29 %\n",
      "Epoch [1/10], Loss: 0.0904\n",
      "Accuracy of the model : 15.26 %\n",
      "Epoch [2/10], Loss: 0.0902\n",
      "Accuracy of the model : 15.26 %\n",
      "Epoch [3/10], Loss: 0.0900\n",
      "Accuracy of the model : 15.26 %\n",
      "Epoch [4/10], Loss: 0.0898\n",
      "Accuracy of the model : 15.26 %\n",
      "Epoch [5/10], Loss: 0.0896\n",
      "Accuracy of the model : 15.26 %\n",
      "Epoch [6/10], Loss: 0.0895\n",
      "Accuracy of the model : 15.26 %\n",
      "Epoch [7/10], Loss: 0.0893\n",
      "Accuracy of the model : 15.26 %\n",
      "Epoch [8/10], Loss: 0.0890\n",
      "Accuracy of the model : 15.26 %\n",
      "Epoch [9/10], Loss: 0.0888\n",
      "Accuracy of the model : 15.26 %\n",
      "Epoch [10/10], Loss: 0.0885\n",
      "Accuracy of the model : 15.34 %\n",
      "Epoch [1/10], Loss: 0.0902\n",
      "Accuracy of the model : 7.36 %\n",
      "Epoch [2/10], Loss: 0.0901\n",
      "Accuracy of the model : 12.86 %\n",
      "Epoch [3/10], Loss: 0.0901\n",
      "Accuracy of the model : 17.74 %\n",
      "Epoch [4/10], Loss: 0.0900\n",
      "Accuracy of the model : 14.79 %\n",
      "Epoch [5/10], Loss: 0.0900\n",
      "Accuracy of the model : 14.56 %\n",
      "Epoch [6/10], Loss: 0.0900\n",
      "Accuracy of the model : 14.56 %\n",
      "Epoch [7/10], Loss: 0.0899\n",
      "Accuracy of the model : 14.56 %\n",
      "Epoch [8/10], Loss: 0.0899\n",
      "Accuracy of the model : 14.56 %\n",
      "Epoch [9/10], Loss: 0.0898\n",
      "Accuracy of the model : 14.56 %\n",
      "Epoch [10/10], Loss: 0.0898\n",
      "Accuracy of the model : 14.56 %\n",
      "Epoch [1/10], Loss: 0.0899\n",
      "Accuracy of the model : 17.97 %\n",
      "Epoch [2/10], Loss: 0.0896\n",
      "Accuracy of the model : 26.41 %\n",
      "Epoch [3/10], Loss: 0.0892\n",
      "Accuracy of the model : 18.98 %\n",
      "Epoch [4/10], Loss: 0.0887\n",
      "Accuracy of the model : 15.26 %\n",
      "Epoch [5/10], Loss: 0.0881\n",
      "Accuracy of the model : 14.64 %\n",
      "Epoch [6/10], Loss: 0.0872\n",
      "Accuracy of the model : 14.56 %\n",
      "Epoch [7/10], Loss: 0.0860\n",
      "Accuracy of the model : 14.56 %\n",
      "Epoch [8/10], Loss: 0.0843\n",
      "Accuracy of the model : 25.87 %\n",
      "Epoch [9/10], Loss: 0.0825\n",
      "Accuracy of the model : 29.74 %\n",
      "Epoch [10/10], Loss: 0.0804\n",
      "Accuracy of the model : 31.60 %\n"
     ]
    }
   ],
   "source": [
    "trial2 = {'models':[],'train_errors':[],'acc':[]}\n",
    "hiddens = [10,20,50,100]\n",
    "for n_hidden in hiddens:\n",
    "    model = Model_withMLP(n_convolutions=1,n_hidden=n_hidden)\n",
    "    train_error , acc = train_conv(model , batch_size=10)\n",
    "   \n",
    "    trial2['models'].append(model)\n",
    "    trial2['train_errors'].append(train_error)\n",
    "    trial2['acc'].append(acc)\n",
    "\n"
   ]
  },
  {
   "cell_type": "code",
   "execution_count": 36,
   "metadata": {
    "colab": {
     "base_uri": "https://localhost:8080/",
     "height": 279
    },
    "id": "hiWKI7QTr8Z9",
    "outputId": "ecfac4e2-8533-4dd2-c587-c7c01c64f998"
   },
   "outputs": [
    {
     "data": {
      "image/png": "[encoded data removed]",
      "text/plain": [
       "<Figure size 432x288 with 1 Axes>"
      ]
     },
     "metadata": {
      "needs_background": "light",
      "tags": []
     },
     "output_type": "display_data"
    }
   ],
   "source": [
    "for i,n_hidden in enumerate(hiddens):\n",
    "\n",
    "    acc = str(round(trial2['acc'][i],1))\n",
    "    error = trial2['train_errors'][i]\n",
    "    plt.plot(error,label=\"n_hidden=\"+str(n_hidden)+\", acc \"+acc)\n",
    "    plt.xlabel(\"epochs\")\n",
    "    plt.ylabel(\"train error\")\n",
    "    plt\n",
    "    plt.legend()\n",
    "    \n",
    "plt.show()"
   ]
  },
  {
   "cell_type": "code",
   "execution_count": 37,
   "metadata": {
    "colab": {
     "base_uri": "https://localhost:8080/"
    },
    "id": "WovP51hvsJHp",
    "outputId": "c559ce8e-72bd-47b2-b8cb-81042e1bd109"
   },
   "outputs": [
    {
     "name": "stdout",
     "output_type": "stream",
     "text": [
      "Epoch [1/10], Loss: 0.0900\n",
      "Accuracy of the model : 7.13 %\n",
      "Epoch [2/10], Loss: 0.0898\n",
      "Accuracy of the model : 19.83 %\n",
      "Epoch [3/10], Loss: 0.0895\n",
      "Accuracy of the model : 15.26 %\n",
      "Epoch [4/10], Loss: 0.0892\n",
      "Accuracy of the model : 14.56 %\n",
      "Epoch [5/10], Loss: 0.0887\n",
      "Accuracy of the model : 14.56 %\n",
      "Epoch [6/10], Loss: 0.0882\n",
      "Accuracy of the model : 14.56 %\n",
      "Epoch [7/10], Loss: 0.0875\n",
      "Accuracy of the model : 14.56 %\n",
      "Epoch [8/10], Loss: 0.0867\n",
      "Accuracy of the model : 14.56 %\n",
      "Epoch [9/10], Loss: 0.0857\n",
      "Accuracy of the model : 28.89 %\n",
      "Epoch [10/10], Loss: 0.0843\n",
      "Accuracy of the model : 29.82 %\n",
      "Epoch [1/10], Loss: 0.0904\n",
      "Accuracy of the model : 4.65 %\n",
      "Epoch [2/10], Loss: 0.0903\n",
      "Accuracy of the model : 4.49 %\n",
      "Epoch [3/10], Loss: 0.0901\n",
      "Accuracy of the model : 9.06 %\n",
      "Epoch [4/10], Loss: 0.0900\n",
      "Accuracy of the model : 14.64 %\n",
      "Epoch [5/10], Loss: 0.0898\n",
      "Accuracy of the model : 14.56 %\n",
      "Epoch [6/10], Loss: 0.0897\n",
      "Accuracy of the model : 14.56 %\n",
      "Epoch [7/10], Loss: 0.0895\n",
      "Accuracy of the model : 14.56 %\n",
      "Epoch [8/10], Loss: 0.0893\n",
      "Accuracy of the model : 14.56 %\n",
      "Epoch [9/10], Loss: 0.0891\n",
      "Accuracy of the model : 14.56 %\n",
      "Epoch [10/10], Loss: 0.0889\n",
      "Accuracy of the model : 14.56 %\n",
      "Epoch [1/10], Loss: 0.0910\n",
      "Accuracy of the model : 10.38 %\n",
      "Epoch [2/10], Loss: 0.0901\n",
      "Accuracy of the model : 14.56 %\n",
      "Epoch [3/10], Loss: 0.0897\n",
      "Accuracy of the model : 14.56 %\n",
      "Epoch [4/10], Loss: 0.0895\n",
      "Accuracy of the model : 14.56 %\n",
      "Epoch [5/10], Loss: 0.0893\n",
      "Accuracy of the model : 14.56 %\n",
      "Epoch [6/10], Loss: 0.0893\n",
      "Accuracy of the model : 14.56 %\n",
      "Epoch [7/10], Loss: 0.0892\n",
      "Accuracy of the model : 14.56 %\n",
      "Epoch [8/10], Loss: 0.0892\n",
      "Accuracy of the model : 14.56 %\n",
      "Epoch [9/10], Loss: 0.0891\n",
      "Accuracy of the model : 14.56 %\n",
      "Epoch [10/10], Loss: 0.0891\n",
      "Accuracy of the model : 14.56 %\n"
     ]
    }
   ],
   "source": [
    "trialx = {'models':[],'train_errors':[],'acc':[]}\n",
    "acts = ['tanh','relu','sigmoid']\n",
    "for act in acts:\n",
    "    model = Model_withMLP(n_convolutions=1,n_hidden=100 , activation=act)\n",
    "    train_error , acc = train_conv(model , batch_size=10 )\n",
    "    trialx['models'].append(model)\n",
    "    trialx['train_errors'].append(train_error)\n",
    "    trialx['acc'].append(acc)\n"
   ]
  },
  {
   "cell_type": "code",
   "execution_count": 38,
   "metadata": {
    "colab": {
     "base_uri": "https://localhost:8080/",
     "height": 279
    },
    "id": "DpYVBgd6sn6O",
    "outputId": "8b65e1f7-9a05-4d59-e493-1022c472bae2"
   },
   "outputs": [
    {
     "data": {
      "image/png": "[encoded data removed]",
      "text/plain": [
       "<Figure size 432x288 with 1 Axes>"
      ]
     },
     "metadata": {
      "needs_background": "light",
      "tags": []
     },
     "output_type": "display_data"
    }
   ],
   "source": [
    "for i,act in enumerate(acts):\n",
    "\n",
    "    acc = str(round(trialx['acc'][i],1))\n",
    "    error = trialx['train_errors'][i]\n",
    "    plt.plot(error,label=\"activation=\"+act+\", acc \"+acc)\n",
    "    plt.xlabel(\"epochs\")\n",
    "    plt.ylabel(\"train error\")\n",
    "    plt\n",
    "    plt.legend()\n",
    "    \n",
    "plt.show()"
   ]
  },
  {
   "cell_type": "markdown",
   "metadata": {
    "id": "gAuwKvub6vaQ"
   },
   "source": [
    "### Exercise 2: Impact of the optimizer\n",
    "Retrain the model by using different parameters of the optimizer; you can change its parameters in the cell initializing it, after the definition of your model.\n",
    "\n",
    "* Use different batch sizes, from 10 to 1 000 for instance\n",
    "* Try different values of the learning rate (between 0.001 and 10), and see how these impact the training process. Do all network architectures react the same way to different learning rates?\n",
    "* Change the duration of the training by increasing the number of epochs\n",
    "* Try other optimizers, such as [Adam](https://pytorch.org/docs/stable/optim.html?highlight=adam#torch.optim.Adam) or [RMSprop](https://pytorch.org/docs/stable/optim.html?highlight=rmsprop#torch.optim.RMSprop)"
   ]
  },
  {
   "cell_type": "code",
   "execution_count": 39,
   "metadata": {
    "colab": {
     "base_uri": "https://localhost:8080/"
    },
    "id": "DpcpY1vBV9jq",
    "outputId": "7a4d8946-88ac-4bf3-a58e-e831c520243e"
   },
   "outputs": [
    {
     "name": "stdout",
     "output_type": "stream",
     "text": [
      "Epoch [1/10], Loss: 0.0912\n",
      "Accuracy of the model : 15.34 %\n",
      "Epoch [2/10], Loss: 0.0912\n",
      "Accuracy of the model : 15.34 %\n",
      "Epoch [3/10], Loss: 0.0911\n",
      "Accuracy of the model : 15.34 %\n",
      "Epoch [4/10], Loss: 0.0911\n",
      "Accuracy of the model : 15.34 %\n",
      "Epoch [5/10], Loss: 0.0911\n",
      "Accuracy of the model : 15.34 %\n",
      "Epoch [6/10], Loss: 0.0911\n",
      "Accuracy of the model : 15.34 %\n",
      "Epoch [7/10], Loss: 0.0911\n",
      "Accuracy of the model : 15.26 %\n",
      "Epoch [8/10], Loss: 0.0911\n",
      "Accuracy of the model : 15.41 %\n",
      "Epoch [9/10], Loss: 0.0911\n",
      "Accuracy of the model : 15.41 %\n",
      "Epoch [10/10], Loss: 0.0911\n",
      "Accuracy of the model : 15.41 %\n",
      "Epoch [1/10], Loss: 0.0903\n",
      "Accuracy of the model : 8.83 %\n",
      "Epoch [2/10], Loss: 0.0903\n",
      "Accuracy of the model : 8.75 %\n",
      "Epoch [3/10], Loss: 0.0903\n",
      "Accuracy of the model : 8.75 %\n",
      "Epoch [4/10], Loss: 0.0902\n",
      "Accuracy of the model : 8.75 %\n",
      "Epoch [5/10], Loss: 0.0902\n",
      "Accuracy of the model : 8.75 %\n",
      "Epoch [6/10], Loss: 0.0902\n",
      "Accuracy of the model : 8.75 %\n",
      "Epoch [7/10], Loss: 0.0901\n",
      "Accuracy of the model : 8.68 %\n",
      "Epoch [8/10], Loss: 0.0901\n",
      "Accuracy of the model : 8.60 %\n",
      "Epoch [9/10], Loss: 0.0901\n",
      "Accuracy of the model : 8.68 %\n",
      "Epoch [10/10], Loss: 0.0900\n",
      "Accuracy of the model : 8.83 %\n",
      "Epoch [1/10], Loss: 0.0902\n",
      "Accuracy of the model : 10.38 %\n",
      "Epoch [2/10], Loss: 0.0902\n",
      "Accuracy of the model : 10.38 %\n",
      "Epoch [3/10], Loss: 0.0901\n",
      "Accuracy of the model : 10.38 %\n",
      "Epoch [4/10], Loss: 0.0901\n",
      "Accuracy of the model : 10.38 %\n",
      "Epoch [5/10], Loss: 0.0901\n",
      "Accuracy of the model : 10.38 %\n",
      "Epoch [6/10], Loss: 0.0900\n",
      "Accuracy of the model : 10.38 %\n",
      "Epoch [7/10], Loss: 0.0900\n",
      "Accuracy of the model : 10.38 %\n",
      "Epoch [8/10], Loss: 0.0900\n",
      "Accuracy of the model : 10.46 %\n",
      "Epoch [9/10], Loss: 0.0900\n",
      "Accuracy of the model : 10.46 %\n",
      "Epoch [10/10], Loss: 0.0899\n",
      "Accuracy of the model : 10.84 %\n",
      "Epoch [1/10], Loss: 0.0898\n",
      "Accuracy of the model : 16.27 %\n",
      "Epoch [2/10], Loss: 0.0895\n",
      "Accuracy of the model : 14.56 %\n",
      "Epoch [3/10], Loss: 0.0891\n",
      "Accuracy of the model : 14.56 %\n",
      "Epoch [4/10], Loss: 0.0887\n",
      "Accuracy of the model : 14.56 %\n",
      "Epoch [5/10], Loss: 0.0883\n",
      "Accuracy of the model : 14.56 %\n",
      "Epoch [6/10], Loss: 0.0877\n",
      "Accuracy of the model : 14.56 %\n",
      "Epoch [7/10], Loss: 0.0870\n",
      "Accuracy of the model : 14.56 %\n",
      "Epoch [8/10], Loss: 0.0862\n",
      "Accuracy of the model : 14.56 %\n",
      "Epoch [9/10], Loss: 0.0851\n",
      "Accuracy of the model : 14.56 %\n",
      "Epoch [10/10], Loss: 0.0839\n",
      "Accuracy of the model : 29.82 %\n",
      "Epoch [1/10], Loss: 0.0899\n",
      "Accuracy of the model : 31.37 %\n",
      "Epoch [2/10], Loss: 0.0885\n",
      "Accuracy of the model : 29.51 %\n",
      "Epoch [3/10], Loss: 0.0867\n",
      "Accuracy of the model : 29.43 %\n",
      "Epoch [4/10], Loss: 0.0841\n",
      "Accuracy of the model : 29.82 %\n",
      "Epoch [5/10], Loss: 0.0798\n",
      "Accuracy of the model : 31.29 %\n",
      "Epoch [6/10], Loss: 0.0737\n",
      "Accuracy of the model : 39.50 %\n",
      "Epoch [7/10], Loss: 0.0670\n",
      "Accuracy of the model : 48.57 %\n",
      "Epoch [8/10], Loss: 0.0599\n",
      "Accuracy of the model : 64.29 %\n",
      "Epoch [9/10], Loss: 0.0513\n",
      "Accuracy of the model : 74.83 %\n",
      "Epoch [10/10], Loss: 0.0418\n",
      "Accuracy of the model : 76.76 %\n"
     ]
    }
   ],
   "source": [
    "trial3 = {'models':[],'train_errors':[],'acc':[]}\n",
    "batch_sizes = [200, 100,50,10, 5]\n",
    "for b_size in batch_sizes:\n",
    "    model = Model_withMLP(n_convolutions=1,n_hidden=100 )\n",
    "    train_error , acc = train_conv(model , batch_size=b_size  )\n",
    "    trial3['models'].append(model)\n",
    "    trial3['train_errors'].append(train_error)\n",
    "    trial3['acc'].append(acc)"
   ]
  },
  {
   "cell_type": "code",
   "execution_count": 40,
   "metadata": {
    "colab": {
     "base_uri": "https://localhost:8080/",
     "height": 279
    },
    "id": "q0fl2C3CWYQg",
    "outputId": "cb41e5ee-36fb-4136-958f-a0b69f215e8a"
   },
   "outputs": [
    {
     "data": {
      "image/png": "[encoded data removed]",
      "text/plain": [
       "<Figure size 432x288 with 1 Axes>"
      ]
     },
     "metadata": {
      "needs_background": "light",
      "tags": []
     },
     "output_type": "display_data"
    }
   ],
   "source": [
    "for i,b_size in enumerate(batch_sizes):\n",
    "\n",
    "    acc = str(round(trial3['acc'][i],1))\n",
    "    error = trial3['train_errors'][i]\n",
    "    plt.plot(error,label=\"batch_size=\"+str(b_size)+\", acc \"+acc)\n",
    "    plt.xlabel(\"epochs\")\n",
    "    plt.ylabel(\"train error\")\n",
    "    plt\n",
    "    plt.legend()\n",
    "    \n",
    "plt.show()"
   ]
  },
  {
   "cell_type": "code",
   "execution_count": 41,
   "metadata": {
    "colab": {
     "base_uri": "https://localhost:8080/"
    },
    "id": "ZWdL0lkdWfb-",
    "outputId": "531ba711-a5e9-4bc0-a7ba-8e3405a282bf"
   },
   "outputs": [
    {
     "name": "stdout",
     "output_type": "stream",
     "text": [
      "Epoch [1/10], Loss: 0.0903\n",
      "Accuracy of the model : 5.81 %\n",
      "Epoch [2/10], Loss: 0.0903\n",
      "Accuracy of the model : 5.89 %\n",
      "Epoch [3/10], Loss: 0.0903\n",
      "Accuracy of the model : 5.89 %\n",
      "Epoch [4/10], Loss: 0.0903\n",
      "Accuracy of the model : 5.89 %\n",
      "Epoch [5/10], Loss: 0.0903\n",
      "Accuracy of the model : 5.81 %\n",
      "Epoch [6/10], Loss: 0.0903\n",
      "Accuracy of the model : 5.89 %\n",
      "Epoch [7/10], Loss: 0.0903\n",
      "Accuracy of the model : 5.81 %\n",
      "Epoch [8/10], Loss: 0.0903\n",
      "Accuracy of the model : 5.65 %\n",
      "Epoch [9/10], Loss: 0.0903\n",
      "Accuracy of the model : 5.58 %\n",
      "Epoch [10/10], Loss: 0.0903\n",
      "Accuracy of the model : 5.58 %\n",
      "Epoch [1/10], Loss: 0.0902\n",
      "Accuracy of the model : 10.38 %\n",
      "Epoch [2/10], Loss: 0.0902\n",
      "Accuracy of the model : 10.38 %\n",
      "Epoch [3/10], Loss: 0.0902\n",
      "Accuracy of the model : 10.38 %\n",
      "Epoch [4/10], Loss: 0.0902\n",
      "Accuracy of the model : 10.38 %\n",
      "Epoch [5/10], Loss: 0.0901\n",
      "Accuracy of the model : 10.38 %\n",
      "Epoch [6/10], Loss: 0.0901\n",
      "Accuracy of the model : 10.38 %\n",
      "Epoch [7/10], Loss: 0.0901\n",
      "Accuracy of the model : 10.38 %\n",
      "Epoch [8/10], Loss: 0.0901\n",
      "Accuracy of the model : 10.38 %\n",
      "Epoch [9/10], Loss: 0.0901\n",
      "Accuracy of the model : 10.38 %\n",
      "Epoch [10/10], Loss: 0.0900\n",
      "Accuracy of the model : 10.38 %\n",
      "Epoch [1/10], Loss: 0.0902\n",
      "Accuracy of the model : 11.08 %\n",
      "Epoch [2/10], Loss: 0.0900\n",
      "Accuracy of the model : 12.08 %\n",
      "Epoch [3/10], Loss: 0.0899\n",
      "Accuracy of the model : 22.00 %\n",
      "Epoch [4/10], Loss: 0.0897\n",
      "Accuracy of the model : 19.52 %\n",
      "Epoch [5/10], Loss: 0.0896\n",
      "Accuracy of the model : 15.80 %\n",
      "Epoch [6/10], Loss: 0.0894\n",
      "Accuracy of the model : 14.56 %\n",
      "Epoch [7/10], Loss: 0.0891\n",
      "Accuracy of the model : 14.56 %\n",
      "Epoch [8/10], Loss: 0.0888\n",
      "Accuracy of the model : 14.56 %\n",
      "Epoch [9/10], Loss: 0.0883\n",
      "Accuracy of the model : 14.56 %\n",
      "Epoch [10/10], Loss: 0.0877\n",
      "Accuracy of the model : 14.56 %\n",
      "Epoch [1/10], Loss: 0.0894\n",
      "Accuracy of the model : 14.56 %\n",
      "Epoch [2/10], Loss: 0.0850\n",
      "Accuracy of the model : 29.74 %\n",
      "Epoch [3/10], Loss: 0.0590\n",
      "Accuracy of the model : 77.30 %\n",
      "Epoch [4/10], Loss: 0.0249\n",
      "Accuracy of the model : 90.55 %\n",
      "Epoch [5/10], Loss: 0.0142\n",
      "Accuracy of the model : 92.33 %\n",
      "Epoch [6/10], Loss: 0.0115\n",
      "Accuracy of the model : 93.03 %\n",
      "Epoch [7/10], Loss: 0.0105\n",
      "Accuracy of the model : 91.71 %\n",
      "Epoch [8/10], Loss: 0.0098\n",
      "Accuracy of the model : 93.80 %\n",
      "Epoch [9/10], Loss: 0.0092\n",
      "Accuracy of the model : 93.57 %\n",
      "Epoch [10/10], Loss: 0.0087\n",
      "Accuracy of the model : 93.65 %\n",
      "Epoch [1/10], Loss: 0.0315\n",
      "Accuracy of the model : 92.49 %\n",
      "Epoch [2/10], Loss: 0.0116\n",
      "Accuracy of the model : 93.49 %\n",
      "Epoch [3/10], Loss: 0.0090\n",
      "Accuracy of the model : 94.58 %\n",
      "Epoch [4/10], Loss: 0.0076\n",
      "Accuracy of the model : 96.13 %\n",
      "Epoch [5/10], Loss: 0.0072\n",
      "Accuracy of the model : 94.97 %\n",
      "Epoch [6/10], Loss: 0.0060\n",
      "Accuracy of the model : 96.59 %\n",
      "Epoch [7/10], Loss: 0.0056\n",
      "Accuracy of the model : 97.29 %\n",
      "Epoch [8/10], Loss: 0.0050\n",
      "Accuracy of the model : 96.51 %\n",
      "Epoch [9/10], Loss: 0.0045\n",
      "Accuracy of the model : 97.99 %\n",
      "Epoch [10/10], Loss: 0.0040\n",
      "Accuracy of the model : 98.14 %\n",
      "Epoch [1/10], Loss: 0.0493\n",
      "Accuracy of the model : 73.59 %\n",
      "Epoch [2/10], Loss: 0.0613\n",
      "Accuracy of the model : 9.37 %\n",
      "Epoch [3/10], Loss: 0.0897\n",
      "Accuracy of the model : 14.56 %\n",
      "Epoch [4/10], Loss: 0.0896\n",
      "Accuracy of the model : 9.37 %\n",
      "Epoch [5/10], Loss: 0.0896\n",
      "Accuracy of the model : 14.56 %\n",
      "Epoch [6/10], Loss: 0.0896\n",
      "Accuracy of the model : 15.26 %\n",
      "Epoch [7/10], Loss: 0.0895\n",
      "Accuracy of the model : 14.56 %\n",
      "Epoch [8/10], Loss: 0.0895\n",
      "Accuracy of the model : 14.56 %\n",
      "Epoch [9/10], Loss: 0.0895\n",
      "Accuracy of the model : 14.56 %\n",
      "Epoch [10/10], Loss: 0.0895\n",
      "Accuracy of the model : 14.56 %\n"
     ]
    }
   ],
   "source": [
    "trial3 = {'models':[],'train_errors':[],'acc':[]}\n",
    "lr_rates = [1e-4,1e-3,1e-2,1e-1,1,10]\n",
    "\n",
    "for lr in lr_rates:\n",
    "    model = Model_withMLP(n_convolutions=1,n_hidden=100 )\n",
    "    train_error , acc = train_conv(model , batch_size=10 , lr = lr  )\n",
    "    trial3['models'].append(model)\n",
    "    trial3['train_errors'].append(train_error)\n",
    "    trial3['acc'].append(acc)"
   ]
  },
  {
   "cell_type": "code",
   "execution_count": 42,
   "metadata": {
    "colab": {
     "base_uri": "https://localhost:8080/",
     "height": 279
    },
    "id": "tQ3woxu9Wrm8",
    "outputId": "ed4c63f0-310b-4ef2-d527-0bcb82c274d9"
   },
   "outputs": [
    {
     "data": {
      "image/png": "[encoded data removed]",
      "text/plain": [
       "<Figure size 432x288 with 1 Axes>"
      ]
     },
     "metadata": {
      "needs_background": "light",
      "tags": []
     },
     "output_type": "display_data"
    }
   ],
   "source": [
    "for i,lr in enumerate(lr_rates):\n",
    "\n",
    "    acc = str(round(trial3['acc'][i],1))\n",
    "    error = trial3['train_errors'][i]\n",
    "    plt.plot(error,label=\"lr=\"+str(lr)+\", acc \"+acc)\n",
    "    plt.xlabel(\"epochs\")\n",
    "    plt.ylabel(\"train error\")\n",
    "    plt.legend()\n",
    "    \n",
    "plt.show()"
   ]
  },
  {
   "cell_type": "code",
   "execution_count": 43,
   "metadata": {
    "colab": {
     "base_uri": "https://localhost:8080/"
    },
    "id": "wKCMdk2BxM-t",
    "outputId": "4e9279fe-e544-4db8-c570-b801dbe48ca1"
   },
   "outputs": [
    {
     "name": "stdout",
     "output_type": "stream",
     "text": [
      "Epoch [1/20], Loss: 0.0237\n",
      "Accuracy of the model : 93.03 %\n",
      "Epoch [2/20], Loss: 0.0096\n",
      "Accuracy of the model : 93.88 %\n",
      "Epoch [3/20], Loss: 0.0081\n",
      "Accuracy of the model : 94.50 %\n",
      "Epoch [4/20], Loss: 0.0069\n",
      "Accuracy of the model : 96.59 %\n",
      "Epoch [5/20], Loss: 0.0058\n",
      "Accuracy of the model : 96.59 %\n",
      "Epoch [6/20], Loss: 0.0051\n",
      "Accuracy of the model : 96.98 %\n",
      "Epoch [7/20], Loss: 0.0045\n",
      "Accuracy of the model : 97.75 %\n",
      "Epoch [8/20], Loss: 0.0041\n",
      "Accuracy of the model : 97.99 %\n",
      "Epoch [9/20], Loss: 0.0033\n",
      "Accuracy of the model : 97.99 %\n",
      "Epoch [10/20], Loss: 0.0030\n",
      "Accuracy of the model : 98.06 %\n",
      "Epoch [11/20], Loss: 0.0025\n",
      "Accuracy of the model : 98.84 %\n",
      "Epoch [12/20], Loss: 0.0022\n",
      "Accuracy of the model : 98.84 %\n",
      "Epoch [13/20], Loss: 0.0020\n",
      "Accuracy of the model : 99.23 %\n",
      "Epoch [14/20], Loss: 0.0018\n",
      "Accuracy of the model : 98.53 %\n",
      "Epoch [15/20], Loss: 0.0015\n",
      "Accuracy of the model : 98.92 %\n",
      "Epoch [16/20], Loss: 0.0015\n",
      "Accuracy of the model : 99.46 %\n",
      "Epoch [17/20], Loss: 0.0013\n",
      "Accuracy of the model : 99.38 %\n",
      "Epoch [18/20], Loss: 0.0011\n",
      "Accuracy of the model : 99.30 %\n",
      "Epoch [19/20], Loss: 0.0008\n",
      "Accuracy of the model : 99.07 %\n",
      "Epoch [20/20], Loss: 0.0009\n",
      "Accuracy of the model : 99.61 %\n",
      "Epoch [1/20], Loss: 0.0202\n",
      "Accuracy of the model : 92.49 %\n",
      "Epoch [2/20], Loss: 0.0101\n",
      "Accuracy of the model : 92.72 %\n",
      "Epoch [3/20], Loss: 0.0087\n",
      "Accuracy of the model : 95.20 %\n",
      "Epoch [4/20], Loss: 0.0078\n",
      "Accuracy of the model : 93.42 %\n",
      "Epoch [5/20], Loss: 0.0068\n",
      "Accuracy of the model : 95.89 %\n",
      "Epoch [6/20], Loss: 0.0060\n",
      "Accuracy of the model : 97.13 %\n",
      "Epoch [7/20], Loss: 0.0055\n",
      "Accuracy of the model : 97.13 %\n",
      "Epoch [8/20], Loss: 0.0048\n",
      "Accuracy of the model : 97.44 %\n",
      "Epoch [9/20], Loss: 0.0044\n",
      "Accuracy of the model : 98.22 %\n",
      "Epoch [10/20], Loss: 0.0038\n",
      "Accuracy of the model : 97.99 %\n",
      "Epoch [11/20], Loss: 0.0034\n",
      "Accuracy of the model : 97.83 %\n",
      "Epoch [12/20], Loss: 0.0031\n",
      "Accuracy of the model : 98.84 %\n",
      "Epoch [13/20], Loss: 0.0028\n",
      "Accuracy of the model : 99.15 %\n",
      "Epoch [14/20], Loss: 0.0026\n",
      "Accuracy of the model : 95.20 %\n",
      "Epoch [15/20], Loss: 0.0026\n",
      "Accuracy of the model : 99.07 %\n",
      "Epoch [16/20], Loss: 0.0022\n",
      "Accuracy of the model : 98.37 %\n",
      "Epoch [17/20], Loss: 0.0018\n",
      "Accuracy of the model : 99.07 %\n",
      "Epoch [18/20], Loss: 0.0017\n",
      "Accuracy of the model : 99.23 %\n",
      "Epoch [19/20], Loss: 0.0018\n",
      "Accuracy of the model : 99.23 %\n",
      "Epoch [20/20], Loss: 0.0016\n",
      "Accuracy of the model : 99.38 %\n",
      "Epoch [1/20], Loss: 0.0895\n",
      "Accuracy of the model : 29.51 %\n",
      "Epoch [2/20], Loss: 0.0856\n",
      "Accuracy of the model : 29.98 %\n",
      "Epoch [3/20], Loss: 0.0601\n",
      "Accuracy of the model : 77.54 %\n",
      "Epoch [4/20], Loss: 0.0245\n",
      "Accuracy of the model : 90.86 %\n",
      "Epoch [5/20], Loss: 0.0144\n",
      "Accuracy of the model : 92.72 %\n",
      "Epoch [6/20], Loss: 0.0117\n",
      "Accuracy of the model : 92.18 %\n",
      "Epoch [7/20], Loss: 0.0104\n",
      "Accuracy of the model : 93.65 %\n",
      "Epoch [8/20], Loss: 0.0097\n",
      "Accuracy of the model : 94.11 %\n",
      "Epoch [9/20], Loss: 0.0093\n",
      "Accuracy of the model : 93.65 %\n",
      "Epoch [10/20], Loss: 0.0087\n",
      "Accuracy of the model : 94.27 %\n",
      "Epoch [11/20], Loss: 0.0086\n",
      "Accuracy of the model : 93.42 %\n",
      "Epoch [12/20], Loss: 0.0082\n",
      "Accuracy of the model : 95.20 %\n",
      "Epoch [13/20], Loss: 0.0080\n",
      "Accuracy of the model : 86.21 %\n",
      "Epoch [14/20], Loss: 0.0078\n",
      "Accuracy of the model : 94.89 %\n",
      "Epoch [15/20], Loss: 0.0075\n",
      "Accuracy of the model : 95.51 %\n",
      "Epoch [16/20], Loss: 0.0072\n",
      "Accuracy of the model : 95.27 %\n",
      "Epoch [17/20], Loss: 0.0069\n",
      "Accuracy of the model : 94.81 %\n",
      "Epoch [18/20], Loss: 0.0069\n",
      "Accuracy of the model : 95.58 %\n",
      "Epoch [19/20], Loss: 0.0067\n",
      "Accuracy of the model : 95.89 %\n",
      "Epoch [20/20], Loss: 0.0064\n",
      "Accuracy of the model : 95.97 %\n"
     ]
    }
   ],
   "source": [
    "trial3 = {'models':[],'train_errors':[],'acc':[]}\n",
    "from torch.optim import SGD,RMSprop,Adam\n",
    "\n",
    "\n",
    "opts_str = ['Adam','RMSprop','SGD']\n",
    "\n",
    "for opt_str in opts_str:\n",
    "\n",
    "    \n",
    "    if opt_str == 'SGD': \n",
    "      opt = torch.optim.SGD\n",
    "      LR =  0.1\n",
    "    if opt_str == 'RMSprop' : \n",
    "      opt = torch.optim.RMSprop\n",
    "      LR = .001\n",
    "    if opt_str == 'Adam' : \n",
    "      opt=torch.optim.Adam\n",
    "      LR = .001\n",
    "    \n",
    "    model = Model_withMLP(n_convolutions=1,n_hidden=100 )\n",
    "    train_error , acc = train_conv(model , batch_size=10 , num_epochs =20 , lr = LR  , optimizer = opt)\n",
    "    trial3['models'].append(model)\n",
    "    trial3['train_errors'].append(train_error)\n",
    "    trial3['acc'].append(acc)"
   ]
  },
  {
   "cell_type": "code",
   "execution_count": 44,
   "metadata": {
    "colab": {
     "base_uri": "https://localhost:8080/",
     "height": 279
    },
    "id": "G9depr1DyHsn",
    "outputId": "74c72b36-2772-4ed4-9e82-4b85841d3c37"
   },
   "outputs": [
    {
     "data": {
      "image/png": "[encoded data removed]",
      "text/plain": [
       "<Figure size 432x288 with 1 Axes>"
      ]
     },
     "metadata": {
      "needs_background": "light",
      "tags": []
     },
     "output_type": "display_data"
    }
   ],
   "source": [
    "for i,opt in enumerate(opts_str):\n",
    "\n",
    "    acc = str(round(trial3['acc'][i],1))\n",
    "    error = trial3['train_errors'][i]\n",
    "    plt.plot(error,label=\"lr=\"+opt+\", acc \"+acc)\n",
    "    plt.xlabel(\"epochs\")\n",
    "    plt.ylabel(\"train error\")\n",
    "    plt.legend()\n",
    "    \n",
    "plt.show()"
   ]
  },
  {
   "cell_type": "markdown",
   "metadata": {
    "id": "3mHCXzRi6vaQ"
   },
   "source": [
    "### Exercise 3: Impact of the loss function\n",
    "The MSE error is rarely used in this case. The cross entropy loss can be a better choice for multi-classification problems. In pytorch, the cross entropy loss is defined by [nn.CrossEntropyLoss](https://pytorch.org/docs/stable/nn.html#crossentropyloss). Replace the MSE loss by this one to observe its impact.\n",
    "\n",
    "**Note:** In order to use nn.CrossEntropyLoss correctly, don't add an activation function to the last layer of your network. And one-hot encoding is no longer needed to calculate the loss, delete the encoding procedures in function `train`.   "
   ]
  },
  {
   "cell_type": "code",
   "execution_count": 45,
   "metadata": {
    "id": "f-I59ZOp0rE2"
   },
   "outputs": [],
   "source": [
    "class Model_withMLPCE(nn.Module):\n",
    "\n",
    "    def __init__(self,n_hidden,n_convolutions=1,activation='relu'):\n",
    "\n",
    "        super(Model_withMLPCE,self).__init__()\n",
    "        self.n_hidden=n_hidden\n",
    "        self.cnn= nn.Sequential()\n",
    "\n",
    "        if activation == 'relu': self.act = nn.ReLU()\n",
    "        elif activation == 'sigmoid' : self.act = nn.Sigmoid()\n",
    "        elif activation == 'tanh'  : self.act = nn.Tanh()\n",
    "\n",
    "        else: print (\"NOT A VALID ACTIVATION\")\n",
    "\n",
    "\n",
    "\n",
    "        for i in range(n_convolutions):\n",
    "            if i ==0:  self.cnn.add_module(\"convblock\"+str(i),ConvBlock(1,5))\n",
    "            else: self.cnn.add_module(\"convblock\"+str(i),ConvBlock(5,5))\n",
    "        \n",
    "        self.cnn.add_module(\"flat\",nn.Flatten(start_dim=1))\n",
    "        \n",
    "        if self.n_hidden==0:\n",
    "              self.commun = nn.Sequential(\n",
    "                        self.cnn,\n",
    "                        \n",
    "                  nn.Linear(self.cnn_out_size(),10),\n",
    "                  \n",
    "              )\n",
    "        else : \n",
    "              self.CNN = nn.Sequential(\n",
    "                        self.cnn,\n",
    "                  nn.Linear(self.cnn_out_size(),self.n_hidden),\n",
    "                  self.act,      \n",
    "                  nn.Linear(self.n_hidden,10),\n",
    "                  \n",
    "              )\n",
    "        \n",
    "        \n",
    "            \n",
    "    def forward(self,x):\n",
    "        \n",
    "        predic = self.CNN(x)\n",
    "        \n",
    "        return predic\n",
    "\n",
    "\n",
    "    def cnn_out_size(self):\n",
    "        tst = torch.ones((1,1,16,16))\n",
    "        return self.cnn(tst).size(-1)"
   ]
  },
  {
   "cell_type": "code",
   "execution_count": 46,
   "metadata": {
    "id": "f9ZJeWHg1HBk"
   },
   "outputs": [],
   "source": [
    "def train_CE(model, dataset = dataset , val_set = val_set , lr = 0.01 , num_epochs=10, batch_size=5, criterion=nn.CrossEntropyLoss(), optimizer = torch.optim.SGD):\n",
    "    train_error = []\n",
    "    optimizer = optimizer(model.parameters(), lr=lr)\n",
    "    train_loader = DataLoader(dataset, batch_size, shuffle=True)\n",
    "    model.train()\n",
    "    for epoch in range(num_epochs):\n",
    "        epoch_average_loss = 0.0\n",
    "        for (images, labels) in train_loader:\n",
    "            y_pre = model(images.float()) \n",
    "            #reshape the inputs from [N, img_shape, img_shape] to [N, img_shape*img_shape] \n",
    "            \n",
    "            # One-hot encoding or labels so as to calculate MSE error:\n",
    "            # labels_one_hot = torch.FloatTensor(batch_size, 10)\n",
    "            # labels_one_hot.zero_()\n",
    "            # labels_one_hot.scatter_(1, labels.view(-1, 1), 1)\n",
    "           \n",
    "            # print('Ypred' , y_pre.size())\n",
    "            # print('Y' , labels_one_hot.size())\n",
    "            loss = criterion(y_pre, labels)\n",
    "            optimizer.zero_grad()\n",
    "            loss.backward()\n",
    "            optimizer.step()\n",
    "            epoch_average_loss += loss.item() * batch_size / len(dataset)\n",
    "        train_error.append(epoch_average_loss)\n",
    "        print('Epoch [{}/{}], Loss: {:.4f}'\n",
    "                      .format(epoch+1, num_epochs, epoch_average_loss))\n",
    "        acc = accuracy_conv(val_set, model)\n",
    "    return train_error , acc"
   ]
  },
  {
   "cell_type": "code",
   "execution_count": 47,
   "metadata": {
    "colab": {
     "base_uri": "https://localhost:8080/"
    },
    "id": "FKqBsK3i1bvY",
    "outputId": "b1a2743d-aa04-421e-91d3-b61777f611a7"
   },
   "outputs": [
    {
     "name": "stdout",
     "output_type": "stream",
     "text": [
      "Epoch [1/20], Loss: 1.8151\n",
      "Accuracy of the model : 82.96 %\n",
      "Epoch [2/20], Loss: 0.3850\n",
      "Accuracy of the model : 67.00 %\n",
      "Epoch [3/20], Loss: 0.2653\n",
      "Accuracy of the model : 92.56 %\n",
      "Epoch [4/20], Loss: 0.2268\n",
      "Accuracy of the model : 92.41 %\n",
      "Epoch [5/20], Loss: 0.2036\n",
      "Accuracy of the model : 94.27 %\n",
      "Epoch [6/20], Loss: 0.1856\n",
      "Accuracy of the model : 95.20 %\n",
      "Epoch [7/20], Loss: 0.1681\n",
      "Accuracy of the model : 93.96 %\n",
      "Epoch [8/20], Loss: 0.1581\n",
      "Accuracy of the model : 95.66 %\n",
      "Epoch [9/20], Loss: 0.1433\n",
      "Accuracy of the model : 95.27 %\n",
      "Epoch [10/20], Loss: 0.1359\n",
      "Accuracy of the model : 94.42 %\n",
      "Epoch [11/20], Loss: 0.1260\n",
      "Accuracy of the model : 95.66 %\n",
      "Epoch [12/20], Loss: 0.1156\n",
      "Accuracy of the model : 96.75 %\n",
      "Epoch [13/20], Loss: 0.1109\n",
      "Accuracy of the model : 96.75 %\n",
      "Epoch [14/20], Loss: 0.1013\n",
      "Accuracy of the model : 97.13 %\n",
      "Epoch [15/20], Loss: 0.0976\n",
      "Accuracy of the model : 97.29 %\n",
      "Epoch [16/20], Loss: 0.0930\n",
      "Accuracy of the model : 96.98 %\n",
      "Epoch [17/20], Loss: 0.0874\n",
      "Accuracy of the model : 96.90 %\n",
      "Epoch [18/20], Loss: 0.0828\n",
      "Accuracy of the model : 97.21 %\n",
      "Epoch [19/20], Loss: 0.0798\n",
      "Accuracy of the model : 97.21 %\n",
      "Epoch [20/20], Loss: 0.0733\n",
      "Accuracy of the model : 96.90 %\n",
      "Epoch [1/20], Loss: 0.3776\n",
      "Accuracy of the model : 83.66 %\n",
      "Epoch [2/20], Loss: 0.1703\n",
      "Accuracy of the model : 96.28 %\n",
      "Epoch [3/20], Loss: 0.1412\n",
      "Accuracy of the model : 96.44 %\n",
      "Epoch [4/20], Loss: 0.1189\n",
      "Accuracy of the model : 97.99 %\n",
      "Epoch [5/20], Loss: 0.1052\n",
      "Accuracy of the model : 97.99 %\n",
      "Epoch [6/20], Loss: 0.0974\n",
      "Accuracy of the model : 97.13 %\n",
      "Epoch [7/20], Loss: 0.0841\n",
      "Accuracy of the model : 97.44 %\n",
      "Epoch [8/20], Loss: 0.0778\n",
      "Accuracy of the model : 98.68 %\n",
      "Epoch [9/20], Loss: 0.0729\n",
      "Accuracy of the model : 97.60 %\n",
      "Epoch [10/20], Loss: 0.0655\n",
      "Accuracy of the model : 98.92 %\n",
      "Epoch [11/20], Loss: 0.0689\n",
      "Accuracy of the model : 98.99 %\n",
      "Epoch [12/20], Loss: 0.0655\n",
      "Accuracy of the model : 80.71 %\n",
      "Epoch [13/20], Loss: 0.0518\n",
      "Accuracy of the model : 97.29 %\n",
      "Epoch [14/20], Loss: 0.0542\n",
      "Accuracy of the model : 99.38 %\n",
      "Epoch [15/20], Loss: 0.0576\n",
      "Accuracy of the model : 98.61 %\n",
      "Epoch [16/20], Loss: 0.0488\n",
      "Accuracy of the model : 99.61 %\n",
      "Epoch [17/20], Loss: 0.0503\n",
      "Accuracy of the model : 99.07 %\n",
      "Epoch [18/20], Loss: 0.0439\n",
      "Accuracy of the model : 96.05 %\n",
      "Epoch [19/20], Loss: 0.0422\n",
      "Accuracy of the model : 99.15 %\n",
      "Epoch [20/20], Loss: 0.0516\n",
      "Accuracy of the model : 98.45 %\n",
      "Epoch [1/20], Loss: 0.3705\n",
      "Accuracy of the model : 95.97 %\n",
      "Epoch [2/20], Loss: 0.1366\n",
      "Accuracy of the model : 96.28 %\n",
      "Epoch [3/20], Loss: 0.0984\n",
      "Accuracy of the model : 97.99 %\n",
      "Epoch [4/20], Loss: 0.0852\n",
      "Accuracy of the model : 97.91 %\n",
      "Epoch [5/20], Loss: 0.0748\n",
      "Accuracy of the model : 98.61 %\n",
      "Epoch [6/20], Loss: 0.0800\n",
      "Accuracy of the model : 98.22 %\n",
      "Epoch [7/20], Loss: 0.0533\n",
      "Accuracy of the model : 99.23 %\n",
      "Epoch [8/20], Loss: 0.0530\n",
      "Accuracy of the model : 98.53 %\n",
      "Epoch [9/20], Loss: 0.0402\n",
      "Accuracy of the model : 98.30 %\n",
      "Epoch [10/20], Loss: 0.0524\n",
      "Accuracy of the model : 98.06 %\n",
      "Epoch [11/20], Loss: 0.0612\n",
      "Accuracy of the model : 98.76 %\n",
      "Epoch [12/20], Loss: 0.0411\n",
      "Accuracy of the model : 99.85 %\n",
      "Epoch [13/20], Loss: 0.0546\n",
      "Accuracy of the model : 98.61 %\n",
      "Epoch [14/20], Loss: 0.0388\n",
      "Accuracy of the model : 99.77 %\n",
      "Epoch [15/20], Loss: 0.0539\n",
      "Accuracy of the model : 98.92 %\n",
      "Epoch [16/20], Loss: 0.0533\n",
      "Accuracy of the model : 98.84 %\n",
      "Epoch [17/20], Loss: 0.0262\n",
      "Accuracy of the model : 99.77 %\n",
      "Epoch [18/20], Loss: 0.0532\n",
      "Accuracy of the model : 99.38 %\n",
      "Epoch [19/20], Loss: 0.0375\n",
      "Accuracy of the model : 98.76 %\n",
      "Epoch [20/20], Loss: 0.1135\n",
      "Accuracy of the model : 98.68 %\n"
     ]
    }
   ],
   "source": [
    "trial3 = {'models':[],'train_errors':[],'acc':[]}\n",
    "from torch.optim import SGD,RMSprop,Adam\n",
    "\n",
    "\n",
    "opts_str = ['SGD','RMSprop','Adam']\n",
    "\n",
    "for opt_str in opts_str:\n",
    "\n",
    "    \n",
    "    if opt_str == 'SGD': opt = torch.optim.SGD\n",
    "    if opt_str == 'RMSprop' : opt = torch.optim.RMSprop\n",
    "    if opt_str == 'Adam' : opt=torch.optim.Adam\n",
    "    \n",
    "    model = Model_withMLPCE(n_convolutions=1,n_hidden=100 )\n",
    "    train_error , acc = train_CE(model , batch_size=10 , num_epochs =20 , lr = 0.01  , optimizer = opt)\n",
    "    trial3['models'].append(model)\n",
    "    trial3['train_errors'].append(train_error)\n",
    "    trial3['acc'].append(acc)"
   ]
  },
  {
   "cell_type": "code",
   "execution_count": 48,
   "metadata": {
    "colab": {
     "base_uri": "https://localhost:8080/",
     "height": 279
    },
    "id": "FgCjk4aq1zIO",
    "outputId": "94e47c74-fd29-4a96-aaeb-e4eafcb9e757"
   },
   "outputs": [
    {
     "data": {
      "image/png": "[encoded data removed]",
      "text/plain": [
       "<Figure size 432x288 with 1 Axes>"
      ]
     },
     "metadata": {
      "needs_background": "light",
      "tags": []
     },
     "output_type": "display_data"
    }
   ],
   "source": [
    "for i,opt in enumerate(opts_str):\n",
    "\n",
    "    acc = str(round(trial3['acc'][i],1))\n",
    "    error = trial3['train_errors'][i]\n",
    "    plt.plot(error,label=\"lr=\"+opt+\", acc \"+acc)\n",
    "    plt.xlabel(\"epochs\")\n",
    "    plt.ylabel(\"train error\")\n",
    "    plt.legend()\n",
    "    \n",
    "plt.show()"
   ]
  },
  {
   "cell_type": "markdown",
   "metadata": {
    "id": "ZsPRslD96vaS"
   },
   "source": [
    "### Exercise 4: Prediction on test set\n",
    "\n",
    "Once you have a model that seems satisfying on the validation dataset, you SHOULD evaluate it on a test dataset that has never been used before, to obtain a final accuracy value."
   ]
  },
  {
   "cell_type": "code",
   "execution_count": 49,
   "metadata": {
    "colab": {
     "base_uri": "https://localhost:8080/"
    },
    "id": "GJgqAO3a6vaS",
    "outputId": "d919e67d-e9e6-4075-b5ab-f9864a2d02a6"
   },
   "outputs": [
    {
     "data": {
      "text/plain": [
       "1831726"
      ]
     },
     "execution_count": 49,
     "metadata": {
      "tags": []
     },
     "output_type": "execute_result"
    }
   ],
   "source": [
    "url = 'http://www.csie.ntu.edu.tw/~cjlin/libsvmtools/datasets/multiclass/usps.t.bz2'\n",
    "r = requests.get(url, allow_redirects=True)\n",
    "open('USPS/usps.t.bz2', 'wb').write(r.content)"
   ]
  },
  {
   "cell_type": "code",
   "execution_count": 50,
   "metadata": {
    "id": "P0NoLfM76vaS"
   },
   "outputs": [],
   "source": [
    "# Loading MNIST test set from torchvision.dataset\n",
    "test_set = torchvision.datasets.USPS(root='USPS/',\n",
    "                                         train=False,\n",
    "                                         transform=transforms.ToTensor(),\n",
    "                                         download=False)"
   ]
  },
  {
   "cell_type": "code",
   "execution_count": 51,
   "metadata": {
    "colab": {
     "base_uri": "https://localhost:8080/"
    },
    "id": "8tEPp_AN6vaT",
    "outputId": "c0edf3ca-04ba-480f-bcc7-282942d43483"
   },
   "outputs": [
    {
     "name": "stdout",
     "output_type": "stream",
     "text": [
      "Epoch [1/20], Loss: 0.4394\n",
      "Accuracy of the model : 94.58 %\n",
      "Epoch [2/20], Loss: 0.1928\n",
      "Accuracy of the model : 95.82 %\n",
      "Epoch [3/20], Loss: 0.1606\n",
      "Accuracy of the model : 96.44 %\n",
      "Epoch [4/20], Loss: 0.1302\n",
      "Accuracy of the model : 97.13 %\n",
      "Epoch [5/20], Loss: 0.1175\n",
      "Accuracy of the model : 96.67 %\n",
      "Epoch [6/20], Loss: 0.1006\n",
      "Accuracy of the model : 97.06 %\n",
      "Epoch [7/20], Loss: 0.1039\n",
      "Accuracy of the model : 97.83 %\n",
      "Epoch [8/20], Loss: 0.0889\n",
      "Accuracy of the model : 98.68 %\n",
      "Epoch [9/20], Loss: 0.0818\n",
      "Accuracy of the model : 97.68 %\n",
      "Epoch [10/20], Loss: 0.0763\n",
      "Accuracy of the model : 97.29 %\n",
      "Epoch [11/20], Loss: 0.0707\n",
      "Accuracy of the model : 96.51 %\n",
      "Epoch [12/20], Loss: 0.0667\n",
      "Accuracy of the model : 98.06 %\n",
      "Epoch [13/20], Loss: 0.0704\n",
      "Accuracy of the model : 98.84 %\n",
      "Epoch [14/20], Loss: 0.0622\n",
      "Accuracy of the model : 97.99 %\n",
      "Epoch [15/20], Loss: 0.0594\n",
      "Accuracy of the model : 99.30 %\n",
      "Epoch [16/20], Loss: 0.0594\n",
      "Accuracy of the model : 98.99 %\n",
      "Epoch [17/20], Loss: 0.0530\n",
      "Accuracy of the model : 98.76 %\n",
      "Epoch [18/20], Loss: 0.0516\n",
      "Accuracy of the model : 99.23 %\n",
      "Epoch [19/20], Loss: 0.0542\n",
      "Accuracy of the model : 93.34 %\n",
      "Epoch [20/20], Loss: 0.0585\n",
      "Accuracy of the model : 98.84 %\n",
      "Accuracy of the model : 93.02 %\n"
     ]
    },
    {
     "data": {
      "text/plain": [
       "93.02441454907823"
      ]
     },
     "execution_count": 51,
     "metadata": {
      "tags": []
     },
     "output_type": "execute_result"
    }
   ],
   "source": [
    "opt = torch.optim.RMSprop\n",
    "    \n",
    "model = Model_withMLPCE(n_convolutions=1,n_hidden=100 )\n",
    "train_error , acc = train_CE(model , batch_size=10 , num_epochs =20 , lr = 0.01  , optimizer = opt)\n",
    "\n",
    "accuracy_conv(test_set, model)"
   ]
  }
 ],
 "metadata": {
  "colab": {
   "collapsed_sections": [],
   "name": "TP1_Ex2_Multiclass (1).ipynb",
   "provenance": []
  },
  "kernelspec": {
   "display_name": "Python 3",
   "language": "python",
   "name": "python3"
  },
  "language_info": {
   "codemirror_mode": {
    "name": "ipython",
    "version": 3
   },
   "file_extension": ".py",
   "mimetype": "text/x-python",
   "name": "python",
   "nbconvert_exporter": "python",
   "pygments_lexer": "ipython3",
   "version": "3.8.5"
  }
 },
 "nbformat": 4,
 "nbformat_minor": 1
}
