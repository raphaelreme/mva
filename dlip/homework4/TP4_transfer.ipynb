{
 "cells": [
  {
   "cell_type": "markdown",
   "metadata": {
    "id": "Ai62aof6QFwI"
   },
   "source": [
    "# Small data and deep learning\n",
    "This Pratical session proposes to study several techniques for improving challenging context, in which few data and resources are available."
   ]
  },
  {
   "cell_type": "markdown",
   "metadata": {
    "id": "_s2y846fQFwS"
   },
   "source": [
    "# Introduction\n",
    "Assume we are in a context where few \"gold\" labeled data are available for training, say $\\mathcal{X}_{\\text{train}}\\triangleq\\{(x_n,y_n)\\}_{n\\leq N_{\\text{train}}}$, where $N_{\\text{train}}$ is small. A large test set $\\mathcal{X}_{\\text{test}}$ is available. A large amount of unlabeled data, $\\mathcal{X}$, is available. We also assume that we have a limited computational budget (e.g., no GPUs).\n",
    "\n",
    "For each question, write a commented *Code* or a complete answer as a *Markdown*. When the objective of a question is to report a CNN accuracy, please use the following format to report it, at the end of the question:\n",
    "\n",
    "| Model | Number of  epochs  | Train accuracy | Test accuracy |\n",
    "|------|------|------|------|\n",
    "|   XXX  | XXX | XXX | XXX |\n",
    "\n",
    "If applicable, please add the field corresponding to the  __Accuracy on Full Data__ as well as a link to the __Reference paper__ you used to report those numbers. (You do not need to train a CNN on the full CIFAR10 dataset)\n",
    "\n",
    "In your final report, please keep the logs of each training procedure you used. We will only run this jupyter if we have some doubts on your implementation. \n",
    "\n",
    "__The total file sizes should be reasonable (feasible with 2MB only!). You will be asked to hand in the notebook, together with any necessary files required to run it if any.__\n",
    "\n",
    "\n",
    "You can use https://colab.research.google.com/ to run your experiments."
   ]
  },
  {
   "cell_type": "code",
   "execution_count": 1,
   "metadata": {
    "colab": {
     "base_uri": "https://localhost:8080/"
    },
    "executionInfo": {
     "elapsed": 4162,
     "status": "ok",
     "timestamp": 1614260150951,
     "user": {
      "displayName": "Raphael Reme",
      "photoUrl": "",
      "userId": "10536219480337117409"
     },
     "user_tz": -60
    },
    "id": "aI9V1Mj0QFwT",
    "outputId": "f055419c-31a8-4921-d60d-aba87dcc3331"
   },
   "outputs": [
    {
     "data": {
      "text/plain": [
       "device(type='cuda')"
      ]
     },
     "execution_count": 1,
     "metadata": {},
     "output_type": "execute_result"
    }
   ],
   "source": [
    "import os\n",
    "\n",
    "from deep_trainer import PytorchTrainer\n",
    "import matplotlib.pyplot as plt\n",
    "import torch\n",
    "import torch.nn as nn\n",
    "import torch.nn.functional as F\n",
    "import torchvision\n",
    "from torchvision import datasets, transforms\n",
    "\n",
    "DATA_FOLDER = \"/home/raph/data/pytorch/\"\n",
    "\n",
    "device = torch.device(\"cuda\" if torch.cuda.is_available() else \"cpu\")\n",
    "device"
   ]
  },
  {
   "cell_type": "markdown",
   "metadata": {
    "id": "LHa-1uV0QFwV"
   },
   "source": [
    "## Training set creation\n",
    "__Question 1 (2 points):__ Propose a dataloader or modify the file located at https://github.com/pytorch/vision/blob/master/torchvision/datasets/cifar.py in order to obtain a training loader that will only use the first 100 samples of the CIFAR-10 training set. "
   ]
  },
  {
   "cell_type": "code",
   "execution_count": 2,
   "metadata": {
    "colab": {
     "base_uri": "https://localhost:8080/",
     "height": 257,
     "referenced_widgets": [
      "e94bb0ee36bd41108712ab2fde2f3321",
      "38a7303c04344036b1d8baa4cd39ef2f",
      "b98494883f7144468c7bfc2eec7417a9",
      "e14a876a1ab54a88b73d78754fa6faec",
      "6bddbcf4decf4bb0a16efcab656bb1ee",
      "4c30200515234c5baf0d70a08872d078",
      "982516752474444daced5bf0ee7b8238",
      "c94a59e5e6254594b1f47b522ff83aaa"
     ]
    },
    "executionInfo": {
     "elapsed": 5612,
     "status": "ok",
     "timestamp": 1614260167554,
     "user": {
      "displayName": "Raphael Reme",
      "photoUrl": "",
      "userId": "10536219480337117409"
     },
     "user_tz": -60
    },
    "id": "xliuPXcAQFwW",
    "outputId": "64bf9b06-fce4-4cc6-f097-f578fbcc41e0"
   },
   "outputs": [
    {
     "name": "stdout",
     "output_type": "stream",
     "text": [
      "Files already downloaded and verified\n",
      "SubDataset of length 100 from\n",
      "    Dataset CIFAR10\n",
      "        Number of datapoints: 50000\n",
      "        Root location: /home/raph/data/pytorch/\n",
      "        Split: Train\n",
      "SubDataset of length 49900 from\n",
      "    Dataset CIFAR10\n",
      "        Number of datapoints: 50000\n",
      "        Root location: /home/raph/data/pytorch/\n",
      "        Split: Train\n"
     ]
    }
   ],
   "source": [
    "class SubDataset(torch.utils.data.Dataset):\n",
    "    def __init__(self, dataset, indices):\n",
    "        self.dataset = dataset\n",
    "        self.indices = list(indices)\n",
    "\n",
    "    def __len__(self):\n",
    "        return len(self.indices)\n",
    "\n",
    "    def __getitem__(self, idx):\n",
    "        return self.dataset[self.indices[idx]]\n",
    "\n",
    "    def __repr__(self):\n",
    "        upper_repr = repr(self.dataset)\n",
    "        upper_repr = \"\\n    \".join(upper_repr.split(\"\\n\"))\n",
    "        return f\"SubDataset of length {len(self)} from\\n    {upper_repr}\"\n",
    "\n",
    "\n",
    "X_train = datasets.CIFAR10(root=DATA_FOLDER, train=True, download=True)\n",
    "\n",
    "X = SubDataset(X_train, range(100, len(X_train)))\n",
    "X_train = SubDataset(X_train, range(100))\n",
    "print(X_train, X, sep=\"\\n\")"
   ]
  },
  {
   "cell_type": "code",
   "execution_count": 3,
   "metadata": {
    "colab": {
     "base_uri": "https://localhost:8080/"
    },
    "executionInfo": {
     "elapsed": 4038,
     "status": "ok",
     "timestamp": 1614260167555,
     "user": {
      "displayName": "Raphael Reme",
      "photoUrl": "",
      "userId": "10536219480337117409"
     },
     "user_tz": -60
    },
    "id": "M0fNs_d-QFwY",
    "outputId": "0f469b64-2032-4aeb-cba4-842f8e02998a"
   },
   "outputs": [
    {
     "data": {
      "text/plain": [
       "[(0, 6),\n",
       " (1, 16),\n",
       " (2, 13),\n",
       " (3, 13),\n",
       " (4, 11),\n",
       " (5, 7),\n",
       " (6, 7),\n",
       " (7, 11),\n",
       " (8, 4),\n",
       " (9, 12)]"
      ]
     },
     "execution_count": 3,
     "metadata": {},
     "output_type": "execute_result"
    }
   ],
   "source": [
    "# Check the number of images (group by classes)\n",
    "\n",
    "from functools import reduce\n",
    "\n",
    "def f(d, elt):\n",
    "    c = d.get(elt, 0)\n",
    "    d[elt] = c + 1\n",
    "    return d\n",
    "\n",
    "d = reduce(f, map(lambda x: x[1], list(X_train)), {})\n",
    "sorted(d.items())"
   ]
  },
  {
   "cell_type": "code",
   "execution_count": 4,
   "metadata": {
    "executionInfo": {
     "elapsed": 10862,
     "status": "ok",
     "timestamp": 1614260176251,
     "user": {
      "displayName": "Raphael Reme",
      "photoUrl": "",
      "userId": "10536219480337117409"
     },
     "user_tz": -60
    },
    "id": "kDbxrrZ9CmZJ"
   },
   "outputs": [],
   "source": [
    "## Compute mean / std for our dataset (only on the training set)\n",
    "\n",
    "cifar_train = datasets.CIFAR10(root=DATA_FOLDER, train=True, transform=transforms.ToTensor())\n",
    "\n",
    "mean = torch.zeros(3)\n",
    "std = torch.zeros(3)\n",
    "for img, _ in cifar_train:\n",
    "    mean += img.mean(dim=[1, 2])\n",
    "    std += img.std(dim=[1, 2])\n",
    "mean /= len(cifar_train)\n",
    "std /= len(cifar_train)\n",
    "\n",
    "\n",
    "# For finetuning use the value used for the training of the pretrained models\n",
    "mean_finetune = [0.485, 0.456, 0.406]\n",
    "std_finetune = [0.229, 0.224, 0.225]"
   ]
  },
  {
   "cell_type": "markdown",
   "metadata": {
    "id": "ExTHn5znQFwY"
   },
   "source": [
    "This is our dataset $\\mathcal{X}_{\\text{train}}$, it will be used until the end of this project. The remaining samples correspond to $\\mathcal{X}$. The testing set $\\mathcal{X}_{\\text{test}}$ corresponds to the whole testing set of CIFAR-10."
   ]
  },
  {
   "cell_type": "markdown",
   "metadata": {
    "id": "EDM7TXM5QFwZ"
   },
   "source": [
    "## Testing procedure\n",
    "__Question 2 (1.5 points):__ Explain why the evaluation of the training procedure is difficult. Propose several solutions."
   ]
  },
  {
   "cell_type": "markdown",
   "metadata": {
    "id": "ot-XZpFnQFwZ"
   },
   "source": [
    "When there is not a lot of annotated data, it's difficult to evaluate our methods as we should not used the same data both for training and testing. It's even harder to create a validation set in order to know when to stop the training or which hyperparameters to use.\n",
    "\n",
    "Here the test set is given and large but should only be used to evaluate the final result of each methods. And it shouldn't be used as a validation set. (note that in order to have the best model, we should totally merge the train and the test and split again in a new train / validation / test, but that's not the point here)\n",
    "\n",
    "We could create a small validation set from the training data, but then we would have less data to train on and the results will have a lot of variability. We could also try to do crossvalidation to find the best epoch for early stopping but this would require to do multiple trainings and we would like to avoid it.\n",
    "\n",
    "We have thus choosen the very imperfect method to use a small part of the test set as a validation set."
   ]
  },
  {
   "cell_type": "markdown",
   "metadata": {
    "id": "kyDvubjDQFwa"
   },
   "source": [
    "# Raw approach: the baseline"
   ]
  },
  {
   "cell_type": "markdown",
   "metadata": {
    "id": "EUROc22AQFwa"
   },
   "source": [
    "In this section, the goal is to train a CNN on $\\mathcal{X}_{\\text{train}}$ and compare its performance with reported numbers from the litterature. You will have to re-use and/or design a standard classification pipeline. You should optimize your pipeline to obtain the best performances (image size, data augmentation by flip, ...).\n",
    "\n",
    "The key ingredients for training a CNN are the batch size, as well as the learning rate schedule, i.e. how to decrease the learning rate as a function of the number of epochs. A possible schedule is to start the learning rate at 0.1 and decreasing it every 30 epochs by 10. In case of divergence, reduce the laerning rate. A potential batch size could be 10, yet this can be cross-validated.\n",
    "\n",
    "You can get some baselines accuracies in this paper: http://openaccess.thecvf.com/content_cvpr_2018/papers/Keshari_Learning_Structure_and_CVPR_2018_paper.pdf. Obviously, it is a different context for those researchers who had access to GPUs."
   ]
  },
  {
   "cell_type": "markdown",
   "metadata": {
    "id": "P9luaDA7QFwc"
   },
   "source": [
    "## ResNet architectures"
   ]
  },
  {
   "cell_type": "markdown",
   "metadata": {
    "id": "zORRgsjXQFwc"
   },
   "source": [
    "__Question 3 (4 points):__ Write a classification pipeline for $\\mathcal{X}_{\\text{train}}$, train from scratch and evaluate a *ResNet-18* architecture specific to CIFAR10 (details about the ImageNet model can be found here: https://arxiv.org/abs/1512.03385). Please report the accuracy obtained on the whole dataset as well as the reference paper/GitHub link.\n",
    "\n",
    "*Hint:* You can re-use the following code: https://github.com/kuangliu/pytorch-cifar. During a training of 10 epochs, a batch size of 10 and a learning rate of 0.01, one obtains 40% accuracy on $\\mathcal{X}_{\\text{train}}$ (\\~2 minutes) and 20% accuracy on $\\mathcal{X}_{\\text{test}}$ (\\~5 minutes)."
   ]
  },
  {
   "cell_type": "code",
   "execution_count": 5,
   "metadata": {
    "executionInfo": {
     "elapsed": 8577,
     "status": "ok",
     "timestamp": 1614260176253,
     "user": {
      "displayName": "Raphael Reme",
      "photoUrl": "",
      "userId": "10536219480337117409"
     },
     "user_tz": -60
    },
    "id": "YR0PahARQFwc"
   },
   "outputs": [],
   "source": [
    "## MODEL ##\n",
    "# Code from pytorch-cifar github (https://github.com/kuangliu/pytorch-cifar)\n",
    "# Renamed the last linear layer in fc in order to match the name of torchvision resnets\n",
    "\n",
    "class BasicBlock(nn.Module):\n",
    "    expansion = 1\n",
    "\n",
    "    def __init__(self, in_planes, planes, stride=1):\n",
    "        super(BasicBlock, self).__init__()\n",
    "        self.conv1 = nn.Conv2d(\n",
    "            in_planes, planes, kernel_size=3, stride=stride, padding=1, bias=False)\n",
    "        self.bn1 = nn.BatchNorm2d(planes)\n",
    "        self.conv2 = nn.Conv2d(planes, planes, kernel_size=3,\n",
    "                               stride=1, padding=1, bias=False)\n",
    "        self.bn2 = nn.BatchNorm2d(planes)\n",
    "\n",
    "        self.shortcut = nn.Sequential()\n",
    "        if stride != 1 or in_planes != self.expansion*planes:\n",
    "            self.shortcut = nn.Sequential(\n",
    "                nn.Conv2d(in_planes, self.expansion*planes,\n",
    "                          kernel_size=1, stride=stride, bias=False),\n",
    "                nn.BatchNorm2d(self.expansion*planes)\n",
    "            )\n",
    "\n",
    "    def forward(self, x):\n",
    "        out = F.relu(self.bn1(self.conv1(x)))\n",
    "        out = self.bn2(self.conv2(out))\n",
    "        out += self.shortcut(x)\n",
    "        out = F.relu(out)\n",
    "        return out\n",
    "\n",
    "\n",
    "class Bottleneck(nn.Module):\n",
    "    expansion = 4\n",
    "\n",
    "    def __init__(self, in_planes, planes, stride=1):\n",
    "        super(Bottleneck, self).__init__()\n",
    "        self.conv1 = nn.Conv2d(in_planes, planes, kernel_size=1, bias=False)\n",
    "        self.bn1 = nn.BatchNorm2d(planes)\n",
    "        self.conv2 = nn.Conv2d(planes, planes, kernel_size=3,\n",
    "                               stride=stride, padding=1, bias=False)\n",
    "        self.bn2 = nn.BatchNorm2d(planes)\n",
    "        self.conv3 = nn.Conv2d(planes, self.expansion *\n",
    "                               planes, kernel_size=1, bias=False)\n",
    "        self.bn3 = nn.BatchNorm2d(self.expansion*planes)\n",
    "\n",
    "        self.shortcut = nn.Sequential()\n",
    "        if stride != 1 or in_planes != self.expansion*planes:\n",
    "            self.shortcut = nn.Sequential(\n",
    "                nn.Conv2d(in_planes, self.expansion*planes,\n",
    "                          kernel_size=1, stride=stride, bias=False),\n",
    "                nn.BatchNorm2d(self.expansion*planes)\n",
    "            )\n",
    "\n",
    "    def forward(self, x):\n",
    "        out = F.relu(self.bn1(self.conv1(x)))\n",
    "        out = F.relu(self.bn2(self.conv2(out)))\n",
    "        out = self.bn3(self.conv3(out))\n",
    "        out += self.shortcut(x)\n",
    "        out = F.relu(out)\n",
    "        return out\n",
    "\n",
    "\n",
    "class ResNet(nn.Module):\n",
    "    def __init__(self, block, num_blocks, num_classes=10):\n",
    "        super(ResNet, self).__init__()\n",
    "        self.in_planes = 64\n",
    "\n",
    "        self.conv1 = nn.Conv2d(3, 64, kernel_size=3,\n",
    "                               stride=1, padding=1, bias=False)\n",
    "        self.bn1 = nn.BatchNorm2d(64)\n",
    "        self.layer1 = self._make_layer(block, 64, num_blocks[0], stride=1)\n",
    "        self.layer2 = self._make_layer(block, 128, num_blocks[1], stride=2)\n",
    "        self.layer3 = self._make_layer(block, 256, num_blocks[2], stride=2)\n",
    "        self.layer4 = self._make_layer(block, 512, num_blocks[3], stride=2)\n",
    "        self.fc = nn.Linear(512*block.expansion, num_classes)\n",
    "\n",
    "    def _make_layer(self, block, planes, num_blocks, stride):\n",
    "        strides = [stride] + [1]*(num_blocks-1)\n",
    "        layers = []\n",
    "        for stride in strides:\n",
    "            layers.append(block(self.in_planes, planes, stride))\n",
    "            self.in_planes = planes * block.expansion\n",
    "        return nn.Sequential(*layers)\n",
    "\n",
    "    def forward(self, x):\n",
    "        out = F.relu(self.bn1(self.conv1(x)))\n",
    "        out = self.layer1(out)\n",
    "        out = self.layer2(out)\n",
    "        out = self.layer3(out)\n",
    "        out = self.layer4(out)\n",
    "        out = F.avg_pool2d(out, 4)\n",
    "        out = out.view(out.size(0), -1)\n",
    "        out = self.fc(out)\n",
    "        return out\n",
    "\n",
    "\n",
    "def ResNet18():\n",
    "    return ResNet(BasicBlock, [2, 2, 2, 2])"
   ]
  },
  {
   "cell_type": "code",
   "execution_count": 6,
   "metadata": {
    "executionInfo": {
     "elapsed": 5037,
     "status": "ok",
     "timestamp": 1614260176253,
     "user": {
      "displayName": "Raphael Reme",
      "photoUrl": "",
      "userId": "10536219480337117409"
     },
     "user_tz": -60
    },
    "id": "-oo4PIvSKx3Y"
   },
   "outputs": [],
   "source": [
    "# Loss / errors\n",
    "criterion = nn.CrossEntropyLoss()\n",
    "\n",
    "def errors(predictions, targets):\n",
    "    predictions = predictions.argmax(dim=1)\n",
    "    return 1 - (predictions == targets).sum() / len(targets)"
   ]
  },
  {
   "cell_type": "code",
   "execution_count": 7,
   "metadata": {
    "colab": {
     "base_uri": "https://localhost:8080/"
    },
    "executionInfo": {
     "elapsed": 2165,
     "status": "ok",
     "timestamp": 1614179718614,
     "user": {
      "displayName": "Raphael Reme",
      "photoUrl": "",
      "userId": "10536219480337117409"
     },
     "user_tz": -60
    },
    "id": "32EVIj5wQx2Q",
    "outputId": "a8ed6069-a927-4f21-8da3-d10b81503061"
   },
   "outputs": [
    {
     "name": "stdout",
     "output_type": "stream",
     "text": [
      "Files already downloaded and verified\n",
      "Files already downloaded and verified\n"
     ]
    }
   ],
   "source": [
    "# No data augmentation\n",
    "\n",
    "train_transform = transforms.Compose([\n",
    "    transforms.ToTensor(),\n",
    "    transforms.Normalize(mean, std),\n",
    "])\n",
    "test_transform = torchvision.transforms.Compose([\n",
    "    transforms.ToTensor(),\n",
    "    transforms.Normalize(mean, std),\n",
    "])\n",
    "\n",
    "X_train = torchvision.datasets.CIFAR10(root=DATA_FOLDER, train=True, transform=train_transform, download=True)\n",
    "X_train = SubDataset(X_train, range(100))\n",
    "X_test = torchvision.datasets.CIFAR10(root=DATA_FOLDER, train=False, transform=test_transform, download=True)\n",
    "X_val = SubDataset(X_test, range(200))\n",
    "X_test = SubDataset(X_test, range(200, len(X_test)))\n",
    "\n",
    "train_loader = torch.utils.data.DataLoader(X_train, 10, shuffle=True)\n",
    "val_loader = torch.utils.data.DataLoader(X_val, 128, shuffle=False)\n",
    "test_loader = torch.utils.data.DataLoader(X_test, 128, shuffle=False)"
   ]
  },
  {
   "cell_type": "code",
   "execution_count": 8,
   "metadata": {
    "executionInfo": {
     "elapsed": 816,
     "status": "ok",
     "timestamp": 1614179719606,
     "user": {
      "displayName": "Raphael Reme",
      "photoUrl": "",
      "userId": "10536219480337117409"
     },
     "user_tz": -60
    },
    "id": "iqvII-VqCmZO"
   },
   "outputs": [],
   "source": [
    "model = ResNet18()\n",
    "model.to(device)\n",
    "optimizer = torch.optim.Adam(model.parameters(), lr=0.001)\n",
    "trainer = PytorchTrainer(model, optimizer, device, exp_dir=\"experiments/\", save_mode=\"best\")"
   ]
  },
  {
   "cell_type": "code",
   "execution_count": 9,
   "metadata": {
    "colab": {
     "base_uri": "https://localhost:8080/"
    },
    "executionInfo": {
     "elapsed": 9890,
     "status": "ok",
     "timestamp": 1614019468277,
     "user": {
      "displayName": "Raphael Reme",
      "photoUrl": "",
      "userId": "10536219480337117409"
     },
     "user_tz": -60
    },
    "id": "Ms8VBaDtCmZO",
    "outputId": "cf2a9eb0-39f4-478c-b72d-509ec05ea742"
   },
   "outputs": [
    {
     "name": "stderr",
     "output_type": "stream",
     "text": [
      "Training --- loss: 2.748: 100%|██████████| 10/10 [00:01<00:00,  5.91it/s]\n",
      "Testing --- loss: 0.861: 100%|██████████| 2/2 [00:00<00:00,  2.92it/s]"
     ]
    },
    {
     "name": "stdout",
     "output_type": "stream",
     "text": [
      "Epoch 0 --- Avg train loss: 2.937 Avg val loss: 0.860 [1/10]\n",
      "\n"
     ]
    },
    {
     "name": "stderr",
     "output_type": "stream",
     "text": [
      "\n",
      "Training --- loss: 1.981: 100%|██████████| 10/10 [00:01<00:00,  6.83it/s]\n",
      "Testing --- loss: 0.819: 100%|██████████| 2/2 [00:00<00:00,  3.01it/s]"
     ]
    },
    {
     "name": "stdout",
     "output_type": "stream",
     "text": [
      "Epoch 1 --- Avg train loss: 2.138 Avg val loss: 0.830 [2/10]\n",
      "\n"
     ]
    },
    {
     "name": "stderr",
     "output_type": "stream",
     "text": [
      "\n",
      "Training --- loss: 1.851: 100%|██████████| 10/10 [00:01<00:00,  6.78it/s]\n",
      "Testing --- loss: 0.819: 100%|██████████| 2/2 [00:00<00:00,  2.97it/s]"
     ]
    },
    {
     "name": "stdout",
     "output_type": "stream",
     "text": [
      "Epoch 2 --- Avg train loss: 1.940 Avg val loss: 0.850 [3/10]\n",
      "\n"
     ]
    },
    {
     "name": "stderr",
     "output_type": "stream",
     "text": [
      "\n",
      "Training --- loss: 1.685: 100%|██████████| 10/10 [00:01<00:00,  6.88it/s]\n",
      "Testing --- loss: 0.819: 100%|██████████| 2/2 [00:00<00:00,  2.98it/s]"
     ]
    },
    {
     "name": "stdout",
     "output_type": "stream",
     "text": [
      "Epoch 3 --- Avg train loss: 1.840 Avg val loss: 0.830 [4/10]\n",
      "\n"
     ]
    },
    {
     "name": "stderr",
     "output_type": "stream",
     "text": [
      "\n",
      "Training --- loss: 1.725: 100%|██████████| 10/10 [00:01<00:00,  6.68it/s]\n",
      "Testing --- loss: 0.806: 100%|██████████| 2/2 [00:00<00:00,  2.93it/s]"
     ]
    },
    {
     "name": "stdout",
     "output_type": "stream",
     "text": [
      "Epoch 4 --- Avg train loss: 1.612 Avg val loss: 0.805 [5/10]\n",
      "\n"
     ]
    },
    {
     "name": "stderr",
     "output_type": "stream",
     "text": [
      "\n",
      "Training --- loss: 1.502: 100%|██████████| 10/10 [00:01<00:00,  6.70it/s]\n",
      "Testing --- loss: 0.736: 100%|██████████| 2/2 [00:00<00:00,  2.90it/s]"
     ]
    },
    {
     "name": "stdout",
     "output_type": "stream",
     "text": [
      "Epoch 5 --- Avg train loss: 1.466 Avg val loss: 0.765 [6/10]\n",
      "\n"
     ]
    },
    {
     "name": "stderr",
     "output_type": "stream",
     "text": [
      "\n",
      "Training --- loss: 1.428: 100%|██████████| 10/10 [00:01<00:00,  6.76it/s]\n",
      "Testing --- loss: 0.847: 100%|██████████| 2/2 [00:00<00:00,  2.86it/s]"
     ]
    },
    {
     "name": "stdout",
     "output_type": "stream",
     "text": [
      "Epoch 6 --- Avg train loss: 1.324 Avg val loss: 0.805 [7/10]\n",
      "\n"
     ]
    },
    {
     "name": "stderr",
     "output_type": "stream",
     "text": [
      "\n",
      "Training --- loss: 0.707: 100%|██████████| 10/10 [00:01<00:00,  6.50it/s]\n",
      "Testing --- loss: 0.778: 100%|██████████| 2/2 [00:00<00:00,  2.93it/s]"
     ]
    },
    {
     "name": "stdout",
     "output_type": "stream",
     "text": [
      "Epoch 7 --- Avg train loss: 1.148 Avg val loss: 0.780 [8/10]\n",
      "\n"
     ]
    },
    {
     "name": "stderr",
     "output_type": "stream",
     "text": [
      "\n",
      "Training --- loss: 1.288: 100%|██████████| 10/10 [00:01<00:00,  6.77it/s]\n",
      "Testing --- loss: 0.833: 100%|██████████| 2/2 [00:00<00:00,  2.96it/s]"
     ]
    },
    {
     "name": "stdout",
     "output_type": "stream",
     "text": [
      "Epoch 8 --- Avg train loss: 1.216 Avg val loss: 0.845 [9/10]\n",
      "\n"
     ]
    },
    {
     "name": "stderr",
     "output_type": "stream",
     "text": [
      "\n",
      "Training --- loss: 0.501: 100%|██████████| 10/10 [00:01<00:00,  6.83it/s]\n",
      "Testing --- loss: 0.792: 100%|██████████| 2/2 [00:00<00:00,  2.92it/s]"
     ]
    },
    {
     "name": "stdout",
     "output_type": "stream",
     "text": [
      "Epoch 9 --- Avg train loss: 0.989 Avg val loss: 0.775 [10/10]\n",
      "\n"
     ]
    },
    {
     "name": "stderr",
     "output_type": "stream",
     "text": [
      "\n",
      "Testing --- loss: 0.500: 100%|██████████| 10/10 [00:00<00:00, 27.68it/s]\n",
      "Testing --- loss: 0.750: 100%|██████████| 77/77 [00:33<00:00,  2.31it/s]"
     ]
    },
    {
     "name": "stdout",
     "output_type": "stream",
     "text": [
      "Accuracy on train: 0.6400000154972076\n",
      "Accuracy on test: 0.21663265306122448\n"
     ]
    },
    {
     "name": "stderr",
     "output_type": "stream",
     "text": [
      "\n"
     ]
    }
   ],
   "source": [
    "# Train and select best\n",
    "\n",
    "trainer.train(10, train_loader, criterion, val_loader=val_loader, val_criterion=errors)\n",
    "model.load_state_dict(torch.load(f\"experiments/{trainer.best_epoch}.pt\"))\n",
    "\n",
    "# Accuracy\n",
    "train_accuracy = 1 - trainer.evaluate(train_loader, errors)\n",
    "test_accuracy = 1 - trainer.evaluate(test_loader, errors)\n",
    "\n",
    "print(\"Accuracy on train:\", train_accuracy)\n",
    "print(\"Accuracy on test:\", test_accuracy)"
   ]
  },
  {
   "cell_type": "code",
   "execution_count": 10,
   "metadata": {
    "id": "yaMB03XlDIEn"
   },
   "outputs": [],
   "source": [
    "base_losses = trainer.losses\n",
    "base_accuracy = test_accuracy"
   ]
  },
  {
   "cell_type": "markdown",
   "metadata": {
    "id": "U_6Gp7RrQFwf"
   },
   "source": [
    "# Transfer learning"
   ]
  },
  {
   "cell_type": "markdown",
   "metadata": {
    "id": "d9NcX7dXQFwf"
   },
   "source": [
    "We propose to use pre-trained models on a classification and generative task, in order to improve the results of our setting."
   ]
  },
  {
   "cell_type": "markdown",
   "metadata": {
    "id": "i76SI4rlQFwf"
   },
   "source": [
    "## ImageNet features"
   ]
  },
  {
   "cell_type": "markdown",
   "metadata": {
    "id": "fiaN-SlhQFwf"
   },
   "source": [
    "Now, we will use some pre-trained models on ImageNet and see how well they compare on CIFAR. A list is available on: https://pytorch.org/docs/stable/torchvision/models.html.\n",
    "\n",
    "__Question 4 (3 points):__ Pick a model from the list above, adapt it for CIFAR and retrain its final layer (or a block of layers, depending on the resources to which you have access to). Report its accuracy."
   ]
  },
  {
   "cell_type": "code",
   "execution_count": 11,
   "metadata": {
    "colab": {
     "base_uri": "https://localhost:8080/"
    },
    "executionInfo": {
     "elapsed": 2243,
     "status": "ok",
     "timestamp": 1614019757523,
     "user": {
      "displayName": "Raphael Reme",
      "photoUrl": "",
      "userId": "10536219480337117409"
     },
     "user_tz": -60
    },
    "id": "-a1GoCmbdARK",
    "outputId": "e03b0a86-9a52-4e46-bc5c-6a21e641af9a"
   },
   "outputs": [
    {
     "name": "stdout",
     "output_type": "stream",
     "text": [
      "Files already downloaded and verified\n",
      "Files already downloaded and verified\n"
     ]
    }
   ],
   "source": [
    "transform = torchvision.transforms.Compose([\n",
    "    transforms.ToTensor(),\n",
    "    transforms.Normalize(mean_finetune, std_finetune),\n",
    "    transforms.Resize(224),  # Important to resize in order to be able to use pretrained convolutions\n",
    "])\n",
    "\n",
    "X_train = torchvision.datasets.CIFAR10(root=DATA_FOLDER, train=True, transform=transform, download=True)\n",
    "X_train = SubDataset(X_train, range(100))\n",
    "X_test = torchvision.datasets.CIFAR10(root=DATA_FOLDER, train=False, transform=transform, download=True)\n",
    "X_val = SubDataset(X_test, range(200))\n",
    "X_test = SubDataset(X_test, range(200, len(X_test)))\n",
    "\n",
    "train_loader = torch.utils.data.DataLoader(X_train, 10, shuffle=True)\n",
    "val_loader = torch.utils.data.DataLoader(X_val, 128, shuffle=False)\n",
    "test_loader = torch.utils.data.DataLoader(X_test, 128, shuffle=False)"
   ]
  },
  {
   "cell_type": "code",
   "execution_count": 12,
   "metadata": {
    "id": "KaMfhtKtCmZR"
   },
   "outputs": [],
   "source": [
    "class FinetunedResnet(nn.Module):\n",
    "    def __init__(self, resnet, n_classes):\n",
    "        super().__init__()\n",
    "        self.resnet = resnet\n",
    "        self.resnet.fc = nn.Linear(512, n_classes)\n",
    "\n",
    "    def forward(self, x):\n",
    "        return self.resnet(x)\n",
    "\n",
    "    def train(self, mode=True):\n",
    "        # Keep eval mode for batch normalization even when retraining. (We only train the last fc here)\n",
    "        super().train(False)"
   ]
  },
  {
   "cell_type": "code",
   "execution_count": 13,
   "metadata": {
    "id": "PZxv3wigQFwf"
   },
   "outputs": [],
   "source": [
    "model = FinetunedResnet(torchvision.models.resnet18(pretrained=True), 10).to(device)\n",
    "optimizer = torch.optim.Adam(model.resnet.fc.parameters(), lr=0.01)\n",
    "trainer = PytorchTrainer(model, optimizer, device, exp_dir=\"experiments/\", save_mode=\"best\")"
   ]
  },
  {
   "cell_type": "code",
   "execution_count": 14,
   "metadata": {
    "colab": {
     "base_uri": "https://localhost:8080/"
    },
    "executionInfo": {
     "elapsed": 39102,
     "status": "ok",
     "timestamp": 1614019799972,
     "user": {
      "displayName": "Raphael Reme",
      "photoUrl": "",
      "userId": "10536219480337117409"
     },
     "user_tz": -60
    },
    "id": "Eka38be0CmZR",
    "outputId": "ec18a006-f64c-4176-f893-89c9d4f7012d"
   },
   "outputs": [
    {
     "name": "stderr",
     "output_type": "stream",
     "text": [
      "Training --- loss: 3.420: 100%|██████████| 10/10 [00:02<00:00,  3.84it/s]\n",
      "Testing --- loss: 0.792: 100%|██████████| 2/2 [00:01<00:00,  1.42it/s]"
     ]
    },
    {
     "name": "stdout",
     "output_type": "stream",
     "text": [
      "Epoch 0 --- Avg train loss: 4.457 Avg val loss: 0.805 [1/10]\n",
      "\n"
     ]
    },
    {
     "name": "stderr",
     "output_type": "stream",
     "text": [
      "\n",
      "Training --- loss: 0.652: 100%|██████████| 10/10 [00:02<00:00,  3.92it/s]\n",
      "Testing --- loss: 0.653: 100%|██████████| 2/2 [00:01<00:00,  1.44it/s]"
     ]
    },
    {
     "name": "stdout",
     "output_type": "stream",
     "text": [
      "Epoch 1 --- Avg train loss: 1.560 Avg val loss: 0.580 [2/10]\n",
      "\n"
     ]
    },
    {
     "name": "stderr",
     "output_type": "stream",
     "text": [
      "\n",
      "Training --- loss: 0.231: 100%|██████████| 10/10 [00:02<00:00,  3.68it/s]\n",
      "Testing --- loss: 0.472: 100%|██████████| 2/2 [00:01<00:00,  1.30it/s]"
     ]
    },
    {
     "name": "stdout",
     "output_type": "stream",
     "text": [
      "Epoch 2 --- Avg train loss: 0.664 Avg val loss: 0.470 [3/10]\n",
      "\n"
     ]
    },
    {
     "name": "stderr",
     "output_type": "stream",
     "text": [
      "\n",
      "Training --- loss: 0.245: 100%|██████████| 10/10 [00:02<00:00,  3.56it/s]\n",
      "Testing --- loss: 0.444: 100%|██████████| 2/2 [00:01<00:00,  1.22it/s]"
     ]
    },
    {
     "name": "stdout",
     "output_type": "stream",
     "text": [
      "Epoch 3 --- Avg train loss: 0.245 Avg val loss: 0.485 [4/10]\n",
      "\n"
     ]
    },
    {
     "name": "stderr",
     "output_type": "stream",
     "text": [
      "\n",
      "Training --- loss: 0.081: 100%|██████████| 10/10 [00:02<00:00,  3.52it/s]\n",
      "Testing --- loss: 0.375: 100%|██████████| 2/2 [00:01<00:00,  1.30it/s]"
     ]
    },
    {
     "name": "stdout",
     "output_type": "stream",
     "text": [
      "Epoch 4 --- Avg train loss: 0.128 Avg val loss: 0.430 [5/10]\n",
      "\n"
     ]
    },
    {
     "name": "stderr",
     "output_type": "stream",
     "text": [
      "\n",
      "Training --- loss: 0.025: 100%|██████████| 10/10 [00:02<00:00,  3.72it/s]\n",
      "Testing --- loss: 0.431: 100%|██████████| 2/2 [00:01<00:00,  1.34it/s]"
     ]
    },
    {
     "name": "stdout",
     "output_type": "stream",
     "text": [
      "Epoch 5 --- Avg train loss: 0.070 Avg val loss: 0.425 [6/10]\n",
      "\n"
     ]
    },
    {
     "name": "stderr",
     "output_type": "stream",
     "text": [
      "\n",
      "Training --- loss: 0.031: 100%|██████████| 10/10 [00:02<00:00,  3.71it/s]\n",
      "Testing --- loss: 0.347: 100%|██████████| 2/2 [00:01<00:00,  1.43it/s]"
     ]
    },
    {
     "name": "stdout",
     "output_type": "stream",
     "text": [
      "Epoch 6 --- Avg train loss: 0.033 Avg val loss: 0.415 [7/10]\n",
      "\n"
     ]
    },
    {
     "name": "stderr",
     "output_type": "stream",
     "text": [
      "\n",
      "Training --- loss: 0.024: 100%|██████████| 10/10 [00:02<00:00,  3.67it/s]\n",
      "Testing --- loss: 0.417: 100%|██████████| 2/2 [00:01<00:00,  1.37it/s]"
     ]
    },
    {
     "name": "stdout",
     "output_type": "stream",
     "text": [
      "Epoch 7 --- Avg train loss: 0.025 Avg val loss: 0.445 [8/10]\n",
      "\n"
     ]
    },
    {
     "name": "stderr",
     "output_type": "stream",
     "text": [
      "\n",
      "Training --- loss: 0.010: 100%|██████████| 10/10 [00:02<00:00,  3.65it/s]\n",
      "Testing --- loss: 0.417: 100%|██████████| 2/2 [00:01<00:00,  1.42it/s]"
     ]
    },
    {
     "name": "stdout",
     "output_type": "stream",
     "text": [
      "Epoch 8 --- Avg train loss: 0.020 Avg val loss: 0.445 [9/10]\n",
      "\n"
     ]
    },
    {
     "name": "stderr",
     "output_type": "stream",
     "text": [
      "\n",
      "Training --- loss: 0.016: 100%|██████████| 10/10 [00:02<00:00,  3.79it/s]\n",
      "Testing --- loss: 0.389: 100%|██████████| 2/2 [00:01<00:00,  1.42it/s]"
     ]
    },
    {
     "name": "stdout",
     "output_type": "stream",
     "text": [
      "Epoch 9 --- Avg train loss: 0.018 Avg val loss: 0.420 [10/10]\n",
      "\n"
     ]
    },
    {
     "name": "stderr",
     "output_type": "stream",
     "text": [
      "\n",
      "Testing --- loss: 0.000: 100%|██████████| 10/10 [00:00<00:00, 11.29it/s]\n",
      "Testing --- loss: 0.375: 100%|██████████| 77/77 [01:05<00:00,  1.17it/s]"
     ]
    },
    {
     "name": "stdout",
     "output_type": "stream",
     "text": [
      "Accuracy on train: 1.0\n",
      "Accuracy on test: 0.6208163265306123\n"
     ]
    },
    {
     "name": "stderr",
     "output_type": "stream",
     "text": [
      "\n"
     ]
    }
   ],
   "source": [
    "# Train only fc and select best\n",
    "\n",
    "trainer.train(10, train_loader, criterion, val_loader=val_loader, val_criterion=errors)\n",
    "model.load_state_dict(torch.load(f\"experiments/{trainer.best_epoch}.pt\"))\n",
    "\n",
    "# Accuracy\n",
    "train_accuracy = 1 - trainer.evaluate(train_loader, errors)\n",
    "test_accuracy = 1 - trainer.evaluate(test_loader, errors)\n",
    "\n",
    "print(\"Accuracy on train:\", train_accuracy)\n",
    "print(\"Accuracy on test:\", test_accuracy)"
   ]
  },
  {
   "cell_type": "code",
   "execution_count": 15,
   "metadata": {
    "id": "0WM2cB_8EuhO"
   },
   "outputs": [],
   "source": [
    "finetune_losses = trainer.losses\n",
    "finetune_accuracy = test_accuracy"
   ]
  },
  {
   "cell_type": "markdown",
   "metadata": {
    "id": "9IbtFp7-QFwh"
   },
   "source": [
    "# Incorporating *a priori*\n",
    "Geometrical *a priori* are appealing for image classification tasks. For now, we only consider linear transformations $\\mathcal{T}$ of the inputs $x:\\mathbb{S}^2\\rightarrow\\mathbb{R}$ where $\\mathbb{S}$ is the support of an image, meaning that:\n",
    "\n",
    "$$\\forall u\\in\\mathbb{S}^2,\\mathcal{T}(\\lambda x+\\mu y)(u)=\\lambda \\mathcal{T}(x)(u)+\\mu \\mathcal{T}(y)(u)\\,.$$\n",
    "\n",
    "For instance if an image had an infinite support, a translation $\\mathcal{T}_a$ by $a$ would lead to:\n",
    "\n",
    "$$\\forall u, \\mathcal{T}_a(x)(u)=x(u-a)\\,.$$\n",
    "\n",
    "Otherwise, one has to handle several boundary effects.\n",
    "\n",
    "__Question 5 (1.5 points):__ Explain the issues when dealing with translations, rotations, scaling effects, color changes on $32\\times32$ images. Propose several ideas to tackle them."
   ]
  },
  {
   "cell_type": "markdown",
   "metadata": {
    "id": "t-ssWSM1QFwh"
   },
   "source": [
    "The main problem with these images is that they are 32x32 images. Translation are limited if we want to keep the information of the image intact. Moreover with scaling and rotation, we have to interpolate the image, and with such a low resolution it's not really good. But with reasonnable parameters, the images are quite preserved, and these transformations can still be used for data augmentation."
   ]
  },
  {
   "cell_type": "markdown",
   "metadata": {
    "id": "9MyEvt98QFwh"
   },
   "source": [
    "## Data augmentations"
   ]
  },
  {
   "cell_type": "markdown",
   "metadata": {
    "id": "vYnx1hifQFwh"
   },
   "source": [
    "__Question 6 (3 points):__ Propose a set of geometric transformation beyond translation, and incorporate them in your training pipeline. Train the model of the __Question 3__ with them and report the accuracies."
   ]
  },
  {
   "cell_type": "code",
   "execution_count": 22,
   "metadata": {
    "id": "PBk5Lx7NQFwi"
   },
   "outputs": [],
   "source": [
    "fill_color = tuple(map(lambda x: int(255*x), mean))\n",
    "\n",
    "augmented_transform = transforms.Compose([\n",
    "    transforms.ColorJitter(brightness=0.4, contrast=0.4, saturation=0.4),\n",
    "    transforms.RandomHorizontalFlip(),\n",
    "    transforms.RandomApply([transforms.RandomRotation(10, fill=fill_color)], 0.3),\n",
    "    transforms.RandomApply([transforms.GaussianBlur(35, 0.5)], 0.3),\n",
    "#     transforms.RandomCrop(32, 3, padding_mode=\"reflect\"),\n",
    "#     transforms.RandomPerspective,\n",
    "    transforms.RandomApply([transforms.RandomResizedCrop(32, scale=(0.6, 1.0))], 0.3),\n",
    "    transforms.ToTensor(),\n",
    "    transforms.Normalize(mean, std),\n",
    "    transforms.RandomApply([transforms.RandomErasing(1, scale=(0.01, 0.1))], 0.3),\n",
    "])\n",
    "\n",
    "base_transform = torchvision.transforms.Compose([\n",
    "    transforms.ToTensor(),\n",
    "    transforms.Normalize(mean, std),\n",
    "])\n",
    "\n",
    "X_train = torchvision.datasets.CIFAR10(root=DATA_FOLDER, train=True, transform=augmented_transform)\n",
    "X_train = SubDataset(X_train, range(100))\n",
    "X_test = torchvision.datasets.CIFAR10(root=DATA_FOLDER, train=False, transform=base_transform)\n",
    "X_val = SubDataset(X_test, range(200))\n",
    "X_test = SubDataset(X_test, range(200, len(X_test)))\n",
    "\n",
    "train_loader = torch.utils.data.DataLoader(X_train, 10, shuffle=True)\n",
    "val_loader = torch.utils.data.DataLoader(X_val, 128, shuffle=False)\n",
    "test_loader = torch.utils.data.DataLoader(X_test, 128, shuffle=False)"
   ]
  },
  {
   "cell_type": "code",
   "execution_count": 20,
   "metadata": {
    "id": "zhd6AFEzn1Mw"
   },
   "outputs": [],
   "source": [
    "X = torchvision.datasets.CIFAR10(root=DATA_FOLDER, train=True, transform=base_transform)"
   ]
  },
  {
   "cell_type": "code",
   "execution_count": 21,
   "metadata": {
    "colab": {
     "base_uri": "https://localhost:8080/",
     "height": 873
    },
    "executionInfo": {
     "elapsed": 1119,
     "status": "ok",
     "timestamp": 1614018198096,
     "user": {
      "displayName": "Raphael Reme",
      "photoUrl": "",
      "userId": "10536219480337117409"
     },
     "user_tz": -60
    },
    "id": "IPkT01ZRn97Z",
    "outputId": "2d55457d-5597-4411-ec35-ec2e9c1af8c9"
   },
   "outputs": [
    {
     "data": {
      "image/png": "[encoded data removed]",
      "text/plain": [
       "<Figure size 432x288 with 1 Axes>"
      ]
     },
     "metadata": {
      "needs_background": "light"
     },
     "output_type": "display_data"
    },
    {
     "data": {
      "image/png": "[encoded data removed]",
      "text/plain": [
       "<Figure size 432x288 with 1 Axes>"
      ]
     },
     "metadata": {
      "needs_background": "light"
     },
     "output_type": "display_data"
    },
    {
     "data": {
      "image/png": "[encoded data removed]",
      "text/plain": [
       "<Figure size 432x288 with 1 Axes>"
      ]
     },
     "metadata": {
      "needs_background": "light"
     },
     "output_type": "display_data"
    },
    {
     "data": {
      "image/png": "[encoded data removed]",
      "text/plain": [
       "<Figure size 432x288 with 1 Axes>"
      ]
     },
     "metadata": {
      "needs_background": "light"
     },
     "output_type": "display_data"
    }
   ],
   "source": [
    "# Can be used to visualized transforms. Done without the normalization transform to improve visualization\n",
    "\n",
    "def check_transforms(i, X, X_aug):\n",
    "    \"Plot the original image and its randomly augmented version\"\n",
    "    img_base, label = X[i]\n",
    "    img_aug = X_aug[i][0]\n",
    "    plt.title(cifar_train.classes[label])\n",
    "    plt.imshow(torch.cat((img_base, img_aug), dim=2).permute(1, 2, 0))\n",
    "    plt.show()\n",
    "\n",
    "check_transforms(10, X, X_train)\n",
    "check_transforms(11, X, X_train)\n",
    "check_transforms(30, X, X_train)\n",
    "check_transforms(5, X, X_train)"
   ]
  },
  {
   "cell_type": "code",
   "execution_count": 23,
   "metadata": {
    "id": "ard3YrwvQFwi"
   },
   "outputs": [],
   "source": [
    "model = ResNet18().to(device)\n",
    "optimizer = torch.optim.Adam(model.parameters(), lr=0.0005)\n",
    "trainer = PytorchTrainer(model, optimizer, device, exp_dir=\"experiments/\", save_mode=\"best\")"
   ]
  },
  {
   "cell_type": "code",
   "execution_count": 24,
   "metadata": {
    "colab": {
     "base_uri": "https://localhost:8080/"
    },
    "executionInfo": {
     "elapsed": 39250,
     "status": "ok",
     "timestamp": 1614019855891,
     "user": {
      "displayName": "Raphael Reme",
      "photoUrl": "",
      "userId": "10536219480337117409"
     },
     "user_tz": -60
    },
    "id": "SYA4cSt5CmZU",
    "outputId": "364bf976-5862-4701-aaa0-a9ef4f41ed53"
   },
   "outputs": [
    {
     "name": "stderr",
     "output_type": "stream",
     "text": [
      "Training --- loss: 2.567: 100%|██████████| 10/10 [00:01<00:00,  6.36it/s]\n",
      "Testing --- loss: 0.931: 100%|██████████| 2/2 [00:00<00:00,  2.86it/s]"
     ]
    },
    {
     "name": "stdout",
     "output_type": "stream",
     "text": [
      "Epoch 0 --- Avg train loss: 2.791 Avg val loss: 0.925 [1/60]\n",
      "\n"
     ]
    },
    {
     "name": "stderr",
     "output_type": "stream",
     "text": [
      "\n",
      "Training --- loss: 2.338: 100%|██████████| 10/10 [00:01<00:00,  6.31it/s]\n",
      "Testing --- loss: 0.806: 100%|██████████| 2/2 [00:00<00:00,  2.98it/s]"
     ]
    },
    {
     "name": "stdout",
     "output_type": "stream",
     "text": [
      "Epoch 1 --- Avg train loss: 2.318 Avg val loss: 0.815 [2/60]\n",
      "\n"
     ]
    },
    {
     "name": "stderr",
     "output_type": "stream",
     "text": [
      "\n",
      "Training --- loss: 1.983: 100%|██████████| 10/10 [00:01<00:00,  6.41it/s]\n",
      "Testing --- loss: 0.847: 100%|██████████| 2/2 [00:00<00:00,  2.96it/s]"
     ]
    },
    {
     "name": "stdout",
     "output_type": "stream",
     "text": [
      "Epoch 2 --- Avg train loss: 2.111 Avg val loss: 0.800 [3/60]\n",
      "\n"
     ]
    },
    {
     "name": "stderr",
     "output_type": "stream",
     "text": [
      "\n",
      "Training --- loss: 1.993: 100%|██████████| 10/10 [00:01<00:00,  6.38it/s]\n",
      "Testing --- loss: 0.764: 100%|██████████| 2/2 [00:00<00:00,  3.01it/s]"
     ]
    },
    {
     "name": "stdout",
     "output_type": "stream",
     "text": [
      "Epoch 3 --- Avg train loss: 1.866 Avg val loss: 0.765 [4/60]\n",
      "\n"
     ]
    },
    {
     "name": "stderr",
     "output_type": "stream",
     "text": [
      "\n",
      "Training --- loss: 2.391: 100%|██████████| 10/10 [00:01<00:00,  6.33it/s]\n",
      "Testing --- loss: 0.792: 100%|██████████| 2/2 [00:00<00:00,  2.98it/s]"
     ]
    },
    {
     "name": "stdout",
     "output_type": "stream",
     "text": [
      "Epoch 4 --- Avg train loss: 1.673 Avg val loss: 0.805 [5/60]\n",
      "\n"
     ]
    },
    {
     "name": "stderr",
     "output_type": "stream",
     "text": [
      "\n",
      "Training --- loss: 2.330: 100%|██████████| 10/10 [00:01<00:00,  6.39it/s]\n",
      "Testing --- loss: 0.847: 100%|██████████| 2/2 [00:00<00:00,  2.96it/s]"
     ]
    },
    {
     "name": "stdout",
     "output_type": "stream",
     "text": [
      "Epoch 5 --- Avg train loss: 1.792 Avg val loss: 0.800 [6/60]\n",
      "\n"
     ]
    },
    {
     "name": "stderr",
     "output_type": "stream",
     "text": [
      "\n",
      "Training --- loss: 2.041: 100%|██████████| 10/10 [00:01<00:00,  6.41it/s]\n",
      "Testing --- loss: 0.764: 100%|██████████| 2/2 [00:00<00:00,  2.97it/s]"
     ]
    },
    {
     "name": "stdout",
     "output_type": "stream",
     "text": [
      "Epoch 6 --- Avg train loss: 1.583 Avg val loss: 0.765 [7/60]\n",
      "\n"
     ]
    },
    {
     "name": "stderr",
     "output_type": "stream",
     "text": [
      "\n",
      "Training --- loss: 1.386: 100%|██████████| 10/10 [00:01<00:00,  6.44it/s]\n",
      "Testing --- loss: 0.819: 100%|██████████| 2/2 [00:00<00:00,  2.95it/s]"
     ]
    },
    {
     "name": "stdout",
     "output_type": "stream",
     "text": [
      "Epoch 7 --- Avg train loss: 1.484 Avg val loss: 0.825 [8/60]\n",
      "\n"
     ]
    },
    {
     "name": "stderr",
     "output_type": "stream",
     "text": [
      "\n",
      "Training --- loss: 1.933: 100%|██████████| 10/10 [00:01<00:00,  6.45it/s]\n",
      "Testing --- loss: 0.833: 100%|██████████| 2/2 [00:00<00:00,  2.99it/s]"
     ]
    },
    {
     "name": "stdout",
     "output_type": "stream",
     "text": [
      "Epoch 8 --- Avg train loss: 1.553 Avg val loss: 0.825 [9/60]\n",
      "\n"
     ]
    },
    {
     "name": "stderr",
     "output_type": "stream",
     "text": [
      "\n",
      "Training --- loss: 1.983: 100%|██████████| 10/10 [00:01<00:00,  6.39it/s]\n",
      "Testing --- loss: 0.819: 100%|██████████| 2/2 [00:00<00:00,  2.96it/s]"
     ]
    },
    {
     "name": "stdout",
     "output_type": "stream",
     "text": [
      "Epoch 9 --- Avg train loss: 1.517 Avg val loss: 0.810 [10/60]\n",
      "\n"
     ]
    },
    {
     "name": "stderr",
     "output_type": "stream",
     "text": [
      "\n",
      "Training --- loss: 1.387: 100%|██████████| 10/10 [00:01<00:00,  6.35it/s]\n",
      "Testing --- loss: 0.764: 100%|██████████| 2/2 [00:00<00:00,  2.95it/s]"
     ]
    },
    {
     "name": "stdout",
     "output_type": "stream",
     "text": [
      "Epoch 10 --- Avg train loss: 1.374 Avg val loss: 0.790 [11/60]\n",
      "\n"
     ]
    },
    {
     "name": "stderr",
     "output_type": "stream",
     "text": [
      "\n",
      "Training --- loss: 0.889: 100%|██████████| 10/10 [00:01<00:00,  6.36it/s]\n",
      "Testing --- loss: 0.833: 100%|██████████| 2/2 [00:00<00:00,  2.97it/s]"
     ]
    },
    {
     "name": "stdout",
     "output_type": "stream",
     "text": [
      "Epoch 11 --- Avg train loss: 1.278 Avg val loss: 0.810 [12/60]\n",
      "\n"
     ]
    },
    {
     "name": "stderr",
     "output_type": "stream",
     "text": [
      "\n",
      "Training --- loss: 2.345: 100%|██████████| 10/10 [00:01<00:00,  6.18it/s]\n",
      "Testing --- loss: 0.833: 100%|██████████| 2/2 [00:00<00:00,  2.93it/s]"
     ]
    },
    {
     "name": "stdout",
     "output_type": "stream",
     "text": [
      "Epoch 12 --- Avg train loss: 1.240 Avg val loss: 0.780 [13/60]\n",
      "\n"
     ]
    },
    {
     "name": "stderr",
     "output_type": "stream",
     "text": [
      "\n",
      "Training --- loss: 1.266: 100%|██████████| 10/10 [00:01<00:00,  6.23it/s]\n",
      "Testing --- loss: 0.778: 100%|██████████| 2/2 [00:00<00:00,  2.93it/s]"
     ]
    },
    {
     "name": "stdout",
     "output_type": "stream",
     "text": [
      "Epoch 13 --- Avg train loss: 1.341 Avg val loss: 0.740 [14/60]\n",
      "\n"
     ]
    },
    {
     "name": "stderr",
     "output_type": "stream",
     "text": [
      "\n",
      "Training --- loss: 0.976: 100%|██████████| 10/10 [00:01<00:00,  6.36it/s]\n",
      "Testing --- loss: 0.806: 100%|██████████| 2/2 [00:00<00:00,  2.91it/s]"
     ]
    },
    {
     "name": "stdout",
     "output_type": "stream",
     "text": [
      "Epoch 14 --- Avg train loss: 0.991 Avg val loss: 0.760 [15/60]\n",
      "\n"
     ]
    },
    {
     "name": "stderr",
     "output_type": "stream",
     "text": [
      "\n",
      "Training --- loss: 0.727: 100%|██████████| 10/10 [00:01<00:00,  6.42it/s]\n",
      "Testing --- loss: 0.778: 100%|██████████| 2/2 [00:00<00:00,  2.97it/s]"
     ]
    },
    {
     "name": "stdout",
     "output_type": "stream",
     "text": [
      "Epoch 15 --- Avg train loss: 0.984 Avg val loss: 0.770 [16/60]\n",
      "\n"
     ]
    },
    {
     "name": "stderr",
     "output_type": "stream",
     "text": [
      "\n",
      "Training --- loss: 0.633: 100%|██████████| 10/10 [00:01<00:00,  6.41it/s]\n",
      "Testing --- loss: 0.819: 100%|██████████| 2/2 [00:00<00:00,  3.07it/s]"
     ]
    },
    {
     "name": "stdout",
     "output_type": "stream",
     "text": [
      "Epoch 16 --- Avg train loss: 0.980 Avg val loss: 0.815 [17/60]\n",
      "\n"
     ]
    },
    {
     "name": "stderr",
     "output_type": "stream",
     "text": [
      "\n",
      "Training --- loss: 0.530: 100%|██████████| 10/10 [00:01<00:00,  6.45it/s]\n",
      "Testing --- loss: 0.764: 100%|██████████| 2/2 [00:00<00:00,  3.02it/s]"
     ]
    },
    {
     "name": "stdout",
     "output_type": "stream",
     "text": [
      "Epoch 17 --- Avg train loss: 1.137 Avg val loss: 0.800 [18/60]\n",
      "\n"
     ]
    },
    {
     "name": "stderr",
     "output_type": "stream",
     "text": [
      "\n",
      "Training --- loss: 0.998: 100%|██████████| 10/10 [00:01<00:00,  6.46it/s]\n",
      "Testing --- loss: 0.764: 100%|██████████| 2/2 [00:00<00:00,  3.02it/s]"
     ]
    },
    {
     "name": "stdout",
     "output_type": "stream",
     "text": [
      "Epoch 18 --- Avg train loss: 0.971 Avg val loss: 0.780 [19/60]\n",
      "\n"
     ]
    },
    {
     "name": "stderr",
     "output_type": "stream",
     "text": [
      "\n",
      "Training --- loss: 2.375: 100%|██████████| 10/10 [00:01<00:00,  6.54it/s]\n",
      "Testing --- loss: 0.806: 100%|██████████| 2/2 [00:00<00:00,  3.03it/s]"
     ]
    },
    {
     "name": "stdout",
     "output_type": "stream",
     "text": [
      "Epoch 19 --- Avg train loss: 0.989 Avg val loss: 0.775 [20/60]\n",
      "\n"
     ]
    },
    {
     "name": "stderr",
     "output_type": "stream",
     "text": [
      "\n",
      "Training --- loss: 1.111: 100%|██████████| 10/10 [00:01<00:00,  6.51it/s]\n",
      "Testing --- loss: 0.861: 100%|██████████| 2/2 [00:00<00:00,  3.03it/s]"
     ]
    },
    {
     "name": "stdout",
     "output_type": "stream",
     "text": [
      "Epoch 20 --- Avg train loss: 0.857 Avg val loss: 0.795 [21/60]\n",
      "\n"
     ]
    },
    {
     "name": "stderr",
     "output_type": "stream",
     "text": [
      "\n",
      "Training --- loss: 0.935: 100%|██████████| 10/10 [00:01<00:00,  6.45it/s]\n",
      "Testing --- loss: 0.792: 100%|██████████| 2/2 [00:00<00:00,  3.06it/s]"
     ]
    },
    {
     "name": "stdout",
     "output_type": "stream",
     "text": [
      "Epoch 21 --- Avg train loss: 0.922 Avg val loss: 0.755 [22/60]\n",
      "\n"
     ]
    },
    {
     "name": "stderr",
     "output_type": "stream",
     "text": [
      "\n",
      "Training --- loss: 0.767: 100%|██████████| 10/10 [00:01<00:00,  6.43it/s]\n",
      "Testing --- loss: 0.778: 100%|██████████| 2/2 [00:00<00:00,  3.04it/s]"
     ]
    },
    {
     "name": "stdout",
     "output_type": "stream",
     "text": [
      "Epoch 22 --- Avg train loss: 0.783 Avg val loss: 0.775 [23/60]\n",
      "\n"
     ]
    },
    {
     "name": "stderr",
     "output_type": "stream",
     "text": [
      "\n",
      "Training --- loss: 0.293: 100%|██████████| 10/10 [00:01<00:00,  6.32it/s]\n",
      "Testing --- loss: 0.778: 100%|██████████| 2/2 [00:00<00:00,  2.99it/s]"
     ]
    },
    {
     "name": "stdout",
     "output_type": "stream",
     "text": [
      "Epoch 23 --- Avg train loss: 0.660 Avg val loss: 0.805 [24/60]\n",
      "\n"
     ]
    },
    {
     "name": "stderr",
     "output_type": "stream",
     "text": [
      "\n",
      "Training --- loss: 0.727: 100%|██████████| 10/10 [00:01<00:00,  6.53it/s]\n",
      "Testing --- loss: 0.764: 100%|██████████| 2/2 [00:00<00:00,  3.03it/s]"
     ]
    },
    {
     "name": "stdout",
     "output_type": "stream",
     "text": [
      "Epoch 24 --- Avg train loss: 0.792 Avg val loss: 0.765 [25/60]\n",
      "\n"
     ]
    },
    {
     "name": "stderr",
     "output_type": "stream",
     "text": [
      "\n",
      "Training --- loss: 0.611: 100%|██████████| 10/10 [00:01<00:00,  6.45it/s]\n",
      "Testing --- loss: 0.819: 100%|██████████| 2/2 [00:00<00:00,  3.05it/s]"
     ]
    },
    {
     "name": "stdout",
     "output_type": "stream",
     "text": [
      "Epoch 25 --- Avg train loss: 0.564 Avg val loss: 0.775 [26/60]\n",
      "\n"
     ]
    },
    {
     "name": "stderr",
     "output_type": "stream",
     "text": [
      "\n",
      "Training --- loss: 0.272: 100%|██████████| 10/10 [00:01<00:00,  6.45it/s]\n",
      "Testing --- loss: 0.847: 100%|██████████| 2/2 [00:00<00:00,  3.04it/s]"
     ]
    },
    {
     "name": "stdout",
     "output_type": "stream",
     "text": [
      "Epoch 26 --- Avg train loss: 0.635 Avg val loss: 0.820 [27/60]\n",
      "\n"
     ]
    },
    {
     "name": "stderr",
     "output_type": "stream",
     "text": [
      "\n",
      "Training --- loss: 0.921: 100%|██████████| 10/10 [00:01<00:00,  6.38it/s]\n",
      "Testing --- loss: 0.819: 100%|██████████| 2/2 [00:00<00:00,  2.99it/s]"
     ]
    },
    {
     "name": "stdout",
     "output_type": "stream",
     "text": [
      "Epoch 27 --- Avg train loss: 0.616 Avg val loss: 0.855 [28/60]\n",
      "\n"
     ]
    },
    {
     "name": "stderr",
     "output_type": "stream",
     "text": [
      "\n",
      "Training --- loss: 1.232: 100%|██████████| 10/10 [00:01<00:00,  6.49it/s]\n",
      "Testing --- loss: 0.778: 100%|██████████| 2/2 [00:00<00:00,  3.03it/s]"
     ]
    },
    {
     "name": "stdout",
     "output_type": "stream",
     "text": [
      "Epoch 28 --- Avg train loss: 0.716 Avg val loss: 0.745 [29/60]\n",
      "\n"
     ]
    },
    {
     "name": "stderr",
     "output_type": "stream",
     "text": [
      "\n",
      "Training --- loss: 1.031: 100%|██████████| 10/10 [00:01<00:00,  6.46it/s]\n",
      "Testing --- loss: 0.750: 100%|██████████| 2/2 [00:00<00:00,  3.08it/s]"
     ]
    },
    {
     "name": "stdout",
     "output_type": "stream",
     "text": [
      "Epoch 29 --- Avg train loss: 0.911 Avg val loss: 0.770 [30/60]\n",
      "\n"
     ]
    },
    {
     "name": "stderr",
     "output_type": "stream",
     "text": [
      "\n",
      "Training --- loss: 0.668: 100%|██████████| 10/10 [00:01<00:00,  6.46it/s]\n",
      "Testing --- loss: 0.819: 100%|██████████| 2/2 [00:00<00:00,  3.04it/s]"
     ]
    },
    {
     "name": "stdout",
     "output_type": "stream",
     "text": [
      "Epoch 30 --- Avg train loss: 0.651 Avg val loss: 0.770 [31/60]\n",
      "\n"
     ]
    },
    {
     "name": "stderr",
     "output_type": "stream",
     "text": [
      "\n",
      "Training --- loss: 0.364: 100%|██████████| 10/10 [00:01<00:00,  6.40it/s]\n",
      "Testing --- loss: 0.736: 100%|██████████| 2/2 [00:00<00:00,  3.04it/s]"
     ]
    },
    {
     "name": "stdout",
     "output_type": "stream",
     "text": [
      "Epoch 31 --- Avg train loss: 0.564 Avg val loss: 0.730 [32/60]\n",
      "\n"
     ]
    },
    {
     "name": "stderr",
     "output_type": "stream",
     "text": [
      "\n",
      "Training --- loss: 0.602: 100%|██████████| 10/10 [00:01<00:00,  6.44it/s]\n",
      "Testing --- loss: 0.819: 100%|██████████| 2/2 [00:00<00:00,  3.04it/s]"
     ]
    },
    {
     "name": "stdout",
     "output_type": "stream",
     "text": [
      "Epoch 32 --- Avg train loss: 0.468 Avg val loss: 0.815 [33/60]\n",
      "\n"
     ]
    },
    {
     "name": "stderr",
     "output_type": "stream",
     "text": [
      "\n",
      "Training --- loss: 0.489: 100%|██████████| 10/10 [00:01<00:00,  6.40it/s]\n",
      "Testing --- loss: 0.806: 100%|██████████| 2/2 [00:00<00:00,  3.06it/s]"
     ]
    },
    {
     "name": "stdout",
     "output_type": "stream",
     "text": [
      "Epoch 33 --- Avg train loss: 0.703 Avg val loss: 0.755 [34/60]\n",
      "\n"
     ]
    },
    {
     "name": "stderr",
     "output_type": "stream",
     "text": [
      "\n",
      "Training --- loss: 1.118: 100%|██████████| 10/10 [00:01<00:00,  6.47it/s]\n",
      "Testing --- loss: 0.778: 100%|██████████| 2/2 [00:00<00:00,  3.08it/s]"
     ]
    },
    {
     "name": "stdout",
     "output_type": "stream",
     "text": [
      "Epoch 34 --- Avg train loss: 0.555 Avg val loss: 0.785 [35/60]\n",
      "\n"
     ]
    },
    {
     "name": "stderr",
     "output_type": "stream",
     "text": [
      "\n",
      "Training --- loss: 0.626: 100%|██████████| 10/10 [00:01<00:00,  6.50it/s]\n",
      "Testing --- loss: 0.792: 100%|██████████| 2/2 [00:00<00:00,  2.96it/s]"
     ]
    },
    {
     "name": "stdout",
     "output_type": "stream",
     "text": [
      "Epoch 35 --- Avg train loss: 0.704 Avg val loss: 0.790 [36/60]\n",
      "\n"
     ]
    },
    {
     "name": "stderr",
     "output_type": "stream",
     "text": [
      "\n",
      "Training --- loss: 0.201: 100%|██████████| 10/10 [00:01<00:00,  6.42it/s]\n",
      "Testing --- loss: 0.722: 100%|██████████| 2/2 [00:00<00:00,  2.99it/s]"
     ]
    },
    {
     "name": "stdout",
     "output_type": "stream",
     "text": [
      "Epoch 36 --- Avg train loss: 0.501 Avg val loss: 0.750 [37/60]\n",
      "\n"
     ]
    },
    {
     "name": "stderr",
     "output_type": "stream",
     "text": [
      "\n",
      "Training --- loss: 0.707: 100%|██████████| 10/10 [00:01<00:00,  6.51it/s]\n",
      "Testing --- loss: 0.750: 100%|██████████| 2/2 [00:00<00:00,  3.08it/s]"
     ]
    },
    {
     "name": "stdout",
     "output_type": "stream",
     "text": [
      "Epoch 37 --- Avg train loss: 0.423 Avg val loss: 0.775 [38/60]\n",
      "\n"
     ]
    },
    {
     "name": "stderr",
     "output_type": "stream",
     "text": [
      "\n",
      "Training --- loss: 0.457: 100%|██████████| 10/10 [00:01<00:00,  6.48it/s]\n",
      "Testing --- loss: 0.750: 100%|██████████| 2/2 [00:00<00:00,  3.08it/s]"
     ]
    },
    {
     "name": "stdout",
     "output_type": "stream",
     "text": [
      "Epoch 38 --- Avg train loss: 0.545 Avg val loss: 0.730 [39/60]\n",
      "\n"
     ]
    },
    {
     "name": "stderr",
     "output_type": "stream",
     "text": [
      "\n",
      "Training --- loss: 0.977: 100%|██████████| 10/10 [00:01<00:00,  6.42it/s]\n",
      "Testing --- loss: 0.750: 100%|██████████| 2/2 [00:00<00:00,  3.05it/s]"
     ]
    },
    {
     "name": "stdout",
     "output_type": "stream",
     "text": [
      "Epoch 39 --- Avg train loss: 0.548 Avg val loss: 0.795 [40/60]\n",
      "\n"
     ]
    },
    {
     "name": "stderr",
     "output_type": "stream",
     "text": [
      "\n",
      "Training --- loss: 0.256: 100%|██████████| 10/10 [00:01<00:00,  6.46it/s]\n",
      "Testing --- loss: 0.833: 100%|██████████| 2/2 [00:00<00:00,  3.06it/s]"
     ]
    },
    {
     "name": "stdout",
     "output_type": "stream",
     "text": [
      "Epoch 40 --- Avg train loss: 0.515 Avg val loss: 0.830 [41/60]\n",
      "\n"
     ]
    },
    {
     "name": "stderr",
     "output_type": "stream",
     "text": [
      "\n",
      "Training --- loss: 0.314: 100%|██████████| 10/10 [00:01<00:00,  6.45it/s]\n",
      "Testing --- loss: 0.736: 100%|██████████| 2/2 [00:00<00:00,  3.05it/s]"
     ]
    },
    {
     "name": "stdout",
     "output_type": "stream",
     "text": [
      "Epoch 41 --- Avg train loss: 0.417 Avg val loss: 0.780 [42/60]\n",
      "\n"
     ]
    },
    {
     "name": "stderr",
     "output_type": "stream",
     "text": [
      "\n",
      "Training --- loss: 0.353: 100%|██████████| 10/10 [00:01<00:00,  6.34it/s]\n",
      "Testing --- loss: 0.778: 100%|██████████| 2/2 [00:00<00:00,  3.02it/s]"
     ]
    },
    {
     "name": "stdout",
     "output_type": "stream",
     "text": [
      "Epoch 42 --- Avg train loss: 0.387 Avg val loss: 0.780 [43/60]\n",
      "\n"
     ]
    },
    {
     "name": "stderr",
     "output_type": "stream",
     "text": [
      "\n",
      "Training --- loss: 0.551: 100%|██████████| 10/10 [00:01<00:00,  6.42it/s]\n",
      "Testing --- loss: 0.722: 100%|██████████| 2/2 [00:00<00:00,  3.02it/s]"
     ]
    },
    {
     "name": "stdout",
     "output_type": "stream",
     "text": [
      "Epoch 43 --- Avg train loss: 0.364 Avg val loss: 0.750 [44/60]\n",
      "\n"
     ]
    },
    {
     "name": "stderr",
     "output_type": "stream",
     "text": [
      "\n",
      "Training --- loss: 0.561: 100%|██████████| 10/10 [00:01<00:00,  6.01it/s]\n",
      "Testing --- loss: 0.764: 100%|██████████| 2/2 [00:00<00:00,  2.73it/s]"
     ]
    },
    {
     "name": "stdout",
     "output_type": "stream",
     "text": [
      "Epoch 44 --- Avg train loss: 0.351 Avg val loss: 0.730 [45/60]\n",
      "\n"
     ]
    },
    {
     "name": "stderr",
     "output_type": "stream",
     "text": [
      "\n",
      "Training --- loss: 1.219: 100%|██████████| 10/10 [00:01<00:00,  6.11it/s]\n",
      "Testing --- loss: 0.806: 100%|██████████| 2/2 [00:00<00:00,  2.96it/s]"
     ]
    },
    {
     "name": "stdout",
     "output_type": "stream",
     "text": [
      "Epoch 45 --- Avg train loss: 0.453 Avg val loss: 0.810 [46/60]\n",
      "\n"
     ]
    },
    {
     "name": "stderr",
     "output_type": "stream",
     "text": [
      "\n",
      "Training --- loss: 0.459: 100%|██████████| 10/10 [00:01<00:00,  6.12it/s]\n",
      "Testing --- loss: 0.722: 100%|██████████| 2/2 [00:00<00:00,  3.04it/s]"
     ]
    },
    {
     "name": "stdout",
     "output_type": "stream",
     "text": [
      "Epoch 46 --- Avg train loss: 0.410 Avg val loss: 0.745 [47/60]\n",
      "\n"
     ]
    },
    {
     "name": "stderr",
     "output_type": "stream",
     "text": [
      "\n",
      "Training --- loss: 0.340: 100%|██████████| 10/10 [00:01<00:00,  6.09it/s]\n",
      "Testing --- loss: 0.764: 100%|██████████| 2/2 [00:00<00:00,  3.01it/s]"
     ]
    },
    {
     "name": "stdout",
     "output_type": "stream",
     "text": [
      "Epoch 47 --- Avg train loss: 0.413 Avg val loss: 0.760 [48/60]\n",
      "\n"
     ]
    },
    {
     "name": "stderr",
     "output_type": "stream",
     "text": [
      "\n",
      "Training --- loss: 0.336: 100%|██████████| 10/10 [00:01<00:00,  5.86it/s]\n",
      "Testing --- loss: 0.806: 100%|██████████| 2/2 [00:00<00:00,  3.02it/s]"
     ]
    },
    {
     "name": "stdout",
     "output_type": "stream",
     "text": [
      "Epoch 48 --- Avg train loss: 0.284 Avg val loss: 0.785 [49/60]\n",
      "\n"
     ]
    },
    {
     "name": "stderr",
     "output_type": "stream",
     "text": [
      "\n",
      "Training --- loss: 0.082: 100%|██████████| 10/10 [00:01<00:00,  6.41it/s]\n",
      "Testing --- loss: 0.833: 100%|██████████| 2/2 [00:00<00:00,  3.04it/s]"
     ]
    },
    {
     "name": "stdout",
     "output_type": "stream",
     "text": [
      "Epoch 49 --- Avg train loss: 0.342 Avg val loss: 0.780 [50/60]\n",
      "\n"
     ]
    },
    {
     "name": "stderr",
     "output_type": "stream",
     "text": [
      "\n",
      "Training --- loss: 0.864: 100%|██████████| 10/10 [00:01<00:00,  6.33it/s]\n",
      "Testing --- loss: 0.764: 100%|██████████| 2/2 [00:00<00:00,  3.05it/s]"
     ]
    },
    {
     "name": "stdout",
     "output_type": "stream",
     "text": [
      "Epoch 50 --- Avg train loss: 0.327 Avg val loss: 0.765 [51/60]\n",
      "\n"
     ]
    },
    {
     "name": "stderr",
     "output_type": "stream",
     "text": [
      "\n",
      "Training --- loss: 0.262: 100%|██████████| 10/10 [00:01<00:00,  6.38it/s]\n",
      "Testing --- loss: 0.694: 100%|██████████| 2/2 [00:00<00:00,  3.04it/s]"
     ]
    },
    {
     "name": "stdout",
     "output_type": "stream",
     "text": [
      "Epoch 51 --- Avg train loss: 0.304 Avg val loss: 0.740 [52/60]\n",
      "\n"
     ]
    },
    {
     "name": "stderr",
     "output_type": "stream",
     "text": [
      "\n",
      "Training --- loss: 0.232: 100%|██████████| 10/10 [00:01<00:00,  6.36it/s]\n",
      "Testing --- loss: 0.722: 100%|██████████| 2/2 [00:00<00:00,  2.94it/s]"
     ]
    },
    {
     "name": "stdout",
     "output_type": "stream",
     "text": [
      "Epoch 52 --- Avg train loss: 0.422 Avg val loss: 0.755 [53/60]\n",
      "\n"
     ]
    },
    {
     "name": "stderr",
     "output_type": "stream",
     "text": [
      "\n",
      "Training --- loss: 0.342: 100%|██████████| 10/10 [00:01<00:00,  6.14it/s]\n",
      "Testing --- loss: 0.764: 100%|██████████| 2/2 [00:00<00:00,  2.91it/s]"
     ]
    },
    {
     "name": "stdout",
     "output_type": "stream",
     "text": [
      "Epoch 53 --- Avg train loss: 0.327 Avg val loss: 0.765 [54/60]\n",
      "\n"
     ]
    },
    {
     "name": "stderr",
     "output_type": "stream",
     "text": [
      "\n",
      "Training --- loss: 0.101: 100%|██████████| 10/10 [00:01<00:00,  5.94it/s]\n",
      "Testing --- loss: 0.806: 100%|██████████| 2/2 [00:00<00:00,  2.96it/s]"
     ]
    },
    {
     "name": "stdout",
     "output_type": "stream",
     "text": [
      "Epoch 54 --- Avg train loss: 0.304 Avg val loss: 0.755 [55/60]\n",
      "\n"
     ]
    },
    {
     "name": "stderr",
     "output_type": "stream",
     "text": [
      "\n",
      "Training --- loss: 0.614: 100%|██████████| 10/10 [00:01<00:00,  6.36it/s]\n",
      "Testing --- loss: 0.736: 100%|██████████| 2/2 [00:00<00:00,  2.99it/s]"
     ]
    },
    {
     "name": "stdout",
     "output_type": "stream",
     "text": [
      "Epoch 55 --- Avg train loss: 0.362 Avg val loss: 0.730 [56/60]\n",
      "\n"
     ]
    },
    {
     "name": "stderr",
     "output_type": "stream",
     "text": [
      "\n",
      "Training --- loss: 0.287: 100%|██████████| 10/10 [00:01<00:00,  6.32it/s]\n",
      "Testing --- loss: 0.750: 100%|██████████| 2/2 [00:00<00:00,  2.74it/s]"
     ]
    },
    {
     "name": "stdout",
     "output_type": "stream",
     "text": [
      "Epoch 56 --- Avg train loss: 0.383 Avg val loss: 0.750 [57/60]\n",
      "\n"
     ]
    },
    {
     "name": "stderr",
     "output_type": "stream",
     "text": [
      "\n",
      "Training --- loss: 0.517: 100%|██████████| 10/10 [00:01<00:00,  5.95it/s]\n",
      "Testing --- loss: 0.847: 100%|██████████| 2/2 [00:00<00:00,  2.81it/s]"
     ]
    },
    {
     "name": "stdout",
     "output_type": "stream",
     "text": [
      "Epoch 57 --- Avg train loss: 0.428 Avg val loss: 0.790 [58/60]\n",
      "\n"
     ]
    },
    {
     "name": "stderr",
     "output_type": "stream",
     "text": [
      "\n",
      "Training --- loss: 0.512: 100%|██████████| 10/10 [00:01<00:00,  6.00it/s]\n",
      "Testing --- loss: 0.806: 100%|██████████| 2/2 [00:00<00:00,  2.99it/s]"
     ]
    },
    {
     "name": "stdout",
     "output_type": "stream",
     "text": [
      "Epoch 58 --- Avg train loss: 0.611 Avg val loss: 0.770 [59/60]\n",
      "\n"
     ]
    },
    {
     "name": "stderr",
     "output_type": "stream",
     "text": [
      "\n",
      "Training --- loss: 0.712: 100%|██████████| 10/10 [00:01<00:00,  6.05it/s]\n",
      "Testing --- loss: 0.806: 100%|██████████| 2/2 [00:00<00:00,  2.86it/s]"
     ]
    },
    {
     "name": "stdout",
     "output_type": "stream",
     "text": [
      "Epoch 59 --- Avg train loss: 0.462 Avg val loss: 0.790 [60/60]\n",
      "\n"
     ]
    },
    {
     "name": "stderr",
     "output_type": "stream",
     "text": [
      "\n",
      "Testing --- loss: 0.200: 100%|██████████| 10/10 [00:00<00:00, 21.88it/s]\n",
      "Testing --- loss: 0.764: 100%|██████████| 77/77 [00:34<00:00,  2.24it/s]"
     ]
    },
    {
     "name": "stdout",
     "output_type": "stream",
     "text": [
      "Accuracy on train: 0.9200000166893005\n",
      "Accuracy on test: 0.25551020403297575\n"
     ]
    },
    {
     "name": "stderr",
     "output_type": "stream",
     "text": [
      "\n"
     ]
    }
   ],
   "source": [
    "# Train and select best. Has to train on more epochs\n",
    "\n",
    "trainer.train(60, train_loader, criterion, val_loader=val_loader, val_criterion=errors)\n",
    "model.load_state_dict(torch.load(f\"experiments/{trainer.best_epoch}.pt\"))\n",
    "\n",
    "# Accuracy\n",
    "train_accuracy = 1 - trainer.evaluate(train_loader, errors)\n",
    "test_accuracy = 1 - trainer.evaluate(test_loader, errors)\n",
    "\n",
    "print(\"Accuracy on train:\", train_accuracy)\n",
    "print(\"Accuracy on test:\", test_accuracy)"
   ]
  },
  {
   "cell_type": "code",
   "execution_count": 26,
   "metadata": {
    "id": "qQbHGbbpCeTC"
   },
   "outputs": [],
   "source": [
    "augmented_losses = trainer.losses\n",
    "augmented_accuracy = test_accuracy"
   ]
  },
  {
   "cell_type": "markdown",
   "metadata": {
    "id": "fyX8iEtbQFwj"
   },
   "source": [
    "# Conclusions"
   ]
  },
  {
   "cell_type": "markdown",
   "metadata": {
    "id": "41szX6umQFwj"
   },
   "source": [
    "__Question 7 (5 points):__ Write a short report explaining the pros and the cons of each methods that you implemented. 25% of the grade of this project will correspond to this question, thus, it should be done carefully. In particular, please add a plot that will summarize all your numerical results."
   ]
  },
  {
   "cell_type": "markdown",
   "metadata": {
    "id": "32cUqwA4QFwj"
   },
   "source": [
    "In order to compare the different methods, we have use the same model through the experiments: a ResNet18. (We used only the torchvision's implementation for the finetuning experiments)"
   ]
  },
  {
   "cell_type": "markdown",
   "metadata": {
    "id": "Eumx_zReMlri"
   },
   "source": [
    "The first method consists in using only the given 100 data with no pretrained features or data augmentation. With Adam optimizer and a basic learning rate, the model is able to reach from 18 to 23 percent of accuracy on the test set. It's not a lot and but this method is the simplest one.\n",
    "\n",
    "The second method consists in using a pretrained model on ImageNet. We have retrained a linear layer above the convolutionnal model. (We also tried to finetune the whole model, and with different learning rates, but it did not yields better results.). We achieved to reach from 64 to 68 percent of accuracy on the test set with this method. This is the best accuracy we got and it's quite simple to do, but it requires to have access to a pretrained model and adapt the dataset to it. For instance as the pretrained model has been trained on 224x224 images, we had to resize our images to this size (And we therefore need more computationnal power.)\n",
    "\n",
    "The third method consists in using data augmentation. Previous method were designed without any data augmentation. Here the idea is to augment our dataset with some modified images. We decided to randomly augment the dataset online. The idea is to learn to be more robust. The training is a bit harder with it, we use a smaller learning rate and more epochs. But at the end we are able to reach from 25 to 28 percent of accuracy. (which is a bit better than without it.). Nonetheless it's quite hard to know which transformations to use to augment our dataset and with which intensity. (Even more with small images)"
   ]
  },
  {
   "cell_type": "code",
   "execution_count": 27,
   "metadata": {
    "colab": {
     "base_uri": "https://localhost:8080/",
     "height": 295
    },
    "executionInfo": {
     "elapsed": 532,
     "status": "ok",
     "timestamp": 1614022088825,
     "user": {
      "displayName": "Raphael Reme",
      "photoUrl": "",
      "userId": "10536219480337117409"
     },
     "user_tz": -60
    },
    "id": "XY1gR7p3MkXF",
    "outputId": "dc4024e9-aa18-48c1-ccfe-9c37c85024db"
   },
   "outputs": [
    {
     "data": {
      "image/png": "[encoded data removed]",
      "text/plain": [
       "<Figure size 432x288 with 1 Axes>"
      ]
     },
     "metadata": {
      "needs_background": "light"
     },
     "output_type": "display_data"
    }
   ],
   "source": [
    "plt.title(\"Evolution of training loss\")\n",
    "plt.plot(range(1, 11), base_losses[0], label=f\"Baseline-{base_accuracy:.3f}\")\n",
    "plt.plot(range(1, 11), finetune_losses[0], label=f\"Finetuning-{finetune_accuracy:.3f}\")\n",
    "plt.plot(range(1, 61), augmented_losses[0], label=f\"Data augmentation-{augmented_accuracy:.3f}\")\n",
    "plt.xlabel(\"Epochs\")\n",
    "plt.legend()\n",
    "plt.show()"
   ]
  },
  {
   "cell_type": "code",
   "execution_count": 29,
   "metadata": {
    "colab": {
     "base_uri": "https://localhost:8080/",
     "height": 295
    },
    "executionInfo": {
     "elapsed": 544,
     "status": "ok",
     "timestamp": 1614022223561,
     "user": {
      "displayName": "Raphael Reme",
      "photoUrl": "",
      "userId": "10536219480337117409"
     },
     "user_tz": -60
    },
    "id": "QhVxSGvmNYAW",
    "outputId": "2265f100-9d8c-4870-f4e6-98e81840cece"
   },
   "outputs": [
    {
     "data": {
      "image/png": "[encoded data removed]",
      "text/plain": [
       "<Figure size 432x288 with 1 Axes>"
      ]
     },
     "metadata": {
      "needs_background": "light"
     },
     "output_type": "display_data"
    }
   ],
   "source": [
    "plt.title(\"Evolution of validation accuracy\")\n",
    "plt.plot(range(1, 11), 1-base_losses[1], label=f\"Baseline-{base_accuracy:.3f}\")\n",
    "plt.plot(range(1, 11), 1-finetune_losses[1], label=f\"Finetuning-{finetune_accuracy:.3f}\")\n",
    "plt.plot(range(1, 61), 1-augmented_losses[1], label=f\"Data augmentation-{augmented_accuracy:.3f}\")\n",
    "plt.xlabel(\"Epochs\")\n",
    "plt.legend()\n",
    "plt.show()"
   ]
  },
  {
   "cell_type": "markdown",
   "metadata": {},
   "source": [
    "In the following section we will present two more experiments. We can sum up very quickly and roughly the results with:\n",
    "<ul>\n",
    "<li>Supervised without augmentation: around 20%</li>\n",
    "<li>Supervised with augmentation: around 26%</li>\n",
    "<li>Self supervision with rotation prediction: Around 35%</li>\n",
    "<li>Pretrained model on ImageNet: Around 65%</li>\n",
    "<li>FixMatch: Greater than 75%</li>\n",
    "</ul>\n",
    "\n",
    "(FixMatch results were by most the hardest to have, and require a lot of computations)"
   ]
  },
  {
   "cell_type": "markdown",
   "metadata": {
    "id": "xNELzfFpQFwk"
   },
   "source": [
    "# Weak supervision"
   ]
  },
  {
   "cell_type": "markdown",
   "metadata": {
    "id": "ary5SCXZQFwk"
   },
   "source": [
    "__Bonus \\[open\\] question (up to 3 points):__ Pick a weakly supervised method that will potentially use $\\mathcal{X}\\cup\\mathcal{X}_{\\text{train}}$ to train a representation (a subset of $\\mathcal{X}$ is also fine). Evaluate it and report the accuracies. You should be careful in the choice of your method, in order to avoid heavy computational effort."
   ]
  },
  {
   "cell_type": "markdown",
   "metadata": {
    "id": "z6inmMphoqk0"
   },
   "source": [
    "We decided to use self supervision on the unlabelled dataset. On this dataset we will apply some random rotation (between 0, 90, 180 and 270 degree). Then we train a network to predict which rotation has been used on the image. Hopefully the network will learn some useful feature to use in our real task with our tiny dataset, and we will be able to finetune the network for our task"
   ]
  },
  {
   "cell_type": "code",
   "execution_count": 30,
   "metadata": {
    "id": "zCK83US1CmZW"
   },
   "outputs": [],
   "source": [
    "class RotationDataset(torch.utils.data.Dataset):\n",
    "    def __init__(self, dataset):\n",
    "        self.dataset = dataset\n",
    "\n",
    "    def __getitem__(self, idx):\n",
    "        image, _ = self.dataset[idx]\n",
    "        k = torch.randint(0, 4, (1,)).item()\n",
    "        image = torch.rot90(image, k, [1, 2])\n",
    "        return image, k\n",
    "\n",
    "    def __len__(self):\n",
    "        return len(self.dataset)"
   ]
  },
  {
   "cell_type": "code",
   "execution_count": 31,
   "metadata": {
    "colab": {
     "base_uri": "https://localhost:8080/"
    },
    "executionInfo": {
     "elapsed": 2056,
     "status": "ok",
     "timestamp": 1614027965628,
     "user": {
      "displayName": "Raphael Reme",
      "photoUrl": "",
      "userId": "10536219480337117409"
     },
     "user_tz": -60
    },
    "id": "Yf8WWThYCmZX",
    "outputId": "7aa3b62d-623d-418d-b570-edbe7cb27681"
   },
   "outputs": [
    {
     "name": "stdout",
     "output_type": "stream",
     "text": [
      "Files already downloaded and verified\n",
      "Files already downloaded and verified\n"
     ]
    }
   ],
   "source": [
    "transform = transforms.Compose([\n",
    "    transforms.ToTensor(),\n",
    "    transforms.Normalize(mean, std),\n",
    "])\n",
    "\n",
    "X_train = torchvision.datasets.CIFAR10(root=DATA_FOLDER, train=True, transform=transform, download=True)\n",
    "X_test = torchvision.datasets.CIFAR10(root=DATA_FOLDER, train=False, transform=transform, download=True)\n",
    "\n",
    "# Rotation Datasets\n",
    "X_train_rot = RotationDataset(X_train)\n",
    "X_test_rot = RotationDataset(X_test)\n",
    "train_loader_rot = torch.utils.data.DataLoader(X_train_rot, 64, shuffle=True)\n",
    "test_loader_rot = torch.utils.data.DataLoader(X_test_rot, 128, shuffle=False)\n",
    "\n",
    "# Finetune Datasets\n",
    "X_train = SubDataset(X_train, range(100))\n",
    "X_val = SubDataset(X_test, range(200))\n",
    "X_test = SubDataset(X_test, range(200, len(X_test)))\n",
    "\n",
    "train_loader = torch.utils.data.DataLoader(X_train, 10, shuffle=True)\n",
    "val_loader = torch.utils.data.DataLoader(X_val, 128, shuffle=False)\n",
    "test_loader = torch.utils.data.DataLoader(X_test, 128, shuffle=False)"
   ]
  },
  {
   "cell_type": "code",
   "execution_count": 33,
   "metadata": {
    "id": "SguWwbROEpHl"
   },
   "outputs": [],
   "source": [
    "model = ResNet18().to(device)\n",
    "model.linear = nn.Linear(512, 4)\n",
    "optimizer = torch.optim.Adam(model.parameters(), lr=0.001)\n",
    "trainer = PytorchTrainer(model, optimizer, device, exp_dir=\"experiments/\", save_mode=\"best\")"
   ]
  },
  {
   "cell_type": "code",
   "execution_count": null,
   "metadata": {
    "colab": {
     "base_uri": "https://localhost:8080/"
    },
    "executionInfo": {
     "elapsed": 1691549,
     "status": "ok",
     "timestamp": 1614029677805,
     "user": {
      "displayName": "Raphael Reme",
      "photoUrl": "",
      "userId": "10536219480337117409"
     },
     "user_tz": -60
    },
    "id": "0IKh7FN4F5ca",
    "outputId": "c0cbb704-2ac8-44df-a0cf-20595ba547fc"
   },
   "outputs": [],
   "source": [
    "# Pretrained and take the model that performs the best over X_test\n",
    "# Train and select best. Has to train on more epochs\n",
    "\n",
    "trainer.train(20, train_loader_rot, criterion, val_loader=test_loader_rot, val_criterion=errors)\n",
    "model.load_state_dict(torch.load(f\"experiments/{trainer.best_epoch}.pt\"))"
   ]
  },
  {
   "cell_type": "code",
   "execution_count": 39,
   "metadata": {
    "colab": {
     "base_uri": "https://localhost:8080/"
    },
    "executionInfo": {
     "elapsed": 460,
     "status": "ok",
     "timestamp": 1614029774679,
     "user": {
      "displayName": "Raphael Reme",
      "photoUrl": "",
      "userId": "10536219480337117409"
     },
     "user_tz": -60
    },
    "id": "CGUnlNAYq8P0",
    "outputId": "ca6ef622-3d5f-425f-8c15-3bbe8b92d060"
   },
   "outputs": [
    {
     "data": {
      "text/plain": [
       "17"
      ]
     },
     "execution_count": 39,
     "metadata": {},
     "output_type": "execute_result"
    }
   ],
   "source": [
    "trainer.best_epoch"
   ]
  },
  {
   "cell_type": "code",
   "execution_count": 36,
   "metadata": {
    "id": "qthlyqm4GQAM"
   },
   "outputs": [],
   "source": [
    "model = FinetunedResnet(model, 10).to(device)\n",
    "optimizer = torch.optim.Adam(model.resnet.fc.parameters(), lr=0.01)\n",
    "trainer = PytorchTrainer(model, optimizer, device, exp_dir=\"experiments/\", save_mode=\"best\")"
   ]
  },
  {
   "cell_type": "code",
   "execution_count": null,
   "metadata": {
    "colab": {
     "base_uri": "https://localhost:8080/"
    },
    "executionInfo": {
     "elapsed": 10984,
     "status": "ok",
     "timestamp": 1614029827094,
     "user": {
      "displayName": "Raphael Reme",
      "photoUrl": "",
      "userId": "10536219480337117409"
     },
     "user_tz": -60
    },
    "id": "-qAE2by8HF3f",
    "outputId": "33d73140-db76-427d-a2f4-3bb0791042ce"
   },
   "outputs": [
    {
     "name": "stdout",
     "output_type": "stream",
     "text": [
      "Batch 10/10 --- Training loss 2.6446\n",
      "Batch 2/2 --- Validation loss 0.8450\n",
      "Epoch [0/20] --- Averaged training loss: 2.5593, Averaged validation loss: 0.8450\n",
      "Batch 10/10 --- Training loss 1.6780\n",
      "Batch 2/2 --- Validation loss 0.6850\n",
      "Epoch [1/20] --- Averaged training loss: 1.9071, Averaged validation loss: 0.6850\n",
      "Batch 10/10 --- Training loss 1.0872\n",
      "Batch 2/2 --- Validation loss 0.7150\n",
      "Epoch [2/20] --- Averaged training loss: 1.5625, Averaged validation loss: 0.7150\n",
      "Batch 10/10 --- Training loss 1.3430\n",
      "Batch 2/2 --- Validation loss 0.7450\n",
      "Epoch [3/20] --- Averaged training loss: 1.3397, Averaged validation loss: 0.7450\n",
      "Batch 10/10 --- Training loss 0.9610\n",
      "Batch 2/2 --- Validation loss 0.7450\n",
      "Epoch [4/20] --- Averaged training loss: 1.2131, Averaged validation loss: 0.7450\n",
      "Batch 10/10 --- Training loss 1.3593\n",
      "Batch 2/2 --- Validation loss 0.7550\n",
      "Epoch [5/20] --- Averaged training loss: 1.1164, Averaged validation loss: 0.7550\n",
      "Batch 10/10 --- Training loss 0.5091\n",
      "Batch 2/2 --- Validation loss 0.6900\n",
      "Epoch [6/20] --- Averaged training loss: 1.0422, Averaged validation loss: 0.6900\n",
      "Batch 10/10 --- Training loss 0.8594\n",
      "Batch 2/2 --- Validation loss 0.6800\n",
      "Epoch [7/20] --- Averaged training loss: 0.9399, Averaged validation loss: 0.6800\n",
      "Batch 10/10 --- Training loss 1.2761\n",
      "Batch 2/2 --- Validation loss 0.7050\n",
      "Epoch [8/20] --- Averaged training loss: 0.8383, Averaged validation loss: 0.7050\n",
      "Batch 10/10 --- Training loss 1.0928\n",
      "Batch 2/2 --- Validation loss 0.7050\n",
      "Epoch [9/20] --- Averaged training loss: 0.8628, Averaged validation loss: 0.7050\n",
      "Batch 10/10 --- Training loss 0.8126\n",
      "Batch 2/2 --- Validation loss 0.6850\n",
      "Epoch [10/20] --- Averaged training loss: 0.7339, Averaged validation loss: 0.6850\n",
      "Batch 10/10 --- Training loss 0.8312\n",
      "Batch 2/2 --- Validation loss 0.7650\n",
      "Epoch [11/20] --- Averaged training loss: 0.6871, Averaged validation loss: 0.7650\n",
      "Batch 10/10 --- Training loss 0.6364\n",
      "Batch 2/2 --- Validation loss 0.6900\n",
      "Epoch [12/20] --- Averaged training loss: 0.5982, Averaged validation loss: 0.6900\n",
      "Batch 10/10 --- Training loss 0.6659\n",
      "Batch 2/2 --- Validation loss 0.7050\n",
      "Epoch [13/20] --- Averaged training loss: 0.6313, Averaged validation loss: 0.7050\n",
      "Batch 10/10 --- Training loss 0.7113\n",
      "Batch 2/2 --- Validation loss 0.6600\n",
      "Epoch [14/20] --- Averaged training loss: 0.5634, Averaged validation loss: 0.6600\n",
      "Batch 10/10 --- Training loss 0.5578\n",
      "Batch 2/2 --- Validation loss 0.6950\n",
      "Epoch [15/20] --- Averaged training loss: 0.6118, Averaged validation loss: 0.6950\n",
      "Batch 10/10 --- Training loss 0.4050\n",
      "Batch 2/2 --- Validation loss 0.6800\n",
      "Epoch [16/20] --- Averaged training loss: 0.4864, Averaged validation loss: 0.6800\n",
      "Batch 10/10 --- Training loss 0.4904\n",
      "Batch 2/2 --- Validation loss 0.6750\n",
      "Epoch [17/20] --- Averaged training loss: 0.4206, Averaged validation loss: 0.6750\n",
      "Batch 10/10 --- Training loss 0.6125\n",
      "Batch 2/2 --- Validation loss 0.6750\n",
      "Epoch [18/20] --- Averaged training loss: 0.3890, Averaged validation loss: 0.6750\n",
      "Batch 10/10 --- Training loss 0.3840\n",
      "Batch 2/2 --- Validation loss 0.6600\n",
      "Epoch [19/20] --- Averaged training loss: 0.3676, Averaged validation loss: 0.6600\n",
      "Batch 10/10 --- Validation loss 0.0300\n",
      "Batch 77/77 --- Validation loss 0.6385\n",
      "Accuracy on train: 0.9700000047683716\n",
      "Accuracy on test: 0.36153061229355477\n"
     ]
    }
   ],
   "source": [
    "# Train only fc and select best\n",
    "\n",
    "trainer.train(20, train_loader, criterion, val_loader=val_loader, val_criterion=errors)\n",
    "model.load_state_dict(torch.load(f\"experiments/{trainer.best_epoch}.pt\"))\n",
    "\n",
    "# Accuracy\n",
    "train_accuracy = 1 - trainer.evaluate(train_loader, errors)\n",
    "accuracy = 1 - trainer.evaluate(test_loader, errors)\n",
    "\n",
    "print(\"Accuracy on train:\", train_accuracy)\n",
    "print(\"Accuracy on test:\", accuracy)"
   ]
  },
  {
   "cell_type": "code",
   "execution_count": null,
   "metadata": {
    "colab": {
     "base_uri": "https://localhost:8080/",
     "height": 295
    },
    "executionInfo": {
     "elapsed": 481,
     "status": "ok",
     "timestamp": 1614029945877,
     "user": {
      "displayName": "Raphael Reme",
      "photoUrl": "",
      "userId": "10536219480337117409"
     },
     "user_tz": -60
    },
    "id": "hzFreIzQMinO",
    "outputId": "383999eb-18ff-4eeb-bd9b-feb66db08eb3"
   },
   "outputs": [
    {
     "data": {
      "image/png": "[encoded data removed]",
      "text/plain": [
       "<Figure size 432x288 with 1 Axes>"
      ]
     },
     "metadata": {
      "needs_background": "light",
      "tags": []
     },
     "output_type": "display_data"
    }
   ],
   "source": [
    "plt.title(\"Evolution of training loss\")\n",
    "plt.plot(range(1, 21), trainer.losses[0])\n",
    "plt.xlabel(\"Epochs\")\n",
    "plt.show()"
   ]
  },
  {
   "cell_type": "code",
   "execution_count": null,
   "metadata": {
    "colab": {
     "base_uri": "https://localhost:8080/",
     "height": 295
    },
    "executionInfo": {
     "elapsed": 755,
     "status": "ok",
     "timestamp": 1614029969554,
     "user": {
      "displayName": "Raphael Reme",
      "photoUrl": "",
      "userId": "10536219480337117409"
     },
     "user_tz": -60
    },
    "id": "N3z5vPgErpsY",
    "outputId": "d24f8f14-a5b3-4d58-e0df-41aa62dc6e1c"
   },
   "outputs": [
    {
     "data": {
      "image/png": "[encoded data removed]",
      "text/plain": [
       "<Figure size 432x288 with 1 Axes>"
      ]
     },
     "metadata": {
      "needs_background": "light",
      "tags": []
     },
     "output_type": "display_data"
    }
   ],
   "source": [
    "plt.title(\"Evolution of validation accuracy\")\n",
    "plt.plot(range(1, 21), 1 - trainer.losses[1])\n",
    "plt.xlabel(\"Epochs\")\n",
    "plt.show()"
   ]
  },
  {
   "cell_type": "markdown",
   "metadata": {
    "id": "Ftv3WAR6ryv2"
   },
   "source": [
    "With this method we are able to reach around 36 percent of accuracy on the test set. We are able to use our unlabelled data to improve our results, but it requires more computationnal power. (We have train a model on the whole Cifar Dataset for 20 epochs here which is already a bit costly.)\n",
    "\n",
    "\n",
    "We have also tried a more promising method: FixMatch. (https://arxiv.org/pdf/2001.07685.pdf) We first believed this method to be computationnally friendly but it's not the case. It works well, but many epochs are expected in order to have good results. We inspired from the pytorch implementation from https://github.com/kekmodel/FixMatch-pytorch.\n",
    "\n",
    "Without waiting until the end of the training (and with the hyper parameters of the article) we are able to reach 78% of accuracy on the test set, which is our best result. Nonetheless this method is really time consuming, we could have maybe reduced the batch size to increase training speed, but we hadn't the time to really explore it."
   ]
  },
  {
   "cell_type": "code",
   "execution_count": 9,
   "metadata": {
    "executionInfo": {
     "elapsed": 885,
     "status": "ok",
     "timestamp": 1614260178830,
     "user": {
      "displayName": "Raphael Reme",
      "photoUrl": "",
      "userId": "10536219480337117409"
     },
     "user_tz": -60
    },
    "id": "bZmTFrCPbT8B"
   },
   "outputs": [],
   "source": [
    "# Code from https://github.com/kekmodel/FixMatch-pytorch: RandAugment\n",
    "\n",
    "# code in this file is adpated from\n",
    "# https://github.com/ildoonet/pytorch-randaugment/blob/master/RandAugment/augmentations.py\n",
    "# https://github.com/google-research/fixmatch/blob/master/third_party/auto_augment/augmentations.py\n",
    "# https://github.com/google-research/fixmatch/blob/master/libml/ctaugment.py\n",
    "import logging\n",
    "import random\n",
    "\n",
    "import numpy as np\n",
    "import PIL\n",
    "import PIL.ImageOps\n",
    "import PIL.ImageEnhance\n",
    "import PIL.ImageDraw\n",
    "from PIL import Image\n",
    "\n",
    "logger = logging.getLogger(__name__)\n",
    "\n",
    "PARAMETER_MAX = 10\n",
    "\n",
    "\n",
    "def AutoContrast(img, **kwarg):\n",
    "    return PIL.ImageOps.autocontrast(img)\n",
    "\n",
    "\n",
    "def Brightness(img, v, max_v, bias=0):\n",
    "    v = _float_parameter(v, max_v) + bias\n",
    "    return PIL.ImageEnhance.Brightness(img).enhance(v)\n",
    "\n",
    "\n",
    "def Color(img, v, max_v, bias=0):\n",
    "    v = _float_parameter(v, max_v) + bias\n",
    "    return PIL.ImageEnhance.Color(img).enhance(v)\n",
    "\n",
    "\n",
    "def Contrast(img, v, max_v, bias=0):\n",
    "    v = _float_parameter(v, max_v) + bias\n",
    "    return PIL.ImageEnhance.Contrast(img).enhance(v)\n",
    "\n",
    "\n",
    "def Cutout(img, v, max_v, bias=0):\n",
    "    if v == 0:\n",
    "        return img\n",
    "    v = _float_parameter(v, max_v) + bias\n",
    "    v = int(v * min(img.size))\n",
    "    return CutoutAbs(img, v)\n",
    "\n",
    "\n",
    "def CutoutAbs(img, v, **kwarg):\n",
    "    w, h = img.size\n",
    "    x0 = np.random.uniform(0, w)\n",
    "    y0 = np.random.uniform(0, h)\n",
    "    x0 = int(max(0, x0 - v / 2.))\n",
    "    y0 = int(max(0, y0 - v / 2.))\n",
    "    x1 = int(min(w, x0 + v))\n",
    "    y1 = int(min(h, y0 + v))\n",
    "    xy = (x0, y0, x1, y1)\n",
    "    # gray\n",
    "    color = (127, 127, 127)\n",
    "    img = img.copy()\n",
    "    PIL.ImageDraw.Draw(img).rectangle(xy, color)\n",
    "    return img\n",
    "\n",
    "\n",
    "def Equalize(img, **kwarg):\n",
    "    return PIL.ImageOps.equalize(img)\n",
    "\n",
    "\n",
    "def Identity(img, **kwarg):\n",
    "    return img\n",
    "\n",
    "\n",
    "def Invert(img, **kwarg):\n",
    "    return PIL.ImageOps.invert(img)\n",
    "\n",
    "\n",
    "def Posterize(img, v, max_v, bias=0):\n",
    "    v = _int_parameter(v, max_v) + bias\n",
    "    return PIL.ImageOps.posterize(img, v)\n",
    "\n",
    "\n",
    "def Rotate(img, v, max_v, bias=0):\n",
    "    v = _int_parameter(v, max_v) + bias\n",
    "    if random.random() < 0.5:\n",
    "        v = -v\n",
    "    return img.rotate(v)\n",
    "\n",
    "\n",
    "def Sharpness(img, v, max_v, bias=0):\n",
    "    v = _float_parameter(v, max_v) + bias\n",
    "    return PIL.ImageEnhance.Sharpness(img).enhance(v)\n",
    "\n",
    "\n",
    "def ShearX(img, v, max_v, bias=0):\n",
    "    v = _float_parameter(v, max_v) + bias\n",
    "    if random.random() < 0.5:\n",
    "        v = -v\n",
    "    return img.transform(img.size, PIL.Image.AFFINE, (1, v, 0, 0, 1, 0))\n",
    "\n",
    "\n",
    "def ShearY(img, v, max_v, bias=0):\n",
    "    v = _float_parameter(v, max_v) + bias\n",
    "    if random.random() < 0.5:\n",
    "        v = -v\n",
    "    return img.transform(img.size, PIL.Image.AFFINE, (1, 0, 0, v, 1, 0))\n",
    "\n",
    "\n",
    "def Solarize(img, v, max_v, bias=0):\n",
    "    v = _int_parameter(v, max_v) + bias\n",
    "    return PIL.ImageOps.solarize(img, 256 - v)\n",
    "\n",
    "\n",
    "def SolarizeAdd(img, v, max_v, bias=0, threshold=128):\n",
    "    v = _int_parameter(v, max_v) + bias\n",
    "    if random.random() < 0.5:\n",
    "        v = -v\n",
    "    img_np = np.array(img).astype(np.int)\n",
    "    img_np = img_np + v\n",
    "    img_np = np.clip(img_np, 0, 255)\n",
    "    img_np = img_np.astype(np.uint8)\n",
    "    img = Image.fromarray(img_np)\n",
    "    return PIL.ImageOps.solarize(img, threshold)\n",
    "\n",
    "\n",
    "def TranslateX(img, v, max_v, bias=0):\n",
    "    v = _float_parameter(v, max_v) + bias\n",
    "    if random.random() < 0.5:\n",
    "        v = -v\n",
    "    v = int(v * img.size[0])\n",
    "    return img.transform(img.size, PIL.Image.AFFINE, (1, 0, v, 0, 1, 0))\n",
    "\n",
    "\n",
    "def TranslateY(img, v, max_v, bias=0):\n",
    "    v = _float_parameter(v, max_v) + bias\n",
    "    if random.random() < 0.5:\n",
    "        v = -v\n",
    "    v = int(v * img.size[1])\n",
    "    return img.transform(img.size, PIL.Image.AFFINE, (1, 0, 0, 0, 1, v))\n",
    "\n",
    "\n",
    "def _float_parameter(v, max_v):\n",
    "    return float(v) * max_v / PARAMETER_MAX\n",
    "\n",
    "\n",
    "def _int_parameter(v, max_v):\n",
    "    return int(v * max_v / PARAMETER_MAX)\n",
    "\n",
    "\n",
    "def fixmatch_augment_pool():\n",
    "    # FixMatch paper\n",
    "    augs = [(AutoContrast, None, None),\n",
    "            (Brightness, 0.9, 0.05),\n",
    "            (Color, 0.9, 0.05),\n",
    "            (Contrast, 0.9, 0.05),\n",
    "            (Equalize, None, None),\n",
    "            (Identity, None, None),\n",
    "            (Posterize, 4, 4),\n",
    "            (Rotate, 30, 0),\n",
    "            (Sharpness, 0.9, 0.05),\n",
    "            (ShearX, 0.3, 0),\n",
    "            (ShearY, 0.3, 0),\n",
    "            (Solarize, 256, 0),\n",
    "            (TranslateX, 0.3, 0),\n",
    "            (TranslateY, 0.3, 0)]\n",
    "    return augs\n",
    "\n",
    "\n",
    "def my_augment_pool():\n",
    "    # Test\n",
    "    augs = [(AutoContrast, None, None),\n",
    "            (Brightness, 1.8, 0.1),\n",
    "            (Color, 1.8, 0.1),\n",
    "            (Contrast, 1.8, 0.1),\n",
    "            (Cutout, 0.2, 0),\n",
    "            (Equalize, None, None),\n",
    "            (Invert, None, None),\n",
    "            (Posterize, 4, 4),\n",
    "            (Rotate, 30, 0),\n",
    "            (Sharpness, 1.8, 0.1),\n",
    "            (ShearX, 0.3, 0),\n",
    "            (ShearY, 0.3, 0),\n",
    "            (Solarize, 256, 0),\n",
    "            (SolarizeAdd, 110, 0),\n",
    "            (TranslateX, 0.45, 0),\n",
    "            (TranslateY, 0.45, 0)]\n",
    "    return augs\n",
    "\n",
    "\n",
    "class RandAugmentPC(object):\n",
    "    def __init__(self, n, m):\n",
    "        assert n >= 1\n",
    "        assert 1 <= m <= 10\n",
    "        self.n = n\n",
    "        self.m = m\n",
    "        self.augment_pool = my_augment_pool()\n",
    "\n",
    "    def __call__(self, img):\n",
    "        ops = random.choices(self.augment_pool, k=self.n)\n",
    "        for op, max_v, bias in ops:\n",
    "            prob = np.random.uniform(0.2, 0.8)\n",
    "            if random.random() + prob >= 1:\n",
    "                img = op(img, v=self.m, max_v=max_v, bias=bias)\n",
    "        img = CutoutAbs(img, int(32*0.5))\n",
    "        return img\n",
    "\n",
    "\n",
    "class RandAugmentMC(object):\n",
    "    def __init__(self, n, m):\n",
    "        assert n >= 1\n",
    "        assert 1 <= m <= 10\n",
    "        self.n = n\n",
    "        self.m = m\n",
    "        self.augment_pool = fixmatch_augment_pool()\n",
    "\n",
    "    def __call__(self, img):\n",
    "        ops = random.choices(self.augment_pool, k=self.n)\n",
    "        for op, max_v, bias in ops:\n",
    "            v = np.random.randint(1, self.m)\n",
    "            if random.random() < 0.5:\n",
    "                img = op(img, v=v, max_v=max_v, bias=bias)\n",
    "        img = CutoutAbs(img, int(32*0.5))\n",
    "        return img"
   ]
  },
  {
   "cell_type": "code",
   "execution_count": 10,
   "metadata": {
    "executionInfo": {
     "elapsed": 595,
     "status": "ok",
     "timestamp": 1614260180683,
     "user": {
      "displayName": "Raphael Reme",
      "photoUrl": "",
      "userId": "10536219480337117409"
     },
     "user_tz": -60
    },
    "id": "J5tAphO2POSs"
   },
   "outputs": [],
   "source": [
    "# Code from https://github.com/kekmodel/FixMatch-pytorch (WideResNet)\n",
    "\n",
    "import logging\n",
    "\n",
    "import torch\n",
    "import torch.nn as nn\n",
    "import torch.nn.functional as F\n",
    "\n",
    "logger = logging.getLogger(__name__)\n",
    "\n",
    "\n",
    "def mish(x):\n",
    "    \"\"\"Mish: A Self Regularized Non-Monotonic Neural Activation Function (https://arxiv.org/abs/1908.08681)\"\"\"\n",
    "    return x * torch.tanh(F.softplus(x))\n",
    "\n",
    "\n",
    "class PSBatchNorm2d(nn.BatchNorm2d):\n",
    "    \"\"\"How Does BN Increase Collapsed Neural Network Filters? (https://arxiv.org/abs/2001.11216)\"\"\"\n",
    "\n",
    "    def __init__(self, num_features, alpha=0.1, eps=1e-05, momentum=0.001, affine=True, track_running_stats=True):\n",
    "        super().__init__(num_features, eps, momentum, affine, track_running_stats)\n",
    "        self.alpha = alpha\n",
    "\n",
    "    def forward(self, x):\n",
    "        return super().forward(x) + self.alpha\n",
    "\n",
    "\n",
    "class BasicBlock(nn.Module):\n",
    "    def __init__(self, in_planes, out_planes, stride, drop_rate=0.0, activate_before_residual=False):\n",
    "        super(BasicBlock, self).__init__()\n",
    "        self.bn1 = nn.BatchNorm2d(in_planes, momentum=0.001)\n",
    "        self.relu1 = nn.LeakyReLU(negative_slope=0.1, inplace=True)\n",
    "        self.conv1 = nn.Conv2d(in_planes, out_planes, kernel_size=3, stride=stride,\n",
    "                               padding=1, bias=False)\n",
    "        self.bn2 = nn.BatchNorm2d(out_planes, momentum=0.001)\n",
    "        self.relu2 = nn.LeakyReLU(negative_slope=0.1, inplace=True)\n",
    "        self.conv2 = nn.Conv2d(out_planes, out_planes, kernel_size=3, stride=1,\n",
    "                               padding=1, bias=False)\n",
    "        self.drop_rate = drop_rate\n",
    "        self.equalInOut = (in_planes == out_planes)\n",
    "        self.convShortcut = (not self.equalInOut) and nn.Conv2d(in_planes, out_planes, kernel_size=1, stride=stride,\n",
    "                                                                padding=0, bias=False) or None\n",
    "        self.activate_before_residual = activate_before_residual\n",
    "\n",
    "    def forward(self, x):\n",
    "        if not self.equalInOut and self.activate_before_residual == True:\n",
    "            x = self.relu1(self.bn1(x))\n",
    "        else:\n",
    "            out = self.relu1(self.bn1(x))\n",
    "        out = self.relu2(self.bn2(self.conv1(out if self.equalInOut else x)))\n",
    "        if self.drop_rate > 0:\n",
    "            out = F.dropout(out, p=self.drop_rate, training=self.training)\n",
    "        out = self.conv2(out)\n",
    "        return torch.add(x if self.equalInOut else self.convShortcut(x), out)\n",
    "\n",
    "\n",
    "class NetworkBlock(nn.Module):\n",
    "    def __init__(self, nb_layers, in_planes, out_planes, block, stride, drop_rate=0.0, activate_before_residual=False):\n",
    "        super(NetworkBlock, self).__init__()\n",
    "        self.layer = self._make_layer(\n",
    "            block, in_planes, out_planes, nb_layers, stride, drop_rate, activate_before_residual)\n",
    "\n",
    "    def _make_layer(self, block, in_planes, out_planes, nb_layers, stride, drop_rate, activate_before_residual):\n",
    "        layers = []\n",
    "        for i in range(int(nb_layers)):\n",
    "            layers.append(block(i == 0 and in_planes or out_planes, out_planes,\n",
    "                                i == 0 and stride or 1, drop_rate, activate_before_residual))\n",
    "        return nn.Sequential(*layers)\n",
    "\n",
    "    def forward(self, x):\n",
    "        return self.layer(x)\n",
    "\n",
    "\n",
    "class WideResNet(nn.Module):\n",
    "    def __init__(self, num_classes, depth=28, widen_factor=2, drop_rate=0.0):\n",
    "        super(WideResNet, self).__init__()\n",
    "        channels = [16, 16*widen_factor, 32*widen_factor, 64*widen_factor]\n",
    "        assert((depth - 4) % 6 == 0)\n",
    "        n = (depth - 4) / 6\n",
    "        block = BasicBlock\n",
    "        # 1st conv before any network block\n",
    "        self.conv1 = nn.Conv2d(3, channels[0], kernel_size=3, stride=1,\n",
    "                               padding=1, bias=False)\n",
    "        # 1st block\n",
    "        self.block1 = NetworkBlock(\n",
    "            n, channels[0], channels[1], block, 1, drop_rate, activate_before_residual=True)\n",
    "        # 2nd block\n",
    "        self.block2 = NetworkBlock(\n",
    "            n, channels[1], channels[2], block, 2, drop_rate)\n",
    "        # 3rd block\n",
    "        self.block3 = NetworkBlock(\n",
    "            n, channels[2], channels[3], block, 2, drop_rate)\n",
    "        # global average pooling and classifier\n",
    "        self.bn1 = nn.BatchNorm2d(channels[3], momentum=0.001)\n",
    "        self.relu = nn.LeakyReLU(negative_slope=0.1, inplace=True)\n",
    "        self.fc = nn.Linear(channels[3], num_classes)\n",
    "        self.channels = channels[3]\n",
    "\n",
    "        for m in self.modules():\n",
    "            if isinstance(m, nn.Conv2d):\n",
    "                nn.init.kaiming_normal_(m.weight,\n",
    "                                        mode='fan_out',\n",
    "                                        nonlinearity='leaky_relu')\n",
    "            elif isinstance(m, nn.BatchNorm2d):\n",
    "                nn.init.constant_(m.weight, 1.0)\n",
    "                nn.init.constant_(m.bias, 0.0)\n",
    "            elif isinstance(m, nn.Linear):\n",
    "                nn.init.xavier_normal_(m.weight)\n",
    "                nn.init.constant_(m.bias, 0.0)\n",
    "\n",
    "    def forward(self, x):\n",
    "        out = self.conv1(x)\n",
    "        out = self.block1(out)\n",
    "        out = self.block2(out)\n",
    "        out = self.block3(out)\n",
    "        out = self.relu(self.bn1(out))\n",
    "        out = F.adaptive_avg_pool2d(out, 1)\n",
    "        out = out.view(-1, self.channels)\n",
    "        return self.fc(out)\n",
    "\n",
    "\n",
    "def build_wideresnet(depth, widen_factor, dropout, num_classes):\n",
    "    logger.info(f\"Model: WideResNet {depth}x{widen_factor}\")\n",
    "    return WideResNet(depth=depth,\n",
    "                      widen_factor=widen_factor,\n",
    "                      drop_rate=dropout,\n",
    "                      num_classes=num_classes)"
   ]
  },
  {
   "cell_type": "code",
   "execution_count": 11,
   "metadata": {
    "executionInfo": {
     "elapsed": 592,
     "status": "ok",
     "timestamp": 1614260184100,
     "user": {
      "displayName": "Raphael Reme",
      "photoUrl": "",
      "userId": "10536219480337117409"
     },
     "user_tz": -60
    },
    "id": "4mggYQEKe0GU"
   },
   "outputs": [],
   "source": [
    "class TransformUnlabelled(object):\n",
    "    def __init__(self, mean, std):\n",
    "        self.weak = transforms.Compose([\n",
    "            transforms.RandomHorizontalFlip(),\n",
    "            transforms.RandomCrop(size=32,\n",
    "                                  padding=int(32*0.125),\n",
    "                                  padding_mode='reflect')])\n",
    "\n",
    "        self.strong = transforms.Compose([\n",
    "            transforms.RandomHorizontalFlip(),\n",
    "            transforms.RandomCrop(size=32,\n",
    "                                  padding=int(32*0.125),\n",
    "                                  padding_mode='reflect'),\n",
    "            RandAugmentMC(n=2, m=10)])\n",
    "        self.normalize = transforms.Compose([\n",
    "            transforms.ToTensor(),\n",
    "            transforms.Normalize(mean=mean, std=std)])\n",
    "\n",
    "    def __call__(self, x):\n",
    "        weak = self.weak(x)\n",
    "        strong = self.strong(x)\n",
    "        return self.normalize(weak), self.normalize(strong)\n",
    "\n",
    "transform_unlabelled = TransformUnlabelled(mean, std)\n",
    "\n",
    "transform_labelled = transforms.Compose([\n",
    "    transforms.RandomHorizontalFlip(),\n",
    "    transforms.RandomCrop(size=32, padding=int(32*0.125), padding_mode='reflect'),\n",
    "    transforms.ToTensor(),\n",
    "    transforms.Normalize(mean, std),\n",
    "])\n",
    "\n",
    "test_transform = transforms.Compose([\n",
    "    transforms.ToTensor(),\n",
    "    transforms.Normalize(mean, std),\n",
    "])"
   ]
  },
  {
   "cell_type": "code",
   "execution_count": 12,
   "metadata": {
    "colab": {
     "base_uri": "https://localhost:8080/"
    },
    "executionInfo": {
     "elapsed": 2890,
     "status": "ok",
     "timestamp": 1614260190043,
     "user": {
      "displayName": "Raphael Reme",
      "photoUrl": "",
      "userId": "10536219480337117409"
     },
     "user_tz": -60
    },
    "id": "WEG7aefcP6Eh",
    "outputId": "4c0fc257-6a72-469a-bbec-d91c3d8d4d7a"
   },
   "outputs": [
    {
     "name": "stdout",
     "output_type": "stream",
     "text": [
      "Files already downloaded and verified\n",
      "Files already downloaded and verified\n",
      "Files already downloaded and verified\n"
     ]
    }
   ],
   "source": [
    "X_train_l = torchvision.datasets.CIFAR10(root=DATA_FOLDER, train=True, download=True, transform=transform_labelled)\n",
    "X_train_u = torchvision.datasets.CIFAR10(root=DATA_FOLDER, train=True, download=True, transform=transform_unlabelled)\n",
    "X_test = torchvision.datasets.CIFAR10(root=DATA_FOLDER, train=False, download=True, transform=test_transform)\n",
    "\n",
    "X_train_l = SubDataset(X_train_l, range(100))\n",
    "X_train_u = SubDataset(X_train_u, range(100, len(X_train_u)))\n",
    "X_val = SubDataset(X_test, range(200))\n",
    "X_test = SubDataset(X_test, range(200, len(X_test)))\n",
    "\n",
    "train_loader_l = torch.utils.data.DataLoader(X_train_l, 64, shuffle=True, drop_last=True)\n",
    "train_loader_u = torch.utils.data.DataLoader(X_train_u, 64 * 7, shuffle=True, drop_last=True)\n",
    "val_loader = torch.utils.data.DataLoader(X_val, 128, shuffle=False)\n",
    "test_loader = torch.utils.data.DataLoader(X_test, 128, shuffle=False)"
   ]
  },
  {
   "cell_type": "code",
   "execution_count": 13,
   "metadata": {
    "executionInfo": {
     "elapsed": 646,
     "status": "ok",
     "timestamp": 1614260192364,
     "user": {
      "displayName": "Raphael Reme",
      "photoUrl": "",
      "userId": "10536219480337117409"
     },
     "user_tz": -60
    },
    "id": "1atwJVdnY4Gc"
   },
   "outputs": [],
   "source": [
    "def train_fix_match(n, model, loader_l, loader_u, optimizer, criterion, device):\n",
    "    model.train()\n",
    "    total_loss = 0\n",
    "    N = 0\n",
    "    iter_l = iter(loader_l)\n",
    "    iter_u = iter(loader_u)\n",
    "    for i in range(n):\n",
    "        try:\n",
    "            inputs_l, targets_l = next(iter_l)\n",
    "        except StopIteration:\n",
    "            iter_l = iter(loader_l)\n",
    "            inputs_l, targets_l = next(iter_l)\n",
    "        try:\n",
    "            (inputs_weak, inputs_strong), _ = next(iter_u)\n",
    "        except StopIteration:\n",
    "            iter_u = iter(loader_u)\n",
    "            (inputs_weak, inputs_strong), _ = next(iter_u)\n",
    "        inputs = torch.cat((inputs_l, inputs_weak, inputs_strong)).to(device)\n",
    "        targets_l = targets_l.to(device)\n",
    "\n",
    "        batch_size = targets_l.shape[0]\n",
    "        N += batch_size\n",
    "\n",
    "        predictions = model(inputs)\n",
    "        predictions_l = predictions[:batch_size]\n",
    "        predictions_weak = predictions[batch_size:batch_size + inputs_weak.shape[0]]\n",
    "        predictions_strong = predictions[-inputs_strong.shape[0]:]\n",
    "\n",
    "        loss_l = criterion(predictions_l, targets_l).mean()\n",
    "\n",
    "        predictions_weak = torch.softmax(predictions_weak.detach(), dim=1)\n",
    "        max_probs, targets_u = torch.max(predictions_weak, dim=1)\n",
    "        mask_u = (max_probs >= 0.95).float()\n",
    "\n",
    "        loss_u = (criterion(predictions_strong, targets_u) * mask_u).mean()\n",
    "\n",
    "        loss = loss_l + 1 * loss_u\n",
    "\n",
    "        optimizer.zero_grad()\n",
    "        loss.backward()\n",
    "        optimizer.step()\n",
    "\n",
    "        loss = loss.item()\n",
    "        total_loss += loss * batch_size\n",
    "\n",
    "        print(f\"\\rBatch {i+1}/{n} --- Training loss {loss:.4f} ({loss_l.item():.3f} + {loss_u.item():.3f})\", end=\"\", flush=True)\n",
    "    print(flush=True)\n",
    "    return total_loss\n",
    "\n",
    "def validate(model, dataloader, criterion, device):\n",
    "    model.eval()\n",
    "    with torch.no_grad():\n",
    "        loss = 0\n",
    "        N = 0\n",
    "\n",
    "        for i, (inputs, targets) in enumerate(dataloader):\n",
    "            inputs = inputs.to(device)\n",
    "            targets = targets.to(device)\n",
    "\n",
    "            batch_size = inputs.shape[0]\n",
    "            N += batch_size\n",
    "\n",
    "            predictions = model(inputs)\n",
    "            loss += criterion(predictions, targets).item() * batch_size\n",
    "\n",
    "            print(f\"\\rBatch {i+1}/{len(dataloader)} --- Validation loss {loss / N:.4f}\", end=\"\", flush=True)\n",
    "        print(flush=True)\n",
    "    return loss / N"
   ]
  },
  {
   "cell_type": "code",
   "execution_count": 14,
   "metadata": {
    "executionInfo": {
     "elapsed": 10733,
     "status": "ok",
     "timestamp": 1614260204999,
     "user": {
      "displayName": "Raphael Reme",
      "photoUrl": "",
      "userId": "10536219480337117409"
     },
     "user_tz": -60
    },
    "id": "OCQBR9cfn5mH"
   },
   "outputs": [],
   "source": [
    "model = build_wideresnet(28, 2, 0, 10)\n",
    "model.to(device)\n",
    "\n",
    "no_decay = ['bias', 'bn']\n",
    "grouped_parameters = [\n",
    "    {'params': [p for n, p in model.named_parameters() if not any(\n",
    "        nd in n for nd in no_decay)], 'weight_decay': 0.0005},\n",
    "    {'params': [p for n, p in model.named_parameters() if any(\n",
    "        nd in n for nd in no_decay)], 'weight_decay': 0.0}\n",
    "]\n",
    "\n",
    "optimizer = torch.optim.SGD(grouped_parameters, lr=0.03, momentum=0.9, nesterov=True)\n",
    "criterion = nn.CrossEntropyLoss(reduction=\"none\")"
   ]
  },
  {
   "cell_type": "code",
   "execution_count": 15,
   "metadata": {
    "colab": {
     "base_uri": "https://localhost:8080/"
    },
    "executionInfo": {
     "elapsed": 30163781,
     "status": "ok",
     "timestamp": 1614290363622,
     "user": {
      "displayName": "Raphael Reme",
      "photoUrl": "",
      "userId": "10536219480337117409"
     },
     "user_tz": -60
    },
    "id": "l4H7v1V2Y4aQ",
    "outputId": "1f413d02-b7ff-4a43-9738-67894ff89f9e"
   },
   "outputs": [
    {
     "name": "stdout",
     "output_type": "stream",
     "text": [
      "Batch 500/500 --- Training loss 0.2896 (0.010 + 0.279)\n",
      "Batch 2/2 --- Validation loss 0.8600\n",
      "Batch 500/500 --- Training loss 0.3394 (0.027 + 0.313)\n",
      "Batch 2/2 --- Validation loss 0.8550\n",
      "Batch 500/500 --- Training loss 0.2745 (0.005 + 0.269)\n",
      "Batch 2/2 --- Validation loss 0.7950\n",
      "Batch 500/500 --- Training loss 0.2713 (0.001 + 0.270)\n",
      "Batch 2/2 --- Validation loss 0.8250\n",
      "Batch 500/500 --- Training loss 0.2414 (0.004 + 0.237)\n",
      "Batch 2/2 --- Validation loss 0.8000\n",
      "Batch 500/500 --- Training loss 0.2670 (0.006 + 0.261)\n",
      "Batch 2/2 --- Validation loss 0.8350\n",
      "Batch 500/500 --- Training loss 0.2237 (0.003 + 0.221)\n",
      "Batch 2/2 --- Validation loss 0.7800\n",
      "Batch 500/500 --- Training loss 0.2691 (0.008 + 0.261)\n",
      "Batch 2/2 --- Validation loss 0.7900\n",
      "Batch 500/500 --- Training loss 0.2996 (0.002 + 0.298)\n",
      "Batch 2/2 --- Validation loss 0.7850\n",
      "Batch 500/500 --- Training loss 0.2086 (0.003 + 0.205)\n",
      "Batch 2/2 --- Validation loss 0.7900\n",
      "Batch 500/500 --- Training loss 0.2890 (0.010 + 0.279)\n",
      "Batch 2/2 --- Validation loss 0.7400\n",
      "Batch 500/500 --- Training loss 0.1831 (0.002 + 0.181)\n",
      "Batch 2/2 --- Validation loss 0.6950\n",
      "Batch 500/500 --- Training loss 0.2062 (0.001 + 0.205)\n",
      "Batch 2/2 --- Validation loss 0.7200\n",
      "Batch 500/500 --- Training loss 0.2080 (0.004 + 0.204)\n",
      "Batch 2/2 --- Validation loss 0.6500\n",
      "Batch 500/500 --- Training loss 0.2420 (0.002 + 0.240)\n",
      "Batch 2/2 --- Validation loss 0.6450\n",
      "Batch 500/500 --- Training loss 0.1929 (0.002 + 0.191)\n",
      "Batch 2/2 --- Validation loss 0.5700\n",
      "Batch 500/500 --- Training loss 0.2526 (0.001 + 0.252)\n",
      "Batch 2/2 --- Validation loss 0.5950\n",
      "Batch 500/500 --- Training loss 0.1926 (0.001 + 0.192)\n",
      "Batch 2/2 --- Validation loss 0.5450\n",
      "Batch 500/500 --- Training loss 0.3322 (0.097 + 0.236)\n",
      "Batch 2/2 --- Validation loss 0.6300\n",
      "Batch 500/500 --- Training loss 0.2179 (0.002 + 0.216)\n",
      "Batch 2/2 --- Validation loss 0.4900\n",
      "Batch 500/500 --- Training loss 0.2662 (0.001 + 0.266)\n",
      "Batch 2/2 --- Validation loss 0.4700\n",
      "Batch 500/500 --- Training loss 0.2341 (0.002 + 0.232)\n",
      "Batch 2/2 --- Validation loss 0.4550\n",
      "Batch 500/500 --- Training loss 0.1782 (0.001 + 0.177)\n",
      "Batch 2/2 --- Validation loss 0.5000\n",
      "Batch 500/500 --- Training loss 0.1815 (0.001 + 0.181)\n",
      "Batch 2/2 --- Validation loss 0.4100\n",
      "Batch 500/500 --- Training loss 0.2349 (0.001 + 0.234)\n",
      "Batch 2/2 --- Validation loss 0.4000\n",
      "Batch 500/500 --- Training loss 0.1650 (0.001 + 0.164)\n",
      "Batch 2/2 --- Validation loss 0.3950\n",
      "Batch 500/500 --- Training loss 0.1750 (0.002 + 0.173)\n",
      "Batch 2/2 --- Validation loss 0.3500\n",
      "Batch 500/500 --- Training loss 0.2195 (0.001 + 0.218)\n",
      "Batch 2/2 --- Validation loss 0.3950\n",
      "Batch 500/500 --- Training loss 0.2336 (0.000 + 0.233)\n",
      "Batch 2/2 --- Validation loss 0.3350\n",
      "Batch 500/500 --- Training loss 0.2031 (0.000 + 0.203)\n",
      "Batch 2/2 --- Validation loss 0.3450\n",
      "Batch 500/500 --- Training loss 0.2322 (0.001 + 0.231)\n",
      "Batch 2/2 --- Validation loss 0.3250\n",
      "Batch 500/500 --- Training loss 0.1775 (0.002 + 0.176)\n",
      "Batch 2/2 --- Validation loss 0.3050\n",
      "Batch 500/500 --- Training loss 0.2697 (0.001 + 0.269)\n",
      "Batch 2/2 --- Validation loss 0.2600\n",
      "Batch 500/500 --- Training loss 0.2243 (0.000 + 0.224)\n",
      "Batch 2/2 --- Validation loss 0.3100\n",
      "Batch 500/500 --- Training loss 0.1727 (0.001 + 0.172)\n",
      "Batch 2/2 --- Validation loss 0.2800\n",
      "Batch 500/500 --- Training loss 0.1803 (0.001 + 0.180)\n",
      "Batch 2/2 --- Validation loss 0.3000\n",
      "Batch 500/500 --- Training loss 0.1832 (0.002 + 0.181)\n",
      "Batch 2/2 --- Validation loss 0.3100\n",
      "Batch 500/500 --- Training loss 0.2187 (0.001 + 0.218)\n",
      "Batch 2/2 --- Validation loss 0.2800\n",
      "Batch 500/500 --- Training loss 0.2266 (0.001 + 0.226)\n",
      "Batch 2/2 --- Validation loss 0.2900\n",
      "Batch 500/500 --- Training loss 0.2070 (0.001 + 0.206)\n",
      "Batch 2/2 --- Validation loss 0.3550\n",
      "Batch 500/500 --- Training loss 0.2306 (0.002 + 0.229)\n",
      "Batch 2/2 --- Validation loss 0.3850\n",
      "Batch 500/500 --- Training loss 0.2426 (0.000 + 0.242)\n",
      "Batch 2/2 --- Validation loss 0.2650\n",
      "Batch 500/500 --- Training loss 0.2085 (0.000 + 0.208)\n",
      "Batch 2/2 --- Validation loss 0.3250\n",
      "Batch 500/500 --- Training loss 0.1910 (0.000 + 0.191)\n",
      "Batch 2/2 --- Validation loss 0.3200\n",
      "Batch 500/500 --- Training loss 0.2605 (0.001 + 0.260)\n",
      "Batch 2/2 --- Validation loss 0.2450\n",
      "Batch 500/500 --- Training loss 0.1258 (0.000 + 0.125)\n",
      "Batch 2/2 --- Validation loss 0.2200\n",
      "Batch 500/500 --- Training loss 0.1590 (0.001 + 0.158)\n",
      "Batch 2/2 --- Validation loss 0.2550\n",
      "Batch 500/500 --- Training loss 0.1970 (0.000 + 0.197)\n",
      "Batch 2/2 --- Validation loss 0.2500\n",
      "Batch 500/500 --- Training loss 0.2340 (0.000 + 0.234)\n",
      "Batch 2/2 --- Validation loss 0.2350\n",
      "Batch 500/500 --- Training loss 0.1718 (0.000 + 0.172)\n",
      "Batch 2/2 --- Validation loss 0.3050\n"
     ]
    }
   ],
   "source": [
    "for i in range(50):  # Should save the best model and do more epochs (around 600 epochs)\n",
    "    train_fix_match(500, model, train_loader_l, train_loader_u, optimizer, criterion, device)\n",
    "    validate(model, val_loader, errors, device)"
   ]
  },
  {
   "cell_type": "code",
   "execution_count": 20,
   "metadata": {
    "colab": {
     "base_uri": "https://localhost:8080/"
    },
    "executionInfo": {
     "elapsed": 4400,
     "status": "ok",
     "timestamp": 1614290464864,
     "user": {
      "displayName": "Raphael Reme",
      "photoUrl": "",
      "userId": "10536219480337117409"
     },
     "user_tz": -60
    },
    "id": "HMLTzsCwY4dT",
    "outputId": "1e1db7f1-86a2-44bc-fcaf-f121b1741d62"
   },
   "outputs": [
    {
     "name": "stdout",
     "output_type": "stream",
     "text": [
      "Batch 77/77 --- Validation loss 0.2210\n",
      "Accuracy 0.7789795920313621\n"
     ]
    }
   ],
   "source": [
    "print(\"Accuracy\", 1 - validate(model, test_loader, errors, device))"
   ]
  }
 ],
 "metadata": {
  "accelerator": "GPU",
  "colab": {
   "collapsed_sections": [],
   "name": "TP4_transfer.ipynb",
   "provenance": [],
   "toc_visible": true
  },
  "kernelspec": {
   "display_name": "dlip",
   "language": "python",
   "name": "dlip"
  },
  "language_info": {
   "codemirror_mode": {
    "name": "ipython",
    "version": 3
   },
   "file_extension": ".py",
   "mimetype": "text/x-python",
   "name": "python",
   "nbconvert_exporter": "python",
   "pygments_lexer": "ipython3",
   "version": "3.8.5"
  },
  "widgets": {
   "application/vnd.jupyter.widget-state+json": {
    "38a7303c04344036b1d8baa4cd39ef2f": {
     "model_module": "@jupyter-widgets/base",
     "model_name": "LayoutModel",
     "state": {
      "_model_module": "@jupyter-widgets/base",
      "_model_module_version": "1.2.0",
      "_model_name": "LayoutModel",
      "_view_count": null,
      "_view_module": "@jupyter-widgets/base",
      "_view_module_version": "1.2.0",
      "_view_name": "LayoutView",
      "align_content": null,
      "align_items": null,
      "align_self": null,
      "border": null,
      "bottom": null,
      "display": null,
      "flex": null,
      "flex_flow": null,
      "grid_area": null,
      "grid_auto_columns": null,
      "grid_auto_flow": null,
      "grid_auto_rows": null,
      "grid_column": null,
      "grid_gap": null,
      "grid_row": null,
      "grid_template_areas": null,
      "grid_template_columns": null,
      "grid_template_rows": null,
      "height": null,
      "justify_content": null,
      "justify_items": null,
      "left": null,
      "margin": null,
      "max_height": null,
      "max_width": null,
      "min_height": null,
      "min_width": null,
      "object_fit": null,
      "object_position": null,
      "order": null,
      "overflow": null,
      "overflow_x": null,
      "overflow_y": null,
      "padding": null,
      "right": null,
      "top": null,
      "visibility": null,
      "width": null
     }
    },
    "4c30200515234c5baf0d70a08872d078": {
     "model_module": "@jupyter-widgets/base",
     "model_name": "LayoutModel",
     "state": {
      "_model_module": "@jupyter-widgets/base",
      "_model_module_version": "1.2.0",
      "_model_name": "LayoutModel",
      "_view_count": null,
      "_view_module": "@jupyter-widgets/base",
      "_view_module_version": "1.2.0",
      "_view_name": "LayoutView",
      "align_content": null,
      "align_items": null,
      "align_self": null,
      "border": null,
      "bottom": null,
      "display": null,
      "flex": null,
      "flex_flow": null,
      "grid_area": null,
      "grid_auto_columns": null,
      "grid_auto_flow": null,
      "grid_auto_rows": null,
      "grid_column": null,
      "grid_gap": null,
      "grid_row": null,
      "grid_template_areas": null,
      "grid_template_columns": null,
      "grid_template_rows": null,
      "height": null,
      "justify_content": null,
      "justify_items": null,
      "left": null,
      "margin": null,
      "max_height": null,
      "max_width": null,
      "min_height": null,
      "min_width": null,
      "object_fit": null,
      "object_position": null,
      "order": null,
      "overflow": null,
      "overflow_x": null,
      "overflow_y": null,
      "padding": null,
      "right": null,
      "top": null,
      "visibility": null,
      "width": null
     }
    },
    "6bddbcf4decf4bb0a16efcab656bb1ee": {
     "model_module": "@jupyter-widgets/controls",
     "model_name": "ProgressStyleModel",
     "state": {
      "_model_module": "@jupyter-widgets/controls",
      "_model_module_version": "1.5.0",
      "_model_name": "ProgressStyleModel",
      "_view_count": null,
      "_view_module": "@jupyter-widgets/base",
      "_view_module_version": "1.2.0",
      "_view_name": "StyleView",
      "bar_color": null,
      "description_width": "initial"
     }
    },
    "982516752474444daced5bf0ee7b8238": {
     "model_module": "@jupyter-widgets/controls",
     "model_name": "DescriptionStyleModel",
     "state": {
      "_model_module": "@jupyter-widgets/controls",
      "_model_module_version": "1.5.0",
      "_model_name": "DescriptionStyleModel",
      "_view_count": null,
      "_view_module": "@jupyter-widgets/base",
      "_view_module_version": "1.2.0",
      "_view_name": "StyleView",
      "description_width": ""
     }
    },
    "b98494883f7144468c7bfc2eec7417a9": {
     "model_module": "@jupyter-widgets/controls",
     "model_name": "FloatProgressModel",
     "state": {
      "_dom_classes": [],
      "_model_module": "@jupyter-widgets/controls",
      "_model_module_version": "1.5.0",
      "_model_name": "FloatProgressModel",
      "_view_count": null,
      "_view_module": "@jupyter-widgets/controls",
      "_view_module_version": "1.5.0",
      "_view_name": "ProgressView",
      "bar_style": "info",
      "description": "",
      "description_tooltip": null,
      "layout": "IPY_MODEL_4c30200515234c5baf0d70a08872d078",
      "max": 1,
      "min": 0,
      "orientation": "horizontal",
      "style": "IPY_MODEL_6bddbcf4decf4bb0a16efcab656bb1ee",
      "value": 1
     }
    },
    "c94a59e5e6254594b1f47b522ff83aaa": {
     "model_module": "@jupyter-widgets/base",
     "model_name": "LayoutModel",
     "state": {
      "_model_module": "@jupyter-widgets/base",
      "_model_module_version": "1.2.0",
      "_model_name": "LayoutModel",
      "_view_count": null,
      "_view_module": "@jupyter-widgets/base",
      "_view_module_version": "1.2.0",
      "_view_name": "LayoutView",
      "align_content": null,
      "align_items": null,
      "align_self": null,
      "border": null,
      "bottom": null,
      "display": null,
      "flex": null,
      "flex_flow": null,
      "grid_area": null,
      "grid_auto_columns": null,
      "grid_auto_flow": null,
      "grid_auto_rows": null,
      "grid_column": null,
      "grid_gap": null,
      "grid_row": null,
      "grid_template_areas": null,
      "grid_template_columns": null,
      "grid_template_rows": null,
      "height": null,
      "justify_content": null,
      "justify_items": null,
      "left": null,
      "margin": null,
      "max_height": null,
      "max_width": null,
      "min_height": null,
      "min_width": null,
      "object_fit": null,
      "object_position": null,
      "order": null,
      "overflow": null,
      "overflow_x": null,
      "overflow_y": null,
      "padding": null,
      "right": null,
      "top": null,
      "visibility": null,
      "width": null
     }
    },
    "e14a876a1ab54a88b73d78754fa6faec": {
     "model_module": "@jupyter-widgets/controls",
     "model_name": "HTMLModel",
     "state": {
      "_dom_classes": [],
      "_model_module": "@jupyter-widgets/controls",
      "_model_module_version": "1.5.0",
      "_model_name": "HTMLModel",
      "_view_count": null,
      "_view_module": "@jupyter-widgets/controls",
      "_view_module_version": "1.5.0",
      "_view_name": "HTMLView",
      "description": "",
      "description_tooltip": null,
      "layout": "IPY_MODEL_c94a59e5e6254594b1f47b522ff83aaa",
      "placeholder": "​",
      "style": "IPY_MODEL_982516752474444daced5bf0ee7b8238",
      "value": " 170500096/? [00:20&lt;00:00, 83735791.82it/s]"
     }
    },
    "e94bb0ee36bd41108712ab2fde2f3321": {
     "model_module": "@jupyter-widgets/controls",
     "model_name": "HBoxModel",
     "state": {
      "_dom_classes": [],
      "_model_module": "@jupyter-widgets/controls",
      "_model_module_version": "1.5.0",
      "_model_name": "HBoxModel",
      "_view_count": null,
      "_view_module": "@jupyter-widgets/controls",
      "_view_module_version": "1.5.0",
      "_view_name": "HBoxView",
      "box_style": "",
      "children": [
       "IPY_MODEL_b98494883f7144468c7bfc2eec7417a9",
       "IPY_MODEL_e14a876a1ab54a88b73d78754fa6faec"
      ],
      "layout": "IPY_MODEL_38a7303c04344036b1d8baa4cd39ef2f"
     }
    }
   }
  }
 },
 "nbformat": 4,
 "nbformat_minor": 1
}
